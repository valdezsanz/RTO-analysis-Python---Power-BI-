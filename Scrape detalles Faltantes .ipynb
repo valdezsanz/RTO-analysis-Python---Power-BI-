{
 "cells": [
  {
   "cell_type": "code",
   "execution_count": 1,
   "id": "026e4f8d",
   "metadata": {},
   "outputs": [],
   "source": [
    "import pandas as pd "
   ]
  },
  {
   "cell_type": "code",
   "execution_count": 4,
   "id": "47c07a68",
   "metadata": {},
   "outputs": [],
   "source": [
    "planillas_hist=pd.read_csv('vehiculos_sin_modelo.csv',index_col=0)"
   ]
  },
  {
   "cell_type": "markdown",
   "id": "86d5a998",
   "metadata": {},
   "source": [
    "# Importar librerias"
   ]
  },
  {
   "cell_type": "code",
   "execution_count": 6,
   "id": "1b76b535",
   "metadata": {},
   "outputs": [],
   "source": [
    "import time "
   ]
  },
  {
   "cell_type": "code",
   "execution_count": 7,
   "id": "d90056db",
   "metadata": {},
   "outputs": [],
   "source": [
    "import requests"
   ]
  },
  {
   "cell_type": "code",
   "execution_count": 8,
   "id": "a2879774",
   "metadata": {},
   "outputs": [],
   "source": [
    "from tqdm.notebook import tqdm"
   ]
  },
  {
   "cell_type": "code",
   "execution_count": 9,
   "id": "c2fdd83a",
   "metadata": {},
   "outputs": [],
   "source": [
    "from bs4 import BeautifulSoup"
   ]
  },
  {
   "cell_type": "markdown",
   "id": "e117a1e7",
   "metadata": {},
   "source": [
    "# Definir funciones"
   ]
  },
  {
   "cell_type": "markdown",
   "id": "dd83ef09",
   "metadata": {},
   "source": [
    "Request detalles de revision"
   ]
  },
  {
   "cell_type": "code",
   "execution_count": 10,
   "id": "2457fb76",
   "metadata": {},
   "outputs": [],
   "source": [
    "def get_detalles(nro,codTaller,versionRTO):#input is in string format \n",
    "    global soup\n",
    "    url = \"https://rto.cent.gov.ar/rto/RTO/verDetallePlanillaRevision\"\n",
    "\n",
    "    payload = \"nroPlanilla=\"+nro+\"&codTaller=\"+codTaller+\"&versionRTO=\"+versionRTO\n",
    "    headers = {\n",
    "        \"User-Agent\": \"Mozilla/5.0 (Windows NT 10.0; Win64; x64; rv:108.0) Gecko/20100101 Firefox/108.0\",\n",
    "        \"Accept\": \"text/javascript, text/html, application/xml, text/xml, */*\",\n",
    "        \"Accept-Language\": \"es-AR,es;q=0.8,en-US;q=0.5,en;q=0.3\",\n",
    "        \"Accept-Encoding\": \"gzip, deflate, br\",\n",
    "        \"X-Requested-With\": \"XMLHttpRequest\",\n",
    "        \"X-Prototype-Version\": \"1.6.1\",\n",
    "        \"Content-type\": \"application/x-www-form-urlencoded; charset=UTF-8\",\n",
    "        \"Origin\": \"https://rto.cent.gov.ar\",\n",
    "        \"Connection\": \"keep-alive\",\n",
    "        \"Referer\": \"https://rto.cent.gov.ar/rto/RTO/planillaDiaria\",\n",
    "        \"Cookie\": cookie,\n",
    "        \"Sec-Fetch-Dest\": \"empty\",\n",
    "        \"Sec-Fetch-Mode\": \"cors\",\n",
    "        \"Sec-Fetch-Site\": \"same-origin\"\n",
    "    }\n",
    "\n",
    "    response = requests.request(\"POST\", url, data=payload, headers=headers)\n",
    "    #print response text (test)\n",
    "    #print(response.text)\n",
    "    soup=BeautifulSoup(response.text,'lxml')"
   ]
  },
  {
   "cell_type": "markdown",
   "id": "ee22e29d",
   "metadata": {},
   "source": [
    "Limpiar soup para detalles "
   ]
  },
  {
   "cell_type": "code",
   "execution_count": 11,
   "id": "832daac1",
   "metadata": {},
   "outputs": [],
   "source": [
    "def clean_data(tag):# returns a list of values: tags\n",
    "        tags_datos=soup.select(tag) #data is inside the tag td\n",
    "        global datos\n",
    "        datos=[] \n",
    "        for data in tags_datos:\n",
    "            datos.append(data.get_text(strip=True)) #make a list with the values \n",
    "        return(datos)"
   ]
  },
  {
   "cell_type": "markdown",
   "id": "8ce43d3f",
   "metadata": {},
   "source": [
    "Limpiar soup para anomalias "
   ]
  },
  {
   "cell_type": "code",
   "execution_count": 12,
   "id": "0f7a3a99",
   "metadata": {},
   "outputs": [],
   "source": [
    "def clean_data_anomalias(tag_anomalias):# returns a list of values: tags\n",
    "        tags_datos_anomalias=soup.select(tag_anomalias) #data is inside the tag td\n",
    "        global datos_anomalias\n",
    "        datos_anomalias=[] \n",
    "        for data in tags_datos_anomalias:\n",
    "            datos_anomalias.append(data.get_text(strip=True)) #make a list with the values \n",
    "        return(datos_anomalias)"
   ]
  },
  {
   "cell_type": "markdown",
   "id": "3354c5d4",
   "metadata": {},
   "source": [
    "Crear lista de diccionarios con los detalles: cada diccionario es una fila "
   ]
  },
  {
   "cell_type": "code",
   "execution_count": 13,
   "id": "0603589e",
   "metadata": {},
   "outputs": [],
   "source": [
    "def create_rows_detalles():\n",
    "    global df\n",
    "    global rows\n",
    "    #make dictionary with only the relevant elements \n",
    "    #Search Label in the list,if it doesnt exist, returns empty string \n",
    "    if 'Número:'in datos:\n",
    "        Planilla=datos[datos.index('Número:')+1]\n",
    "    else:\n",
    "        Planilla=''\n",
    "    if 'Dominio:'in datos:\n",
    "        Dominio=datos[datos.index('Dominio:')+1]\n",
    "    else:\n",
    "        Dominio=''\n",
    "    if 'Año Modelo:'in datos:\n",
    "        Modelo=datos[datos.index('Año Modelo:')+1]\n",
    "    else:\n",
    "        Modelo=''\n",
    "    if 'Convenio:'in datos:\n",
    "        Convenio=datos[datos.index('Convenio:')+1]\n",
    "    else:\n",
    "        Convenio=''\n",
    "    if 'Resultado:'in datos:\n",
    "        Resultado=datos[datos.index('Resultado:')+1]\n",
    "    else:\n",
    "        Resultado=''\n",
    "\n",
    "\n",
    "    rows.append({'Planilla':Planilla,\n",
    "     'Dominio:':Dominio,\n",
    "     'Modelo':Modelo,\n",
    "     'Convenio:':Convenio,\n",
    "     'Resultado':Resultado\n",
    "    })#make dict "
   ]
  },
  {
   "cell_type": "markdown",
   "id": "0d72d73e",
   "metadata": {},
   "source": [
    "Crear lista de anomalias:Para cada anomalia es una fila"
   ]
  },
  {
   "cell_type": "code",
   "execution_count": 14,
   "id": "690c566b",
   "metadata": {},
   "outputs": [],
   "source": [
    "def create_rows_anomalias(nro_planilla):\n",
    "    global df_anomalias\n",
    "    global rows_anomalias\n",
    "    if len(datos_anomalias)>0:\n",
    "        a=int(0)\n",
    "        for i in range (0,int((len(datos_anomalias))/4)):\n",
    "            rows_anomalias.append([nro_planilla,datos_anomalias[a],datos_anomalias[a+1],datos_anomalias[a+2],datos_anomalias[a+3]])\n",
    "            a+=int(4)\n",
    "    else:\n",
    "        rows_anomalias.append([nro_planilla,None,None,None,None])"
   ]
  },
  {
   "cell_type": "markdown",
   "id": "90bd7cc2",
   "metadata": {},
   "source": [
    "Crear dataframe (df) de detalles "
   ]
  },
  {
   "cell_type": "code",
   "execution_count": 15,
   "id": "6d70be33",
   "metadata": {},
   "outputs": [],
   "source": [
    "def create_df_detalles():# returns a dataframe df \n",
    "    global df \n",
    "    df=pd.DataFrame(rows)\n",
    "    return(df)"
   ]
  },
  {
   "cell_type": "markdown",
   "id": "26fdd3b9",
   "metadata": {},
   "source": [
    "Crear dataframe (df_anomalias) de anomalias"
   ]
  },
  {
   "cell_type": "code",
   "execution_count": 16,
   "id": "fe80fdbf",
   "metadata": {},
   "outputs": [],
   "source": [
    "def create_df_anomalias():# returns a dataframe df \n",
    "    global columns_anomalias\n",
    "    global df_anomalias \n",
    "    columns_anomalias=['Planilla','Código','Gravedad','Descripción','Observaciones']\n",
    "    df_anomalias=pd.DataFrame()\n",
    "    df_anomalias=pd.DataFrame(rows_anomalias,columns=columns_anomalias)\n",
    "    return(df_anomalias)"
   ]
  },
  {
   "cell_type": "markdown",
   "id": "e440578a",
   "metadata": {},
   "source": [
    "Utilizando las funciones anteriores. las unimos en una unica funcion. Iteramos en la lista de Nroplanillas y nroTaller"
   ]
  },
  {
   "cell_type": "markdown",
   "id": "ef7d9774",
   "metadata": {},
   "source": [
    "#  FUNCION SCRAPE"
   ]
  },
  {
   "cell_type": "code",
   "execution_count": 17,
   "id": "fd76b143",
   "metadata": {},
   "outputs": [],
   "source": [
    "def scrape(lista_planillas):\n",
    "    global rows\n",
    "    global rows_anomalias\n",
    "    rows=[]\n",
    "    rows_anomalias=[] \n",
    "    tag='label'#tag detalles planilla  \n",
    "    tag_anomalias='td'#tag anomalias\n",
    "    for i in tqdm(lista_planillas):\n",
    "        get_detalles(str(i[0]),str(i[1]),str(i[2]))\n",
    "        clean_data(tag)\n",
    "        create_rows_detalles()\n",
    "        clean_data_anomalias(tag_anomalias)\n",
    "        create_rows_anomalias(i[0])\n",
    "    create_df_detalles()# returns dataframe df\n",
    "    create_df_anomalias()#returns dataframe df_anomalias de anomalias \n",
    "    return([df['Planilla'].nunique(),df_anomalias['Planilla'].nunique()])"
   ]
  },
  {
   "cell_type": "code",
   "execution_count": 18,
   "id": "1d0086a7",
   "metadata": {},
   "outputs": [],
   "source": [
    "def scrape_test(lista_planillas):\n",
    "    global rows\n",
    "    global rows_anomalias\n",
    "    rows=[]\n",
    "    rows_anomalias=[] \n",
    "    tag='label'#tag detalles planilla  \n",
    "    tag_anomalias='td'#tag anomalias\n",
    "    for nro_planilla in tqdm(lista_planillas):\n",
    "        get_detalles(nro_planilla[0],str(nro_planilla[1]))\n",
    "        clean_data(tag)\n",
    "        create_rows_detalles()\n",
    "        clean_data_anomalias(tag_anomalias)\n",
    "        create_rows_anomalias(nro_planilla[0])\n",
    "    create_df_detalles()# returns dataframe df\n",
    "    create_df_anomalias()#returns dataframe df_anomalias de anomalias \n",
    "    return([df['Planilla'].nunique(),df_anomalias['Planilla'].nunique()])"
   ]
  },
  {
   "cell_type": "markdown",
   "id": "93dddea3",
   "metadata": {},
   "source": [
    "Guardar los dataframes en archivos .csv"
   ]
  },
  {
   "cell_type": "code",
   "execution_count": 44,
   "id": "a87bfae5",
   "metadata": {},
   "outputs": [],
   "source": [
    "def to_csv(num):\n",
    "    filename=str(num)+'planillas.detalle.faltante'\n",
    "    df.to_csv(filename)\n",
    "    filename2=str(num)+'Anomalias.faltante'\n",
    "    df_anomalias.to_csv(filename2)"
   ]
  },
  {
   "cell_type": "markdown",
   "id": "c0027cdb",
   "metadata": {},
   "source": [
    "Dividimos la lista de planillas en N listas. En caso de error no perdemos todo "
   ]
  },
  {
   "cell_type": "code",
   "execution_count": 45,
   "id": "4cb6b2e7",
   "metadata": {},
   "outputs": [],
   "source": [
    "def div_lista(lista,part):\n",
    "    global lista_part\n",
    "    n=int(len(lista)/part)\n",
    "    lista_part=[lista[i:i+n]for i in range(0,len(lista),n)]\n",
    "    return(lista_part)\n",
    "    \n",
    "    "
   ]
  },
  {
   "cell_type": "markdown",
   "id": "c1a33856",
   "metadata": {},
   "source": [
    "Definimos una nueva funcion Scrape que crea un csv por cada particion de la lista de planillas. Esto nos ayuda a no tener que comenzar de 0 si el server se cae o se corta internet "
   ]
  },
  {
   "cell_type": "code",
   "execution_count": 46,
   "id": "fe9d4abd",
   "metadata": {},
   "outputs": [],
   "source": [
    "def scrape_part(lista,part,start):\n",
    "    div_lista(lista,part)\n",
    "    for i in tqdm(range(0+start,part)):\n",
    "        scrape(lista_part[i])\n",
    "        to_csv(i)\n"
   ]
  },
  {
   "cell_type": "markdown",
   "id": "52bdd9fc",
   "metadata": {},
   "source": [
    "Definimos una funcion para unir los archivos csv en un unico Dataframe y guardar como csv"
   ]
  },
  {
   "cell_type": "code",
   "execution_count": 64,
   "id": "7c100078",
   "metadata": {},
   "outputs": [],
   "source": [
    "def join_csv(part):\n",
    "    global df_det\n",
    "    global detalles\n",
    "    global df_anom\n",
    "    global anomalias\n",
    "    detalles=pd.DataFrame()\n",
    "    anomalias=pd.DataFrame()\n",
    "    for i in range(0,part):\n",
    "        df_det=pd.read_csv(str(i)+'planillas.detalle.faltante',index_col=0)\n",
    "        detalles=pd.concat([detalles,df_det])\n",
    "        df_anom=pd.read_csv(str(i)+'Anomalias.faltante',index_col=0)\n",
    "        anomalias=pd.concat([anomalias,df_anom])        \n",
    "    detalles.to_csv('0.0.planillas.detalle.COMPLETE.faltante.csv')\n",
    "    anomalias.to_csv('0.0.Anomalias.COMPLETE.faltante.csv')\n",
    "    \n"
   ]
  },
  {
   "cell_type": "markdown",
   "id": "0b078414",
   "metadata": {},
   "source": [
    "# Actualizar cookie"
   ]
  },
  {
   "cell_type": "code",
   "execution_count": 48,
   "id": "24d92904",
   "metadata": {},
   "outputs": [],
   "source": [
    "cookie=\"JSESSIONID=3AF3C853D67F329648404C040356212C\""
   ]
  },
  {
   "cell_type": "markdown",
   "id": "a069ecac",
   "metadata": {},
   "source": [
    "# Scrape completo"
   ]
  },
  {
   "cell_type": "code",
   "execution_count": 115,
   "id": "fac6006c",
   "metadata": {},
   "outputs": [],
   "source": [
    "planillas_lista=planillas_hist.loc[:,['Planilla','Taller','Versión RTO']] #numero de planillas: 14272\n",
    "planillas_lista.drop_duplicates(inplace=True)#numero de planillas 14272\n"
   ]
  },
  {
   "cell_type": "code",
   "execution_count": 60,
   "id": "39f41326",
   "metadata": {
    "scrolled": true
   },
   "outputs": [],
   "source": [
    "planillas_lista=planillas_lista.values.tolist()"
   ]
  },
  {
   "cell_type": "code",
   "execution_count": 62,
   "id": "8f361a6c",
   "metadata": {
    "scrolled": true
   },
   "outputs": [
    {
     "data": {
      "text/plain": [
       "14272"
      ]
     },
     "execution_count": 62,
     "metadata": {},
     "output_type": "execute_result"
    }
   ],
   "source": [
    "len(planillas_lista)"
   ]
  },
  {
   "cell_type": "code",
   "execution_count": 92,
   "id": "005a077a",
   "metadata": {
    "scrolled": true
   },
   "outputs": [
    {
     "data": {
      "application/vnd.jupyter.widget-view+json": {
       "model_id": "7942682501264feba90ab6fe763f3f8a",
       "version_major": 2,
       "version_minor": 0
      },
      "text/plain": [
       "  0%|          | 0/10 [00:00<?, ?it/s]"
      ]
     },
     "metadata": {},
     "output_type": "display_data"
    },
    {
     "data": {
      "application/vnd.jupyter.widget-view+json": {
       "model_id": "65b78e493e4a4f2c809e0df77088b9ae",
       "version_major": 2,
       "version_minor": 0
      },
      "text/plain": [
       "  0%|          | 0/1427 [00:00<?, ?it/s]"
      ]
     },
     "metadata": {},
     "output_type": "display_data"
    },
    {
     "data": {
      "application/vnd.jupyter.widget-view+json": {
       "model_id": "775f8bc1df9e4e26bedad403fe4d052e",
       "version_major": 2,
       "version_minor": 0
      },
      "text/plain": [
       "  0%|          | 0/1427 [00:00<?, ?it/s]"
      ]
     },
     "metadata": {},
     "output_type": "display_data"
    },
    {
     "data": {
      "application/vnd.jupyter.widget-view+json": {
       "model_id": "ddcf4a9937cb4f7495c7321850928460",
       "version_major": 2,
       "version_minor": 0
      },
      "text/plain": [
       "  0%|          | 0/1427 [00:00<?, ?it/s]"
      ]
     },
     "metadata": {},
     "output_type": "display_data"
    },
    {
     "data": {
      "application/vnd.jupyter.widget-view+json": {
       "model_id": "4c0eddf5db0f43d5b0e78961b12cabc5",
       "version_major": 2,
       "version_minor": 0
      },
      "text/plain": [
       "  0%|          | 0/1427 [00:00<?, ?it/s]"
      ]
     },
     "metadata": {},
     "output_type": "display_data"
    },
    {
     "data": {
      "application/vnd.jupyter.widget-view+json": {
       "model_id": "b60e3a597e3244068868a58f11a9d9f4",
       "version_major": 2,
       "version_minor": 0
      },
      "text/plain": [
       "  0%|          | 0/1427 [00:00<?, ?it/s]"
      ]
     },
     "metadata": {},
     "output_type": "display_data"
    },
    {
     "data": {
      "application/vnd.jupyter.widget-view+json": {
       "model_id": "a28ebce4068b417f9ee47566254810fb",
       "version_major": 2,
       "version_minor": 0
      },
      "text/plain": [
       "  0%|          | 0/1427 [00:00<?, ?it/s]"
      ]
     },
     "metadata": {},
     "output_type": "display_data"
    },
    {
     "data": {
      "application/vnd.jupyter.widget-view+json": {
       "model_id": "62270e361f9e4f24ab975700fe02cf2c",
       "version_major": 2,
       "version_minor": 0
      },
      "text/plain": [
       "  0%|          | 0/1427 [00:00<?, ?it/s]"
      ]
     },
     "metadata": {},
     "output_type": "display_data"
    },
    {
     "data": {
      "application/vnd.jupyter.widget-view+json": {
       "model_id": "ae22df7db5404540b97f7cac1b66f160",
       "version_major": 2,
       "version_minor": 0
      },
      "text/plain": [
       "  0%|          | 0/1427 [00:00<?, ?it/s]"
      ]
     },
     "metadata": {},
     "output_type": "display_data"
    },
    {
     "data": {
      "application/vnd.jupyter.widget-view+json": {
       "model_id": "5f744133be1f44ba9fe149cbc205eab9",
       "version_major": 2,
       "version_minor": 0
      },
      "text/plain": [
       "  0%|          | 0/1427 [00:00<?, ?it/s]"
      ]
     },
     "metadata": {},
     "output_type": "display_data"
    },
    {
     "data": {
      "application/vnd.jupyter.widget-view+json": {
       "model_id": "e00f9c317ebf447f84106b18b413c9c3",
       "version_major": 2,
       "version_minor": 0
      },
      "text/plain": [
       "  0%|          | 0/1427 [00:00<?, ?it/s]"
      ]
     },
     "metadata": {},
     "output_type": "display_data"
    }
   ],
   "source": [
    "scrape_part(planillas_lista,10,0)"
   ]
  },
  {
   "cell_type": "code",
   "execution_count": 106,
   "id": "9fd2e6bc",
   "metadata": {},
   "outputs": [],
   "source": [
    "join_csv(9)"
   ]
  },
  {
   "cell_type": "markdown",
   "id": "7ce4b841",
   "metadata": {},
   "source": [
    "# Verificar Datos Detalles planillas"
   ]
  },
  {
   "cell_type": "code",
   "execution_count": 116,
   "id": "86820b59",
   "metadata": {
    "scrolled": true
   },
   "outputs": [
    {
     "data": {
      "text/html": [
       "<div>\n",
       "<style scoped>\n",
       "    .dataframe tbody tr th:only-of-type {\n",
       "        vertical-align: middle;\n",
       "    }\n",
       "\n",
       "    .dataframe tbody tr th {\n",
       "        vertical-align: top;\n",
       "    }\n",
       "\n",
       "    .dataframe thead th {\n",
       "        text-align: right;\n",
       "    }\n",
       "</style>\n",
       "<table border=\"1\" class=\"dataframe\">\n",
       "  <thead>\n",
       "    <tr style=\"text-align: right;\">\n",
       "      <th></th>\n",
       "      <th>Planilla</th>\n",
       "      <th>Dominio:</th>\n",
       "      <th>Modelo</th>\n",
       "      <th>Convenio:</th>\n",
       "      <th>Resultado</th>\n",
       "    </tr>\n",
       "  </thead>\n",
       "  <tbody>\n",
       "    <tr>\n",
       "      <th>0</th>\n",
       "      <td>1091341</td>\n",
       "      <td>AA309EZ</td>\n",
       "      <td>2016</td>\n",
       "      <td>Mercosur G (Mercosur-Mercosur)</td>\n",
       "      <td>Apto</td>\n",
       "    </tr>\n",
       "    <tr>\n",
       "      <th>1</th>\n",
       "      <td>1091349</td>\n",
       "      <td>OVW357</td>\n",
       "      <td>2015</td>\n",
       "      <td>UP Chaco(Provincial-Chaco)</td>\n",
       "      <td>Apto</td>\n",
       "    </tr>\n",
       "    <tr>\n",
       "      <th>2</th>\n",
       "      <td>1091353</td>\n",
       "      <td>AA304PZ</td>\n",
       "      <td>2016</td>\n",
       "      <td>UP Chaco(Provincial-Chaco)</td>\n",
       "      <td>Apto</td>\n",
       "    </tr>\n",
       "    <tr>\n",
       "      <th>3</th>\n",
       "      <td>1091373</td>\n",
       "      <td>NJD191</td>\n",
       "      <td>2013</td>\n",
       "      <td>UP Chaco(Provincial-Chaco)</td>\n",
       "      <td>Apto</td>\n",
       "    </tr>\n",
       "    <tr>\n",
       "      <th>4</th>\n",
       "      <td>1091406</td>\n",
       "      <td>HAG028</td>\n",
       "      <td>2008</td>\n",
       "      <td>UP Chaco(Provincial-Chaco)</td>\n",
       "      <td>Apto</td>\n",
       "    </tr>\n",
       "  </tbody>\n",
       "</table>\n",
       "</div>"
      ],
      "text/plain": [
       "   Planilla Dominio:  Modelo                       Convenio: Resultado\n",
       "0   1091341  AA309EZ    2016  Mercosur G (Mercosur-Mercosur)      Apto\n",
       "1   1091349   OVW357    2015      UP Chaco(Provincial-Chaco)      Apto\n",
       "2   1091353  AA304PZ    2016      UP Chaco(Provincial-Chaco)      Apto\n",
       "3   1091373   NJD191    2013      UP Chaco(Provincial-Chaco)      Apto\n",
       "4   1091406   HAG028    2008      UP Chaco(Provincial-Chaco)      Apto"
      ]
     },
     "execution_count": 116,
     "metadata": {},
     "output_type": "execute_result"
    }
   ],
   "source": [
    "df_detalles_parcial=pd.read_csv(str(5)+'planillas.detalle.faltante',index_col=0)\n",
    "df_detalles_parcial.head()"
   ]
  },
  {
   "cell_type": "markdown",
   "id": "78b21cf7",
   "metadata": {},
   "source": [
    "# Verificar datos anomalias"
   ]
  },
  {
   "cell_type": "code",
   "execution_count": 117,
   "id": "01007b54",
   "metadata": {},
   "outputs": [
    {
     "data": {
      "text/html": [
       "<div>\n",
       "<style scoped>\n",
       "    .dataframe tbody tr th:only-of-type {\n",
       "        vertical-align: middle;\n",
       "    }\n",
       "\n",
       "    .dataframe tbody tr th {\n",
       "        vertical-align: top;\n",
       "    }\n",
       "\n",
       "    .dataframe thead th {\n",
       "        text-align: right;\n",
       "    }\n",
       "</style>\n",
       "<table border=\"1\" class=\"dataframe\">\n",
       "  <thead>\n",
       "    <tr style=\"text-align: right;\">\n",
       "      <th></th>\n",
       "      <th>Planilla</th>\n",
       "      <th>Código</th>\n",
       "      <th>Gravedad</th>\n",
       "      <th>Descripción</th>\n",
       "      <th>Observaciones</th>\n",
       "    </tr>\n",
       "  </thead>\n",
       "  <tbody>\n",
       "    <tr>\n",
       "      <th>0</th>\n",
       "      <td>1091341</td>\n",
       "      <td>NaN</td>\n",
       "      <td>NaN</td>\n",
       "      <td>NaN</td>\n",
       "      <td>NaN</td>\n",
       "    </tr>\n",
       "    <tr>\n",
       "      <th>1</th>\n",
       "      <td>1091353</td>\n",
       "      <td>NaN</td>\n",
       "      <td>NaN</td>\n",
       "      <td>NaN</td>\n",
       "      <td>NaN</td>\n",
       "    </tr>\n",
       "    <tr>\n",
       "      <th>2</th>\n",
       "      <td>1091373</td>\n",
       "      <td>Número de Chasis</td>\n",
       "      <td>MAL CARGADO EN RTO ANTERIOR</td>\n",
       "      <td>Valdez, Sergio (TRT: 004)</td>\n",
       "      <td>Número de Motor</td>\n",
       "    </tr>\n",
       "    <tr>\n",
       "      <th>3</th>\n",
       "      <td>1091409</td>\n",
       "      <td>NaN</td>\n",
       "      <td>NaN</td>\n",
       "      <td>NaN</td>\n",
       "      <td>NaN</td>\n",
       "    </tr>\n",
       "    <tr>\n",
       "      <th>4</th>\n",
       "      <td>1091476</td>\n",
       "      <td>010401</td>\n",
       "      <td>M</td>\n",
       "      <td>Sistema de Dirección &gt; Barras, Brazos, Amortig...</td>\n",
       "      <td>EXTREMO IZQ</td>\n",
       "    </tr>\n",
       "  </tbody>\n",
       "</table>\n",
       "</div>"
      ],
      "text/plain": [
       "   Planilla            Código                     Gravedad  \\\n",
       "0   1091341               NaN                          NaN   \n",
       "1   1091353               NaN                          NaN   \n",
       "2   1091373  Número de Chasis  MAL CARGADO EN RTO ANTERIOR   \n",
       "3   1091409               NaN                          NaN   \n",
       "4   1091476            010401                            M   \n",
       "\n",
       "                                         Descripción    Observaciones  \n",
       "0                                                NaN              NaN  \n",
       "1                                                NaN              NaN  \n",
       "2                          Valdez, Sergio (TRT: 004)  Número de Motor  \n",
       "3                                                NaN              NaN  \n",
       "4  Sistema de Dirección > Barras, Brazos, Amortig...      EXTREMO IZQ  "
      ]
     },
     "execution_count": 117,
     "metadata": {},
     "output_type": "execute_result"
    }
   ],
   "source": [
    "df_anomalias_parcial=pd.read_csv(str(5)+'Anomalias.faltante',index_col=0)\n",
    "df_anomalias_parcial.head()"
   ]
  },
  {
   "cell_type": "markdown",
   "id": "5934866a",
   "metadata": {},
   "source": [
    "# Leer csv completo y analizar"
   ]
  },
  {
   "cell_type": "markdown",
   "id": "b4db3bed",
   "metadata": {},
   "source": [
    "detalles"
   ]
  },
  {
   "cell_type": "code",
   "execution_count": 118,
   "id": "1728dcea",
   "metadata": {
    "scrolled": true
   },
   "outputs": [],
   "source": [
    "detalles=pd.read_csv('0.0.planillas.detalle.COMPLETE.faltante.csv',index_col=0)\n"
   ]
  },
  {
   "cell_type": "code",
   "execution_count": 122,
   "id": "12990e10",
   "metadata": {},
   "outputs": [
    {
     "name": "stdout",
     "output_type": "stream",
     "text": [
      "<class 'pandas.core.frame.DataFrame'>\n",
      "Int64Index: 12843 entries, 0 to 1426\n",
      "Data columns (total 5 columns):\n",
      " #   Column     Non-Null Count  Dtype \n",
      "---  ------     --------------  ----- \n",
      " 0   Planilla   12843 non-null  int64 \n",
      " 1   Dominio:   12843 non-null  object\n",
      " 2   Modelo     12843 non-null  int64 \n",
      " 3   Convenio:  12843 non-null  object\n",
      " 4   Resultado  12843 non-null  object\n",
      "dtypes: int64(2), object(3)\n",
      "memory usage: 602.0+ KB\n"
     ]
    }
   ],
   "source": [
    "detalles.info()"
   ]
  },
  {
   "cell_type": "markdown",
   "id": "bacf9634",
   "metadata": {},
   "source": [
    "anomalias"
   ]
  },
  {
   "cell_type": "code",
   "execution_count": 123,
   "id": "00557180",
   "metadata": {},
   "outputs": [
    {
     "name": "stdout",
     "output_type": "stream",
     "text": [
      "<class 'pandas.core.frame.DataFrame'>\n",
      "Int64Index: 22819 entries, 0 to 2194\n",
      "Data columns (total 5 columns):\n",
      " #   Column         Non-Null Count  Dtype \n",
      "---  ------         --------------  ----- \n",
      " 0   Planilla       22819 non-null  int64 \n",
      " 1   Código         19383 non-null  object\n",
      " 2   Gravedad       19383 non-null  object\n",
      " 3   Descripción    19383 non-null  object\n",
      " 4   Observaciones  6798 non-null   object\n",
      "dtypes: int64(1), object(4)\n",
      "memory usage: 1.0+ MB\n"
     ]
    }
   ],
   "source": [
    "anomalias=pd.read_csv('0.0.Anomalias.COMPLETE.faltante.csv',index_col=0)\n",
    "anomalias.info()"
   ]
  }
 ],
 "metadata": {
  "kernelspec": {
   "display_name": "Python 3 (ipykernel)",
   "language": "python",
   "name": "python3"
  },
  "language_info": {
   "codemirror_mode": {
    "name": "ipython",
    "version": 3
   },
   "file_extension": ".py",
   "mimetype": "text/x-python",
   "name": "python",
   "nbconvert_exporter": "python",
   "pygments_lexer": "ipython3",
   "version": "3.9.13"
  }
 },
 "nbformat": 4,
 "nbformat_minor": 5
}
