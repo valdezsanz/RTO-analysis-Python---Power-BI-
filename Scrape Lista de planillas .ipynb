{
 "cells": [
  {
   "cell_type": "markdown",
   "id": "44550b5b",
   "metadata": {},
   "source": [
    "# Importar librerias"
   ]
  },
  {
   "cell_type": "code",
   "execution_count": 1,
   "id": "6695eec6",
   "metadata": {},
   "outputs": [],
   "source": [
    "import pandas as pd "
   ]
  },
  {
   "cell_type": "code",
   "execution_count": 2,
   "id": "795f99bb",
   "metadata": {},
   "outputs": [],
   "source": [
    "import time"
   ]
  },
  {
   "cell_type": "code",
   "execution_count": 3,
   "id": "77fc1e2d",
   "metadata": {},
   "outputs": [],
   "source": [
    "from bs4 import BeautifulSoup"
   ]
  },
  {
   "cell_type": "code",
   "execution_count": 4,
   "id": "b443dee4",
   "metadata": {},
   "outputs": [],
   "source": [
    " import requests"
   ]
  },
  {
   "cell_type": "code",
   "execution_count": 5,
   "id": "be5176d6",
   "metadata": {},
   "outputs": [],
   "source": [
    "from tqdm.notebook import tqdm"
   ]
  },
  {
   "cell_type": "markdown",
   "id": "59c96b25",
   "metadata": {},
   "source": [
    "# Definir funciones"
   ]
  },
  {
   "cell_type": "code",
   "execution_count": 6,
   "id": "d4385546",
   "metadata": {},
   "outputs": [],
   "source": [
    "def get_data(d,m,y): # input day,month,year in String format and returns the server response \n",
    "    global soup\n",
    "    url = \"https://rto.cent.gov.ar/rto/RTO/generarPlanillaDiaria\"\n",
    "    payload = \"fechaConsulta=\"+d+\"%2F\"+m+\"%2F\"+y+\"&agruparPorLinea=NO&idTaller=\"\n",
    "    headers = {\n",
    "        \"User-Agent\": \"Mozilla/5.0 (Windows NT 10.0; Win64; x64; rv:108.0) Gecko/20100101 Firefox/108.0\",\n",
    "        \"Accept\": \"text/javascript, text/html, application/xml, text/xml, */*\",\n",
    "        \"Accept-Language\": \"es-AR,es;q=0.8,en-US;q=0.5,en;q=0.3\",\n",
    "        \"Accept-Encoding\": \"gzip, deflate, br\",\n",
    "        \"X-Requested-With\": \"XMLHttpRequest\",\n",
    "        \"X-Prototype-Version\": \"1.6.1\",\n",
    "        \"Content-type\": \"application/x-www-form-urlencoded; charset=UTF-8\",\n",
    "        \"Origin\": \"https://rto.cent.gov.ar\",\n",
    "        \"Connection\": \"keep-alive\",\n",
    "        \"Referer\": \"https://rto.cent.gov.ar/rto/RTO/planillaDiaria\",\n",
    "        \"Cookie\": cookie,\n",
    "        \"Sec-Fetch-Dest\": \"empty\",\n",
    "        \"Sec-Fetch-Mode\": \"cors\",\n",
    "        \"Sec-Fetch-Site\": \"same-origin\"\n",
    "    }\n",
    "\n",
    "    response = requests.request(\"POST\", url, data=payload, headers=headers)\n",
    "    soup=BeautifulSoup(response.text,'lxml')\n",
    "    #time.sleep(0.5)\n",
    "    return(soup)\n",
    "    "
   ]
  },
  {
   "cell_type": "code",
   "execution_count": 7,
   "id": "e031cdfc",
   "metadata": {},
   "outputs": [],
   "source": [
    "def clean_rows():# returns a list of values: datos\n",
    "        tags_datos=soup.select('td') #data is inside the tag td\n",
    "        global datos\n",
    "        datos=[] \n",
    "        for data in tags_datos:\n",
    "            datos.append(data.get_text(strip=True)) #make a list with the values \n",
    "        return(datos)"
   ]
  },
  {
   "cell_type": "code",
   "execution_count": 8,
   "id": "20da7cba",
   "metadata": {
    "scrolled": true
   },
   "outputs": [],
   "source": [
    "def clean_columns():# returns a list of values: labels\n",
    "    tags_labels=soup.select('th')\n",
    "    global labels\n",
    "    labels=[]\n",
    "    for label in tags_labels:\n",
    "        labels.append(label.get_text(strip=True)) #get list names  a list with the labels\n",
    "    return(labels)   "
   ]
  },
  {
   "cell_type": "code",
   "execution_count": 9,
   "id": "3cb3f031",
   "metadata": {},
   "outputs": [],
   "source": [
    "def create_df():# returns a dataframe df \n",
    "    global df\n",
    "    df=pd.DataFrame()\n",
    "    num_col=int(14)\n",
    "    num_row=int(len(datos)/num_col)\n",
    "    rows=[]\n",
    "    for j in range(0,num_row,1):\n",
    "        row=[]\n",
    "        for i in range(0,num_col,1):\n",
    "            index=i+(14*j)\n",
    "            row.append(datos[index])\n",
    "        rows.append(row)\n",
    "    #print(rows)    \n",
    "    df=pd.DataFrame(rows,columns=labels)\n",
    "    return(df)"
   ]
  },
  {
   "cell_type": "code",
   "execution_count": 10,
   "id": "a87e067d",
   "metadata": {},
   "outputs": [],
   "source": [
    "\n",
    "def add_date_col(d,m,y): # adds static date column to the dataframe , input is d,m,y in STRING \n",
    "    global df\n",
    "    df.insert(0,'Fecha',d+'/'+m+'/'+y)\n",
    "    return(df)\n",
    "\n",
    "def add_date_col_old(d,m,y): # adds static date column to the dataframe \n",
    "    global df\n",
    "    df.insert(0,'Fecha',str(d)+'/'+str(m)+'/'+str(y))\n",
    "    return(df)\n"
   ]
  },
  {
   "cell_type": "code",
   "execution_count": 11,
   "id": "4fda9767",
   "metadata": {},
   "outputs": [],
   "source": [
    "def get_dates(s,e): # takes in a start and end string date in yyyy/mm/dd  format and returns a list of list of dates in string format \n",
    "    global dates_str\n",
    "    dates=pd.date_range(start=s,end=e,freq='d')\n",
    "    dates_str=[]\n",
    "    date_str=[]\n",
    "    for date in dates:\n",
    "        year= str(date.year)\n",
    "        if date.month<10:\n",
    "            month='0'+str(date.month)\n",
    "        else:\n",
    "            month=str(date.month)\n",
    "        if date.day<10:\n",
    "            day='0'+str(date.day)\n",
    "        else:\n",
    "            day=str(date.day)\n",
    "        date_str=[day,month,year]\n",
    "        dates_str.append(date_str)\n",
    "    return(dates_str)"
   ]
  },
  {
   "cell_type": "code",
   "execution_count": 12,
   "id": "9af6a95d",
   "metadata": {},
   "outputs": [],
   "source": [
    "def to_csv():\n",
    "    file_name=start_date.replace('/','.')+'-'+end_date.replace('/','.')\n",
    "    df_tot.to_csv(file_name)\n",
    "    "
   ]
  },
  {
   "cell_type": "code",
   "execution_count": 17,
   "id": "00593a65",
   "metadata": {},
   "outputs": [],
   "source": [
    "def scrape(s,e): #  takes in a start and end string date in yyyy/mm/dd  format\n",
    "    global df_tot\n",
    "    global list_of_df\n",
    "    df_tot=pd.DataFrame()\n",
    "    list_of_df=[]\n",
    "    get_dates(s,e) # returns a list of a list of dates in var dates_str\n",
    "    for date in tqdm(dates_str):\n",
    "        d=date[0]\n",
    "        m=date[1]\n",
    "        y=date[2]\n",
    "        get_data(d,m,y)#returns soup\n",
    "        clean_rows()#returns list of values\n",
    "        create_df()#returns dataframe df \n",
    "        add_date_col(d,m,y)# adds date col to dataframe df \n",
    "        list_of_df.append(df) #adds current dataframe df to a list\n",
    "    df_tot=pd.concat(list_of_df,ignore_index=True) # after all the dataframes are put into the list , unions all\n",
    "   # df_tot['Fecha']=df_tot['Fecha'].astype('M')#sets Fecha column to datetime datatype\n",
    "    df_tot.set_index('Planilla',inplace=True) #sets nro planilla(is unique) as index \n",
    "    return(df_tot['Fecha'].nunique()) # returns number of distinct dates with data \n"
   ]
  },
  {
   "cell_type": "markdown",
   "id": "f4c70f19",
   "metadata": {},
   "source": [
    "# Nombre de Columnas"
   ]
  },
  {
   "cell_type": "code",
   "execution_count": 18,
   "id": "8edc38de",
   "metadata": {},
   "outputs": [],
   "source": [
    "labels=['Inicio',\n",
    " 'hora_Resultado',\n",
    " 'Fin',\n",
    " 'Tipo',\n",
    " 'Uso',\n",
    " 'Categoría',\n",
    " 'Planilla',\n",
    " 'Certificado',\n",
    " 'Vence',\n",
    " 'Dominio',\n",
    " 'Resultado',\n",
    " 'CUIT',\n",
    " 'Razón Social',\n",
    " 'Línea']"
   ]
  },
  {
   "cell_type": "markdown",
   "id": "d99499c9",
   "metadata": {},
   "source": [
    "# Actualizar cookie"
   ]
  },
  {
   "cell_type": "code",
   "execution_count": 19,
   "id": "b5887976",
   "metadata": {},
   "outputs": [],
   "source": [
    "cookie=\"JSESSIONID=F21BA00B7E7B91E8D0B22F5445FB3362\""
   ]
  },
  {
   "cell_type": "markdown",
   "id": "b795ef3b",
   "metadata": {},
   "source": [
    "# Definir Fecha de inicio y Final"
   ]
  },
  {
   "cell_type": "code",
   "execution_count": 64,
   "id": "644a9619",
   "metadata": {},
   "outputs": [],
   "source": [
    "FORMATO='YYYY/M/D'\n",
    "start_date='2022/1/1'\n",
    "end_date='2022/12/31'"
   ]
  },
  {
   "cell_type": "markdown",
   "id": "af666645",
   "metadata": {},
   "source": [
    "# Obtener Datos"
   ]
  },
  {
   "cell_type": "code",
   "execution_count": 68,
   "id": "cc615c3a",
   "metadata": {},
   "outputs": [
    {
     "data": {
      "application/vnd.jupyter.widget-view+json": {
       "model_id": "4b70929e447a437f97250dbc210125fd",
       "version_major": 2,
       "version_minor": 0
      },
      "text/plain": [
       "  0%|          | 0/365 [00:00<?, ?it/s]"
      ]
     },
     "metadata": {},
     "output_type": "display_data"
    },
    {
     "data": {
      "text/plain": [
       "294"
      ]
     },
     "execution_count": 68,
     "metadata": {},
     "output_type": "execute_result"
    }
   ],
   "source": [
    "scrape(start_date,end_date)"
   ]
  },
  {
   "cell_type": "markdown",
   "id": "836fad0b",
   "metadata": {},
   "source": [
    "# Verificar datos obtenidos"
   ]
  },
  {
   "cell_type": "code",
   "execution_count": null,
   "id": "8d832a6e-c0df-4bef-951f-f8f125568227",
   "metadata": {},
   "outputs": [],
   "source": [
    "pd.set_option('display.max_rows',None)\n",
    "df_tot.head(10)"
   ]
  },
  {
   "cell_type": "code",
   "execution_count": 71,
   "id": "89fddeaa",
   "metadata": {
    "scrolled": true
   },
   "outputs": [
    {
     "data": {
      "text/plain": [
       "18853"
      ]
     },
     "execution_count": 71,
     "metadata": {},
     "output_type": "execute_result"
    }
   ],
   "source": [
    "df_tot[df_tot['Resultado']=='Apto']['Dominio'].nunique()"
   ]
  },
  {
   "cell_type": "markdown",
   "id": "a89c4917",
   "metadata": {},
   "source": [
    "# Escribir datos a csv "
   ]
  },
  {
   "cell_type": "code",
   "execution_count": 72,
   "id": "fd79f9bc",
   "metadata": {},
   "outputs": [],
   "source": [
    "to_csv()"
   ]
  },
  {
   "cell_type": "code",
   "execution_count": null,
   "id": "192c6823",
   "metadata": {},
   "outputs": [],
   "source": []
  }
 ],
 "metadata": {
  "kernelspec": {
   "display_name": "Python 3 (ipykernel)",
   "language": "python",
   "name": "python3"
  },
  "language_info": {
   "codemirror_mode": {
    "name": "ipython",
    "version": 3
   },
   "file_extension": ".py",
   "mimetype": "text/x-python",
   "name": "python",
   "nbconvert_exporter": "python",
   "pygments_lexer": "ipython3",
   "version": "3.9.13"
  }
 },
 "nbformat": 4,
 "nbformat_minor": 5
}
