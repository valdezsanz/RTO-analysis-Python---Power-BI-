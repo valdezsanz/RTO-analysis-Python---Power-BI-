{
 "cells": [
  {
   "cell_type": "code",
   "execution_count": 2,
   "id": "17da4802",
   "metadata": {},
   "outputs": [],
   "source": [
    "import pandas as pd "
   ]
  },
  {
   "cell_type": "code",
   "execution_count": 2,
   "id": "d4417c68",
   "metadata": {
    "scrolled": true
   },
   "outputs": [],
   "source": [
    "df2022=pd.read_csv('2022.1.1-2022.12.31',index_col=0)\n",
    "df2021=pd.read_csv('2021.1.1-2021.12.31',index_col=0)\n",
    "df2020=pd.read_csv('2020.1.1-2020.12.31',index_col=0)\n",
    "df2019=pd.read_csv('2019.1.1-2019.12.31',index_col=0)\n",
    "df2018=pd.read_csv('2018.1.1-2018.12.31',index_col=0)\n",
    "df2017=pd.read_csv('2017.1.1-2017.12.31',index_col=0)\n",
    "df2016=pd.read_csv('2016.1.1-2016.12.31',index_col=0)\n",
    "df2015=pd.read_csv('2015.1.1-2015.12.31',index_col=0)\n",
    "df2014=pd.read_csv('2014.1.1-2014.12.31',index_col=0)\n",
    "planillas=pd.concat([df2022,df2021,df2020,df2019,df2018,df2017,df2016,df2015,df2014])\n"
   ]
  },
  {
   "cell_type": "code",
   "execution_count": 3,
   "id": "d21615da",
   "metadata": {},
   "outputs": [],
   "source": [
    "planillas['Fecha']=pd.to_datetime(planillas['Fecha'])"
   ]
  },
  {
   "cell_type": "code",
   "execution_count": 5,
   "id": "21f2e946",
   "metadata": {},
   "outputs": [
    {
     "data": {
      "text/plain": [
       "Fecha               2407\n",
       "Inicio               763\n",
       "hora_Resultado       769\n",
       "Fin                  771\n",
       "Tipo                   4\n",
       "Uso                    4\n",
       "Categoría             10\n",
       "Certificado       146817\n",
       "Vence               3638\n",
       "Dominio            82247\n",
       "Resultado              4\n",
       "CUIT               60843\n",
       "Razón Social       61337\n",
       "Línea                  2\n",
       "dtype: int64"
      ]
     },
     "execution_count": 5,
     "metadata": {},
     "output_type": "execute_result"
    }
   ],
   "source": [
    "planillas.nunique()"
   ]
  },
  {
   "cell_type": "code",
   "execution_count": 6,
   "id": "da831097",
   "metadata": {
    "scrolled": true
   },
   "outputs": [
    {
     "name": "stdout",
     "output_type": "stream",
     "text": [
      "<class 'pandas.core.frame.DataFrame'>\n",
      "Int64Index: 176857 entries, 1153444 to 1004193\n",
      "Data columns (total 14 columns):\n",
      " #   Column          Non-Null Count   Dtype         \n",
      "---  ------          --------------   -----         \n",
      " 0   Fecha           176857 non-null  datetime64[ns]\n",
      " 1   Inicio          176857 non-null  object        \n",
      " 2   hora_Resultado  176857 non-null  object        \n",
      " 3   Fin             176857 non-null  object        \n",
      " 4   Tipo            176857 non-null  object        \n",
      " 5   Uso             176857 non-null  object        \n",
      " 6   Categoría       175232 non-null  object        \n",
      " 7   Certificado     146820 non-null  object        \n",
      " 8   Vence           176314 non-null  object        \n",
      " 9   Dominio         176857 non-null  object        \n",
      " 10  Resultado       176857 non-null  object        \n",
      " 11  CUIT            175162 non-null  float64       \n",
      " 12  Razón Social    175144 non-null  object        \n",
      " 13  Línea           176857 non-null  int64         \n",
      "dtypes: datetime64[ns](1), float64(1), int64(1), object(11)\n",
      "memory usage: 20.2+ MB\n"
     ]
    }
   ],
   "source": [
    "planillas.info()"
   ]
  },
  {
   "cell_type": "markdown",
   "id": "d10704de",
   "metadata": {},
   "source": [
    "Escribir a csv "
   ]
  },
  {
   "cell_type": "code",
   "execution_count": 8,
   "id": "7578787c",
   "metadata": {},
   "outputs": [],
   "source": [
    "planillas.to_csv('Lista_planillas_COMPLETE.csv')"
   ]
  },
  {
   "cell_type": "markdown",
   "id": "804de1d0",
   "metadata": {},
   "source": [
    "# Importar librerias"
   ]
  },
  {
   "cell_type": "code",
   "execution_count": 7,
   "id": "1b76b535",
   "metadata": {},
   "outputs": [],
   "source": [
    "import time "
   ]
  },
  {
   "cell_type": "code",
   "execution_count": 8,
   "id": "d90056db",
   "metadata": {},
   "outputs": [],
   "source": [
    "import requests"
   ]
  },
  {
   "cell_type": "code",
   "execution_count": 9,
   "id": "a2879774",
   "metadata": {},
   "outputs": [],
   "source": [
    "from tqdm.notebook import tqdm"
   ]
  },
  {
   "cell_type": "code",
   "execution_count": 10,
   "id": "c2fdd83a",
   "metadata": {},
   "outputs": [],
   "source": [
    "from bs4 import BeautifulSoup"
   ]
  },
  {
   "cell_type": "markdown",
   "id": "e117a1e7",
   "metadata": {},
   "source": [
    "# Definir funciones"
   ]
  },
  {
   "cell_type": "markdown",
   "id": "db3d8b26",
   "metadata": {},
   "source": [
    "Request Historico de Revisiones "
   ]
  },
  {
   "cell_type": "code",
   "execution_count": 11,
   "id": "2457fb76",
   "metadata": {},
   "outputs": [],
   "source": [
    "def get_detalles(Patente):#input is in string format \n",
    "    global soup\n",
    "    url = \"https://rto.cent.gov.ar/rto/RTO/buscarHistorico\"\n",
    "\n",
    "    payload = \"dominio=\"+Patente+\"&limite=5&codigoPais=AR&=\"\n",
    "    headers = {\n",
    "        \"cookie\": \"JSESSIONID=B544913AE18097DC002DA2F72AC68FA6\",\n",
    "        \"User-Agent\": \"Mozilla/5.0 (Windows NT 10.0; Win64; x64; rv:108.0) Gecko/20100101 Firefox/108.0\",\n",
    "        \"Accept\": \"text/javascript, text/html, application/xml, text/xml, */*\",\n",
    "        \"Accept-Language\": \"es-AR,es;q=0.8,en-US;q=0.5,en;q=0.3\",\n",
    "        \"Accept-Encoding\": \"gzip, deflate, br\",\n",
    "        \"X-Requested-With\": \"XMLHttpRequest\",\n",
    "        \"X-Prototype-Version\": \"1.6.1\",\n",
    "        \"Content-type\": \"application/x-www-form-urlencoded; charset=UTF-8\",\n",
    "        \"Origin\": \"https://rto.cent.gov.ar\",\n",
    "        \"Connection\": \"keep-alive\",\n",
    "        \"Referer\": \"https://rto.cent.gov.ar/rto/\",\n",
    "        \"Cookie\": cookie,\n",
    "        \"Sec-Fetch-Dest\": \"empty\",\n",
    "        \"Sec-Fetch-Mode\": \"cors\",\n",
    "        \"Sec-Fetch-Site\": \"same-origin\",\n",
    "        \"TE\": \"trailers\"\n",
    "    }\n",
    "\n",
    "    response = requests.request(\"POST\", url, data=payload, headers=headers)\n",
    "    #print response text (test)\n",
    "    #print(response.text)\n",
    "    soup=BeautifulSoup(response.text,'lxml')"
   ]
  },
  {
   "cell_type": "markdown",
   "id": "fa71632b",
   "metadata": {},
   "source": [
    "Limpiar soup para historico de revisiones"
   ]
  },
  {
   "cell_type": "code",
   "execution_count": 12,
   "id": "832daac1",
   "metadata": {},
   "outputs": [],
   "source": [
    "\n",
    "def clean_data(tags_hist_revisiones):# returns a list of values: tags\n",
    "        tags_datos=soup.select(tags_hist_revisiones) #data is inside the tag td\n",
    "        global datos\n",
    "        datos=[] \n",
    "        for data in tags_datos:\n",
    "            datos.append(data.get_text(strip=True)) #make a list with the values \n",
    "        return(datos)"
   ]
  },
  {
   "cell_type": "markdown",
   "id": "ccd7b5c7",
   "metadata": {},
   "source": [
    "Crear lista de diccionarios de historico de revisiones:cada diccionario es una fila "
   ]
  },
  {
   "cell_type": "code",
   "execution_count": 13,
   "id": "690c566b",
   "metadata": {},
   "outputs": [],
   "source": [
    "def create_rows_hist(Patente):\n",
    "    global df\n",
    "    global rows\n",
    "    num_row=int(len(datos)/7)#cantidad de filas(row). cada fila tiene 7 elementos\n",
    "    for i in range(0,num_row):\n",
    "        i*=7\n",
    "        dic={'Dominio':Patente,\n",
    "            'Planilla':datos[1+i].replace('.',''),\n",
    "            'Taller':int(datos[0+i]),\n",
    "            'Tipo Uso':datos[2+i],\n",
    "            'Fecha':datos[3+i],\n",
    "            'Resultado':datos[4+i],\n",
    "            'Versión RTO':datos[5+i]\n",
    "            }\n",
    "        rows.append(dic)"
   ]
  },
  {
   "cell_type": "markdown",
   "id": "697c4d0e",
   "metadata": {},
   "source": [
    "Crear dataframe (df) de historico de revisiones "
   ]
  },
  {
   "cell_type": "code",
   "execution_count": 14,
   "id": "6d70be33",
   "metadata": {},
   "outputs": [],
   "source": [
    "def create_df_hist():# returns a dataframe df \n",
    "    global df \n",
    "    df=pd.DataFrame(rows)\n",
    "    return(df)"
   ]
  },
  {
   "cell_type": "markdown",
   "id": "b6073699",
   "metadata": {},
   "source": [
    "Utilizando las funciones anteriores. las unimos en una unica funcion. Iteramos en la lista de Patentes"
   ]
  },
  {
   "cell_type": "code",
   "execution_count": 15,
   "id": "fd76b143",
   "metadata": {},
   "outputs": [],
   "source": [
    "def scrape(Patentes):\n",
    "    global rows\n",
    "    rows=[]\n",
    "    tags_hist_revisiones='td'#tag de historico de revisiones\n",
    "    for Patente in tqdm(Patentes):\n",
    "        get_detalles(str(Patente))\n",
    "        clean_data(tags_hist_revisiones)\n",
    "        create_rows_hist(Patente)\n",
    "    create_df_hist()# returns dataframe df\n",
    "    return(df['Planilla'].nunique())"
   ]
  },
  {
   "cell_type": "markdown",
   "id": "d1639dc3",
   "metadata": {},
   "source": [
    "Guardar los dataframes en archivos .csv"
   ]
  },
  {
   "cell_type": "code",
   "execution_count": 16,
   "id": "a87bfae5",
   "metadata": {},
   "outputs": [],
   "source": [
    "def to_csv(num):\n",
    "    filename=str(num)+'planillas.hist'\n",
    "    df.to_csv(filename)"
   ]
  },
  {
   "cell_type": "markdown",
   "id": "708c59c5",
   "metadata": {},
   "source": [
    "Dividimos la lista de patentes en N listas. En caso de error no perdemos todo \n"
   ]
  },
  {
   "cell_type": "code",
   "execution_count": 17,
   "id": "ef968943",
   "metadata": {},
   "outputs": [],
   "source": [
    "def div_lista(Patentes,part):\n",
    "    global patentes_part\n",
    "    n=int(len(Patentes)/part)\n",
    "    patentes_part=[patentes[i:i+n]for i in range(0,len(patentes),n)]\n",
    "    return(patentes_part)\n",
    "    \n",
    "    \n",
    "    "
   ]
  },
  {
   "cell_type": "markdown",
   "id": "691ccdef",
   "metadata": {},
   "source": [
    "Definimos una nueva funcion Scrape que crea un csv por cada particion de la lista de planillas. Esto nos ayuda a no tener que comenzar de 0 si el server se cae o se corta internet "
   ]
  },
  {
   "cell_type": "code",
   "execution_count": 26,
   "id": "a888ae65",
   "metadata": {},
   "outputs": [],
   "source": [
    "def scrape_part(Patentes,part,start):\n",
    "    div_lista(Patentes,part)\n",
    "    for i in tqdm(range(0+start,part)):\n",
    "        scrape(patentes_part[i])\n",
    "        to_csv(i)\n",
    "\n",
    "        "
   ]
  },
  {
   "cell_type": "markdown",
   "id": "39a0474a",
   "metadata": {},
   "source": [
    "Definimos una funcion para unir los archivos csv en un unico Dataframe y guardar como csv"
   ]
  },
  {
   "cell_type": "code",
   "execution_count": 28,
   "id": "6e1d8ca7",
   "metadata": {},
   "outputs": [],
   "source": [
    "def join_csv(part):\n",
    "    global df_hist\n",
    "    global planillas_hist\n",
    "    planillas_hist=pd.DataFrame()\n",
    "    for i in range(0,part):\n",
    "        df_hist=pd.read_csv(str(i)+'planillas.hist',index_col=0)\n",
    "        planillas_hist=pd.concat([planillas_hist,df_hist])\n",
    "    planillas_hist.to_csv('0.0.planillas.hist.COMPLETE')\n"
   ]
  },
  {
   "cell_type": "markdown",
   "id": "260583b0",
   "metadata": {},
   "source": [
    "# Actualizar cookie"
   ]
  },
  {
   "cell_type": "code",
   "execution_count": 24,
   "id": "9fbadc0d",
   "metadata": {},
   "outputs": [],
   "source": [
    "cookie=\"JSESSIONID=73DD0C000F144D328BDC83B6EDD489BA\""
   ]
  },
  {
   "cell_type": "markdown",
   "id": "385c31d8",
   "metadata": {},
   "source": [
    "# Lista de PATENTES "
   ]
  },
  {
   "cell_type": "code",
   "execution_count": null,
   "id": "4177f91e-3939-4d15-9cb9-d2c5d1bb0502",
   "metadata": {},
   "outputs": [],
   "source": [
    "patentes=planillas.sort_values(by=['Dominio'])['Dominio'].str.replace('*','',regex=False).unique().tolist()"
   ]
  },
  {
   "cell_type": "markdown",
   "id": "97f34fdc",
   "metadata": {},
   "source": [
    "# Scrape Particiones"
   ]
  },
  {
   "cell_type": "code",
   "execution_count": 27,
   "id": "1d0b0c7c",
   "metadata": {
    "scrolled": true
   },
   "outputs": [
    {
     "data": {
      "application/vnd.jupyter.widget-view+json": {
       "model_id": "eacf037725084ee494ea29cd70c7a52e",
       "version_major": 2,
       "version_minor": 0
      },
      "text/plain": [
       "  0%|          | 0/23 [00:00<?, ?it/s]"
      ]
     },
     "metadata": {},
     "output_type": "display_data"
    },
    {
     "data": {
      "application/vnd.jupyter.widget-view+json": {
       "model_id": "160172e09b35477a8cb917c56c1fd65d",
       "version_major": 2,
       "version_minor": 0
      },
      "text/plain": [
       "  0%|          | 0/2561 [00:00<?, ?it/s]"
      ]
     },
     "metadata": {},
     "output_type": "display_data"
    },
    {
     "data": {
      "application/vnd.jupyter.widget-view+json": {
       "model_id": "82eea322e9314067971024f6d69fad27",
       "version_major": 2,
       "version_minor": 0
      },
      "text/plain": [
       "  0%|          | 0/2561 [00:00<?, ?it/s]"
      ]
     },
     "metadata": {},
     "output_type": "display_data"
    },
    {
     "data": {
      "application/vnd.jupyter.widget-view+json": {
       "model_id": "6a892f07700b4a89a170e10de52bca2e",
       "version_major": 2,
       "version_minor": 0
      },
      "text/plain": [
       "  0%|          | 0/2561 [00:00<?, ?it/s]"
      ]
     },
     "metadata": {},
     "output_type": "display_data"
    },
    {
     "data": {
      "application/vnd.jupyter.widget-view+json": {
       "model_id": "e307c048aeb24fe88ac019e519badc73",
       "version_major": 2,
       "version_minor": 0
      },
      "text/plain": [
       "  0%|          | 0/2561 [00:00<?, ?it/s]"
      ]
     },
     "metadata": {},
     "output_type": "display_data"
    },
    {
     "data": {
      "application/vnd.jupyter.widget-view+json": {
       "model_id": "9bd913c605924bccbc3be677d787faab",
       "version_major": 2,
       "version_minor": 0
      },
      "text/plain": [
       "  0%|          | 0/2561 [00:00<?, ?it/s]"
      ]
     },
     "metadata": {},
     "output_type": "display_data"
    },
    {
     "data": {
      "application/vnd.jupyter.widget-view+json": {
       "model_id": "d6fa62f684a148a1a4de961843545da9",
       "version_major": 2,
       "version_minor": 0
      },
      "text/plain": [
       "  0%|          | 0/2561 [00:00<?, ?it/s]"
      ]
     },
     "metadata": {},
     "output_type": "display_data"
    },
    {
     "data": {
      "application/vnd.jupyter.widget-view+json": {
       "model_id": "61bb8d31a14d4b5eb398775a06fbab6e",
       "version_major": 2,
       "version_minor": 0
      },
      "text/plain": [
       "  0%|          | 0/2561 [00:00<?, ?it/s]"
      ]
     },
     "metadata": {},
     "output_type": "display_data"
    },
    {
     "data": {
      "application/vnd.jupyter.widget-view+json": {
       "model_id": "c897ff2a24da4391a58efe812961bf75",
       "version_major": 2,
       "version_minor": 0
      },
      "text/plain": [
       "  0%|          | 0/2561 [00:00<?, ?it/s]"
      ]
     },
     "metadata": {},
     "output_type": "display_data"
    },
    {
     "data": {
      "application/vnd.jupyter.widget-view+json": {
       "model_id": "77a350f572fd4b488886bd11bae1a6e4",
       "version_major": 2,
       "version_minor": 0
      },
      "text/plain": [
       "  0%|          | 0/2561 [00:00<?, ?it/s]"
      ]
     },
     "metadata": {},
     "output_type": "display_data"
    },
    {
     "data": {
      "application/vnd.jupyter.widget-view+json": {
       "model_id": "5b68233327784b499ff0837682a4cf15",
       "version_major": 2,
       "version_minor": 0
      },
      "text/plain": [
       "  0%|          | 0/2561 [00:00<?, ?it/s]"
      ]
     },
     "metadata": {},
     "output_type": "display_data"
    },
    {
     "data": {
      "application/vnd.jupyter.widget-view+json": {
       "model_id": "dc1c505a48d34cb999049c1c4f0f52b6",
       "version_major": 2,
       "version_minor": 0
      },
      "text/plain": [
       "  0%|          | 0/2561 [00:00<?, ?it/s]"
      ]
     },
     "metadata": {},
     "output_type": "display_data"
    },
    {
     "data": {
      "application/vnd.jupyter.widget-view+json": {
       "model_id": "593fe8f95f904e32adbe12eb58ed6f02",
       "version_major": 2,
       "version_minor": 0
      },
      "text/plain": [
       "  0%|          | 0/2561 [00:00<?, ?it/s]"
      ]
     },
     "metadata": {},
     "output_type": "display_data"
    },
    {
     "data": {
      "application/vnd.jupyter.widget-view+json": {
       "model_id": "a1b6a55c66a340b693d60cd888792022",
       "version_major": 2,
       "version_minor": 0
      },
      "text/plain": [
       "  0%|          | 0/2561 [00:00<?, ?it/s]"
      ]
     },
     "metadata": {},
     "output_type": "display_data"
    },
    {
     "data": {
      "application/vnd.jupyter.widget-view+json": {
       "model_id": "f8524626c9cf41ba998ffc7545fd8a26",
       "version_major": 2,
       "version_minor": 0
      },
      "text/plain": [
       "  0%|          | 0/2561 [00:00<?, ?it/s]"
      ]
     },
     "metadata": {},
     "output_type": "display_data"
    },
    {
     "data": {
      "application/vnd.jupyter.widget-view+json": {
       "model_id": "219b2e3c5d284de59adb20891e544ca5",
       "version_major": 2,
       "version_minor": 0
      },
      "text/plain": [
       "  0%|          | 0/2561 [00:00<?, ?it/s]"
      ]
     },
     "metadata": {},
     "output_type": "display_data"
    },
    {
     "data": {
      "application/vnd.jupyter.widget-view+json": {
       "model_id": "2bb2ab5f4add43698fe2cc8c338deade",
       "version_major": 2,
       "version_minor": 0
      },
      "text/plain": [
       "  0%|          | 0/2561 [00:00<?, ?it/s]"
      ]
     },
     "metadata": {},
     "output_type": "display_data"
    },
    {
     "data": {
      "application/vnd.jupyter.widget-view+json": {
       "model_id": "f63ceef5f0bf4eb4b35544ca1739ed97",
       "version_major": 2,
       "version_minor": 0
      },
      "text/plain": [
       "  0%|          | 0/2561 [00:00<?, ?it/s]"
      ]
     },
     "metadata": {},
     "output_type": "display_data"
    },
    {
     "data": {
      "application/vnd.jupyter.widget-view+json": {
       "model_id": "b4be3d9ae99f414287fd18d4a446538b",
       "version_major": 2,
       "version_minor": 0
      },
      "text/plain": [
       "  0%|          | 0/2561 [00:00<?, ?it/s]"
      ]
     },
     "metadata": {},
     "output_type": "display_data"
    },
    {
     "data": {
      "application/vnd.jupyter.widget-view+json": {
       "model_id": "eebef7b0bd304112947b8a73924f4eb4",
       "version_major": 2,
       "version_minor": 0
      },
      "text/plain": [
       "  0%|          | 0/2561 [00:00<?, ?it/s]"
      ]
     },
     "metadata": {},
     "output_type": "display_data"
    },
    {
     "data": {
      "application/vnd.jupyter.widget-view+json": {
       "model_id": "1d7ecf15e1ea44fb9f37ab8a56d85146",
       "version_major": 2,
       "version_minor": 0
      },
      "text/plain": [
       "  0%|          | 0/2561 [00:00<?, ?it/s]"
      ]
     },
     "metadata": {},
     "output_type": "display_data"
    },
    {
     "data": {
      "application/vnd.jupyter.widget-view+json": {
       "model_id": "2ab2effba72c41cdb2a9a9656c59081d",
       "version_major": 2,
       "version_minor": 0
      },
      "text/plain": [
       "  0%|          | 0/2561 [00:00<?, ?it/s]"
      ]
     },
     "metadata": {},
     "output_type": "display_data"
    },
    {
     "data": {
      "application/vnd.jupyter.widget-view+json": {
       "model_id": "08fe3b02c11e45b59e9285e5924e19ce",
       "version_major": 2,
       "version_minor": 0
      },
      "text/plain": [
       "  0%|          | 0/2561 [00:00<?, ?it/s]"
      ]
     },
     "metadata": {},
     "output_type": "display_data"
    },
    {
     "data": {
      "application/vnd.jupyter.widget-view+json": {
       "model_id": "1d0d6b36f64b42c4a7400b69d5ce4882",
       "version_major": 2,
       "version_minor": 0
      },
      "text/plain": [
       "  0%|          | 0/2561 [00:00<?, ?it/s]"
      ]
     },
     "metadata": {},
     "output_type": "display_data"
    }
   ],
   "source": [
    "scrape_part(patentes,30,7)"
   ]
  },
  {
   "cell_type": "markdown",
   "id": "e2f00d58",
   "metadata": {},
   "source": [
    "# Verificar dataframe creado"
   ]
  },
  {
   "cell_type": "code",
   "execution_count": null,
   "id": "0e8245f3",
   "metadata": {},
   "outputs": [],
   "source": [
    "df_hist=pd.read_csv(str(29)+'planillas.hist',index_col=0)"
   ]
  },
  {
   "cell_type": "markdown",
   "id": "6a74e23a",
   "metadata": {},
   "source": [
    "En caso de no completar . Ejecutar de nuevo la funcion scrape_part pero modificandola para comenzar desde la ultima particion hecha correctamente "
   ]
  },
  {
   "cell_type": "markdown",
   "id": "4206dcd1",
   "metadata": {},
   "source": [
    "# Unir las particiones en un unico archivo CSV"
   ]
  },
  {
   "cell_type": "code",
   "execution_count": 42,
   "id": "2c7d246a",
   "metadata": {},
   "outputs": [],
   "source": [
    "join_csv(30)\n"
   ]
  },
  {
   "cell_type": "markdown",
   "id": "26099c35",
   "metadata": {},
   "source": [
    "# Leer CSV completo y analizar "
   ]
  },
  {
   "cell_type": "code",
   "execution_count": 3,
   "id": "d467fbef",
   "metadata": {},
   "outputs": [
    {
     "name": "stdout",
     "output_type": "stream",
     "text": [
      "<class 'pandas.core.frame.DataFrame'>\n",
      "Int64Index: 265738 entries, 0 to 11694\n",
      "Data columns (total 7 columns):\n",
      " #   Column       Non-Null Count   Dtype \n",
      "---  ------       --------------   ----- \n",
      " 0   Dominio      265738 non-null  object\n",
      " 1   Planilla     265738 non-null  int64 \n",
      " 2   Taller       265738 non-null  int64 \n",
      " 3   Tipo Uso     265738 non-null  object\n",
      " 4   Fecha        265738 non-null  object\n",
      " 5   Resultado    265738 non-null  object\n",
      " 6   Versión RTO  265738 non-null  int64 \n",
      "dtypes: int64(3), object(4)\n",
      "memory usage: 16.2+ MB\n"
     ]
    }
   ],
   "source": [
    "planillas_hist=pd.read_csv('0.0.planillas.hist.COMPLETE',index_col=0)\n",
    "planillas_hist.info()"
   ]
  },
  {
   "cell_type": "code",
   "execution_count": 44,
   "id": "6b029b4f",
   "metadata": {
    "scrolled": true
   },
   "outputs": [
    {
     "data": {
      "text/plain": [
       "Dominio         76341\n",
       "Planilla       206842\n",
       "Taller            127\n",
       "Tipo Uso           10\n",
       "Fecha            5132\n",
       "Resultado           4\n",
       "Versión RTO         2\n",
       "dtype: int64"
      ]
     },
     "execution_count": 44,
     "metadata": {},
     "output_type": "execute_result"
    }
   ],
   "source": [
    "planillas_hist.nunique()"
   ]
  }
 ],
 "metadata": {
  "kernelspec": {
   "display_name": "Python 3 (ipykernel)",
   "language": "python",
   "name": "python3"
  },
  "language_info": {
   "codemirror_mode": {
    "name": "ipython",
    "version": 3
   },
   "file_extension": ".py",
   "mimetype": "text/x-python",
   "name": "python",
   "nbconvert_exporter": "python",
   "pygments_lexer": "ipython3",
   "version": "3.9.13"
  }
 },
 "nbformat": 4,
 "nbformat_minor": 5
}
