{
 "cells": [
  {
   "cell_type": "code",
   "execution_count": 979,
   "id": "82bc9e31-40e5-40e5-8681-e656e0b60e54",
   "metadata": {},
   "outputs": [],
   "source": [
    "import pandas as pd \n",
    "import numpy as np \n",
    "import matplotlib\n",
    "import matplotlib.pyplot as plt\n",
    "import seaborn as sns\n",
    "import datetime\n",
    "from tqdm.notebook import tqdm"
   ]
  },
  {
   "cell_type": "markdown",
   "id": "2dfd7a41-caa7-4b66-ad5d-6a65c64f19f2",
   "metadata": {},
   "source": [
    "Establecer carpeta de destino para las tablas de resultados"
   ]
  },
  {
   "cell_type": "code",
   "execution_count": 980,
   "id": "7c51bbce-061a-4619-b885-c8e2928398fc",
   "metadata": {},
   "outputs": [],
   "source": [
    "path=r'E:\\Ordenado\\DATA ANALISYS\\RTO tablas resultados'"
   ]
  },
  {
   "cell_type": "markdown",
   "id": "d6f7e339-385c-42ed-8583-840105b79675",
   "metadata": {},
   "source": [
    "Import Lista planillas "
   ]
  },
  {
   "cell_type": "code",
   "execution_count": 981,
   "id": "43c10e1d-8ff7-4fa6-b6ee-be152ab24b85",
   "metadata": {
    "scrolled": true
   },
   "outputs": [],
   "source": [
    "lista_planillas=pd.read_csv('DATASET/Lista_planillas_COMPLETE.csv',\n",
    "                            index_col=0,\n",
    "                            #parse_dates=['Fecha'],\n",
    "                            #infer_datetime_format=True)\n",
    "                           )\n"
   ]
  },
  {
   "cell_type": "markdown",
   "id": "e188265b-dc9a-4102-b0e4-b518bd78aaa2",
   "metadata": {},
   "source": [
    "Import Lista detalles"
   ]
  },
  {
   "cell_type": "code",
   "execution_count": 982,
   "id": "cf33f170-ebfa-465e-8334-74383a75cff5",
   "metadata": {},
   "outputs": [],
   "source": [
    "# Importar planillas de detalles\n",
    "planilla_detalles_inc=pd.read_csv('DATASET/0.0.planillas.detalle.COMPLETE.csv',\n",
    "                              index_col='Planilla',\n",
    "                              dtype={'Modelo':'Int64','Planilla':'Int64'})\n",
    "# Importar planillas de detalles faltantes \n",
    "planilla_detalles_faltante=pd.read_csv('DATASET/0.0.planillas.detalle.COMPLETE.faltante.csv',\n",
    "                              index_col='Planilla',\n",
    "                              dtype={'Modelo':'Int64','Planilla':'Int64'})\n",
    "\n",
    "#Unir Planillas \n",
    "planilla_detalles=pd.concat([planilla_detalles_inc, planilla_detalles_faltante])"
   ]
  },
  {
   "cell_type": "markdown",
   "id": "b89db9f7-474e-4036-b5a1-14c04a827a0a",
   "metadata": {},
   "source": [
    "Import lista historico de revisiones "
   ]
  },
  {
   "cell_type": "code",
   "execution_count": 983,
   "id": "fff278a7-1229-4a07-8eaf-825d95da2885",
   "metadata": {},
   "outputs": [],
   "source": [
    "historico_revisiones=pd.read_csv('DATASET/0.0.planillas.hist.COMPLETE.csv',\n",
    "                                 index_col='Planilla',\n",
    "                                 #parse_dates=['Fecha'],\n",
    "                                 #infer_datetime_format=True)\n",
    "                                )\n"
   ]
  },
  {
   "cell_type": "markdown",
   "id": "1cca82d3-0445-4edf-8b98-c214bb38c0c2",
   "metadata": {},
   "source": [
    "## Anonimizar Datos "
   ]
  },
  {
   "cell_type": "markdown",
   "id": "4302426b-eaa8-4be1-aaad-5055340be8fb",
   "metadata": {},
   "source": [
    "Uso esta funcion cada vez que quiera mostrar una tabla que contenga informacion sensible de clientes "
   ]
  },
  {
   "cell_type": "code",
   "execution_count": 1006,
   "id": "167097f6-0489-4c26-b952-639273c6e039",
   "metadata": {},
   "outputs": [],
   "source": [
    "# Asigno nicknames utilizando el package faker.\n",
    "from faker import Faker\n",
    "\n",
    "def anon(dataframe,columna):\n",
    "    # Asigno nicknames utilizando el package faker.\n",
    "    faker = Faker()\n",
    "    # seed the random generator to produce the same results\n",
    "    Faker.seed(58874)\n",
    "    dict_names = {name: faker.name() for name in dataframe[columna].unique()}\n",
    "    dataframe[columna] = dataframe[columna].map(dict_names)\n",
    "\n"
   ]
  },
  {
   "cell_type": "markdown",
   "id": "5aabe989-49ce-454d-87eb-b9f6f9579dbf",
   "metadata": {
    "tags": []
   },
   "source": [
    "# Data Cleaning "
   ]
  },
  {
   "cell_type": "markdown",
   "id": "260282ac-0e27-4cf8-973e-f4463390c85c",
   "metadata": {},
   "source": [
    "Lista de detalles"
   ]
  },
  {
   "cell_type": "code",
   "execution_count": 984,
   "id": "c55b86fb-2ae9-406d-9e75-e57d6db30a71",
   "metadata": {},
   "outputs": [],
   "source": [
    "#Eliminar filas vacias\n",
    "planilla_detalles.dropna(inplace=True)\n",
    "\n",
    "\n",
    "#Cambiar nombre columnas\n",
    "planilla_detalles.rename(columns={'Dominio:':'Dominio','Convenio:':'Convenio'},inplace=True)\n",
    "\n",
    "#Eliminar columna innecesaria\n",
    "planilla_detalles.drop(columns='Unnamed: 0',inplace=True)\n",
    "\n",
    "\n"
   ]
  },
  {
   "cell_type": "markdown",
   "id": "e547b1b0-00cd-489d-b631-eadc13b2754a",
   "metadata": {},
   "source": [
    "lista historio de revisones"
   ]
  },
  {
   "cell_type": "code",
   "execution_count": 985,
   "id": "33bb6f4e-8df5-44d1-bfca-277fb018365d",
   "metadata": {},
   "outputs": [],
   "source": [
    "#Eliminar columna innecesaria\n",
    "historico_revisiones.drop(columns='Unnamed: 0',inplace=True)"
   ]
  },
  {
   "cell_type": "markdown",
   "id": "da68dd0f-7464-432e-890b-4e584cf554b1",
   "metadata": {},
   "source": [
    "Lista de planillas"
   ]
  },
  {
   "cell_type": "code",
   "execution_count": 986,
   "id": "35d99c8d-3aac-4118-9bbd-1d5805cb21cd",
   "metadata": {},
   "outputs": [],
   "source": [
    "#Cambiar Fecha a formato datetime\n",
    "lista_planillas['Fecha'] = pd.to_datetime(lista_planillas['Fecha'], format=\"%d/%m/%Y\")\n",
    "\n",
    "historico_revisiones['Fecha'] = pd.to_datetime(historico_revisiones['Fecha'], format=\"%d/%m/%Y\")\n",
    "\n",
    "#Crear Columnas : Anio,Mes,Mes_label, Anio y mes \n",
    "lista_planillas['Anio']=lista_planillas['Fecha'].dt.year\n",
    "\n",
    "lista_planillas['Mes']=lista_planillas['Fecha'].dt.month\n",
    "\n",
    "lista_planillas['Mes_label']=lista_planillas['Fecha'].dt.month_name(locale='es_ES')\n",
    "\n",
    "lista_planillas['Anio y Mes']=lista_planillas['Anio'].astype(str)+lista_planillas['Mes'].astype(str)\n",
    "\n",
    "# Mostrar CUIT en formato correcto \n",
    "lista_planillas['CUIT']=lista_planillas['CUIT'].astype('Int64')\n",
    "#pd.options.display.float_format = '{:.0f}'.format\n",
    "\n",
    "# Borrar espacios de Razon Social  \n",
    "lista_planillas['Razón Social']=lista_planillas['Razón Social'].str.replace('\\W', ' ', regex=True)\n",
    "\n",
    "# Borrar asteriscos de Dominio\n",
    "lista_planillas['Dominio']=lista_planillas['Dominio'].str.replace('\\W', ' ', regex=True)\n",
    "\n",
    "\n"
   ]
  },
  {
   "cell_type": "markdown",
   "id": "6f294c40-5cf2-4a32-86e3-a74eaa760525",
   "metadata": {
    "tags": []
   },
   "source": [
    "## Anonimizar Datos de clientes  ."
   ]
  },
  {
   "cell_type": "markdown",
   "id": "19a75f76-cba2-4485-ae03-e14f252d17fc",
   "metadata": {},
   "source": [
    "Establecer una unica Razon Social para cada CUIT: \n",
    "\n",
    "Por errores de data entry, hay varios valores de razon social para un mismo CUIT. "
   ]
  },
  {
   "cell_type": "code",
   "execution_count": 987,
   "id": "f39ef0a0-80bd-4eb8-851c-03f2d9b0d933",
   "metadata": {},
   "outputs": [],
   "source": [
    "#Eliminar Cuit repetidos:\n",
    "df_cuit_razon_social=lista_planillas[['CUIT','Razón Social']].drop_duplicates(subset=['CUIT']).sort_values('CUIT') \n",
    "\n",
    "#Usar CUIT como index\n",
    "df_cuit_razon_social.set_index('CUIT',inplace=True)\n",
    "\n",
    "\n",
    "#Transponer dataframe y pasarlo a lista de valores en el formato [{CUIT:Razon Social,CUIT:Razon Social}]\n",
    "list_dict_cuit_razon_social=df_cuit_razon_social.T.to_dict(orient='records')\n",
    "\n",
    "\n",
    "#El dicionario esta dentro de la lista, seleccionamos el indice [0] de la lista para obtenerlo\n",
    "dict_cuit_razon_social=list_dict_cuit_razon_social[0]\n"
   ]
  },
  {
   "cell_type": "code",
   "execution_count": 988,
   "id": "070fed42-9d87-4d10-9f57-58eecd578168",
   "metadata": {},
   "outputs": [],
   "source": [
    "#Creamos columna Razon Social Unica. Mapeamos los valores desde el diccionario \n",
    "lista_planillas['Razón Social Unica']=lista_planillas['CUIT'].map(dict_cuit_razon_social)"
   ]
  },
  {
   "cell_type": "code",
   "execution_count": 989,
   "id": "17e6b151-ec24-4f2a-bac6-6fbb282a4666",
   "metadata": {},
   "outputs": [],
   "source": [
    "# Crear key unico  para todas las tablas \n",
    "lista_planillas['id']=lista_planillas.index.astype(str)+lista_planillas['Dominio']\n",
    "\n",
    "planilla_detalles['id']=planilla_detalles.index.astype(str)+planilla_detalles['Dominio']\n",
    "\n",
    "historico_revisiones['id']=historico_revisiones.index.astype(str)+historico_revisiones['Dominio']"
   ]
  },
  {
   "cell_type": "markdown",
   "id": "90f475e0-64a9-4c79-97a0-a78c387ba6e5",
   "metadata": {},
   "source": [
    "## UNIR TODAS LAS TABLAS "
   ]
  },
  {
   "cell_type": "markdown",
   "id": "d270b981-41d0-411e-84f6-65130599e229",
   "metadata": {
    "tags": []
   },
   "source": [
    "# Agregar Modelo a lista de planillas"
   ]
  },
  {
   "cell_type": "code",
   "execution_count": 992,
   "id": "6c0fc69d-0c75-4019-b6e2-5ea2cb9e2954",
   "metadata": {},
   "outputs": [],
   "source": [
    "#planilla de key : Dominio : Modelo \n",
    "filtro_modelo_null=planilla_detalles['Modelo'].notna()&(planilla_detalles['Modelo']>0)\n",
    "planilla_detalles_sin_null=planilla_detalles[filtro_modelo_null].copy()\n",
    "planilla_detalles_key=planilla_detalles_sin_null[['Modelo','Dominio']].drop_duplicates(subset=['Dominio'])\n",
    "\n",
    "# Agregar con left merge \n",
    "lista_planillas=lista_planillas.reset_index().merge(planilla_detalles_key,how='left',left_on='Dominio',right_on='Dominio').copy()\n"
   ]
  },
  {
   "cell_type": "code",
   "execution_count": 993,
   "id": "8b6512fc-b8ee-4af6-87b9-612620048333",
   "metadata": {},
   "outputs": [],
   "source": [
    "#Agregar antiguedad al momento de la revision \n",
    "lista_planillas['antiguedad_revision']=lista_planillas['Anio']-lista_planillas['Modelo']"
   ]
  },
  {
   "cell_type": "markdown",
   "id": "16daeef8-f385-4f46-8f4e-e795404be374",
   "metadata": {},
   "source": [
    "## Eliminar duplicados"
   ]
  },
  {
   "cell_type": "code",
   "execution_count": 994,
   "id": "68541bb4-3368-45e7-bd1c-a8f9527c9403",
   "metadata": {},
   "outputs": [],
   "source": [
    "lista_planillas.drop_duplicates(subset=('id'),inplace=True)\n",
    "\n",
    "planilla_detalles.drop_duplicates(subset=('id'),inplace=True)\n",
    "\n",
    "historico_revisiones.drop_duplicates(subset=('id'),inplace=True)"
   ]
  },
  {
   "cell_type": "markdown",
   "id": "b7363181-2e6f-4b9c-aba8-6d57a1a25fc9",
   "metadata": {},
   "source": [
    "## Check modelos faltantes"
   ]
  },
  {
   "cell_type": "code",
   "execution_count": 995,
   "id": "e111ec57-a737-4006-a9f5-c758f80881d6",
   "metadata": {},
   "outputs": [
    {
     "name": "stdout",
     "output_type": "stream",
     "text": [
      "Porcentaje de vehiculos sin informacion del año modelo : 4.85%\n"
     ]
    }
   ],
   "source": [
    "Porcentaje=round(\n",
    "                lista_planillas[lista_planillas['Modelo'].isna()]['Planilla'].count()/lista_planillas['Modelo'].count()*100,\n",
    "                2)\n",
    "print(f'Porcentaje de vehiculos sin informacion del año modelo : {Porcentaje}%')\n",
    "\n"
   ]
  },
  {
   "cell_type": "markdown",
   "id": "1209dd47-26f1-4b70-afd9-4b9a396d18de",
   "metadata": {},
   "source": [
    "## Comenzemos con el analisis"
   ]
  },
  {
   "cell_type": "markdown",
   "id": "63c6c52b-de7c-4fa9-a10b-6e3366a6fb55",
   "metadata": {},
   "source": [
    "# Flota total de cada Empresa"
   ]
  },
  {
   "cell_type": "code",
   "execution_count": 1007,
   "id": "d830ec83-594a-4a89-9a7e-a9361e9d6f5a",
   "metadata": {},
   "outputs": [
    {
     "data": {
      "text/html": [
       "<div>\n",
       "<style scoped>\n",
       "    .dataframe tbody tr th:only-of-type {\n",
       "        vertical-align: middle;\n",
       "    }\n",
       "\n",
       "    .dataframe tbody tr th {\n",
       "        vertical-align: top;\n",
       "    }\n",
       "\n",
       "    .dataframe thead th {\n",
       "        text-align: right;\n",
       "    }\n",
       "</style>\n",
       "<table border=\"1\" class=\"dataframe\">\n",
       "  <thead>\n",
       "    <tr style=\"text-align: right;\">\n",
       "      <th></th>\n",
       "      <th>Razón Social Unica</th>\n",
       "      <th>Flota Historica</th>\n",
       "    </tr>\n",
       "  </thead>\n",
       "  <tbody>\n",
       "    <tr>\n",
       "      <th>3279</th>\n",
       "      <td>Edward Stafford</td>\n",
       "      <td>383</td>\n",
       "    </tr>\n",
       "    <tr>\n",
       "      <th>17636</th>\n",
       "      <td>Lisa Gutierrez</td>\n",
       "      <td>287</td>\n",
       "    </tr>\n",
       "    <tr>\n",
       "      <th>888</th>\n",
       "      <td>Jessica Cruz</td>\n",
       "      <td>286</td>\n",
       "    </tr>\n",
       "    <tr>\n",
       "      <th>53561</th>\n",
       "      <td>Gregory Smith</td>\n",
       "      <td>261</td>\n",
       "    </tr>\n",
       "    <tr>\n",
       "      <th>38212</th>\n",
       "      <td>Teresa Lin</td>\n",
       "      <td>209</td>\n",
       "    </tr>\n",
       "    <tr>\n",
       "      <th>11770</th>\n",
       "      <td>Laura Hayes</td>\n",
       "      <td>113</td>\n",
       "    </tr>\n",
       "    <tr>\n",
       "      <th>17368</th>\n",
       "      <td>Jacob Mann</td>\n",
       "      <td>110</td>\n",
       "    </tr>\n",
       "    <tr>\n",
       "      <th>15815</th>\n",
       "      <td>Samantha Choi</td>\n",
       "      <td>104</td>\n",
       "    </tr>\n",
       "    <tr>\n",
       "      <th>17634</th>\n",
       "      <td>Kimberly Levy</td>\n",
       "      <td>100</td>\n",
       "    </tr>\n",
       "    <tr>\n",
       "      <th>11787</th>\n",
       "      <td>Sara Warren</td>\n",
       "      <td>87</td>\n",
       "    </tr>\n",
       "  </tbody>\n",
       "</table>\n",
       "</div>"
      ],
      "text/plain": [
       "      Razón Social Unica  Flota Historica\n",
       "3279     Edward Stafford              383\n",
       "17636     Lisa Gutierrez              287\n",
       "888         Jessica Cruz              286\n",
       "53561      Gregory Smith              261\n",
       "38212         Teresa Lin              209\n",
       "11770        Laura Hayes              113\n",
       "17368         Jacob Mann              110\n",
       "15815      Samantha Choi              104\n",
       "17634      Kimberly Levy              100\n",
       "11787        Sara Warren               87"
      ]
     },
     "execution_count": 1007,
     "metadata": {},
     "output_type": "execute_result"
    }
   ],
   "source": [
    "#Eliminamos los duplicados de los pares Patente-CUIT . una misma patente pudo ser transferida por lo que si borramos todos los duplicados de patentes perderiamos esa informacion \n",
    "lista_planillas_dominio=lista_planillas.drop_duplicates(subset=['Dominio','CUIT'])\n",
    "\n",
    "#Creamos una planilla agrupando y contando los dominios por Razon Social Unica.\n",
    "vehiculos_por_cliente=lista_planillas_dominio.groupby('Razón Social Unica')[['Dominio']].count()\n",
    "\n",
    "#Cambiamos el nombre de la columna por uno mas adecuado Revisiones Totales\n",
    "vehiculos_por_cliente.rename(columns={'Dominio':'Flota Historica'},inplace=True)\n",
    "\n",
    "# Anonimizamos la tabla para mostrar \n",
    "vehiculos_por_cliente.reset_index(inplace=True)\n",
    "\n",
    "anon(vehiculos_por_cliente,'Razón Social Unica')\n",
    "\n",
    "#Ordenamos los Clientes  por mayor numero de Revisiones totales \n",
    "vehiculos_por_cliente.sort_values('Flota Historica',ascending=False).head(10)\n",
    "\n"
   ]
  },
  {
   "cell_type": "markdown",
   "id": "e4a27f56-68be-475d-8917-93d2b0cb4e59",
   "metadata": {},
   "source": [
    "# Mejores clientes Historico"
   ]
  },
  {
   "cell_type": "code",
   "execution_count": 1008,
   "id": "8a4309bb-1b75-4fc1-af90-0e8f26a17b0b",
   "metadata": {},
   "outputs": [
    {
     "data": {
      "text/html": [
       "<div>\n",
       "<style scoped>\n",
       "    .dataframe tbody tr th:only-of-type {\n",
       "        vertical-align: middle;\n",
       "    }\n",
       "\n",
       "    .dataframe tbody tr th {\n",
       "        vertical-align: top;\n",
       "    }\n",
       "\n",
       "    .dataframe thead th {\n",
       "        text-align: right;\n",
       "    }\n",
       "</style>\n",
       "<table border=\"1\" class=\"dataframe\">\n",
       "  <thead>\n",
       "    <tr style=\"text-align: right;\">\n",
       "      <th></th>\n",
       "      <th>Razón Social Unica</th>\n",
       "      <th>Revisiones Totales</th>\n",
       "    </tr>\n",
       "  </thead>\n",
       "  <tbody>\n",
       "    <tr>\n",
       "      <th>17636</th>\n",
       "      <td>Lisa Gutierrez</td>\n",
       "      <td>1107</td>\n",
       "    </tr>\n",
       "    <tr>\n",
       "      <th>888</th>\n",
       "      <td>Jessica Cruz</td>\n",
       "      <td>1062</td>\n",
       "    </tr>\n",
       "    <tr>\n",
       "      <th>3279</th>\n",
       "      <td>Edward Stafford</td>\n",
       "      <td>1026</td>\n",
       "    </tr>\n",
       "    <tr>\n",
       "      <th>17368</th>\n",
       "      <td>Jacob Mann</td>\n",
       "      <td>984</td>\n",
       "    </tr>\n",
       "    <tr>\n",
       "      <th>17634</th>\n",
       "      <td>Kimberly Levy</td>\n",
       "      <td>689</td>\n",
       "    </tr>\n",
       "    <tr>\n",
       "      <th>53561</th>\n",
       "      <td>Gregory Smith</td>\n",
       "      <td>664</td>\n",
       "    </tr>\n",
       "    <tr>\n",
       "      <th>49087</th>\n",
       "      <td>Sheryl Gonzalez</td>\n",
       "      <td>630</td>\n",
       "    </tr>\n",
       "    <tr>\n",
       "      <th>17362</th>\n",
       "      <td>Tammie Willis</td>\n",
       "      <td>464</td>\n",
       "    </tr>\n",
       "    <tr>\n",
       "      <th>17361</th>\n",
       "      <td>David Terry</td>\n",
       "      <td>458</td>\n",
       "    </tr>\n",
       "    <tr>\n",
       "      <th>29045</th>\n",
       "      <td>Amanda Scott</td>\n",
       "      <td>449</td>\n",
       "    </tr>\n",
       "  </tbody>\n",
       "</table>\n",
       "</div>"
      ],
      "text/plain": [
       "      Razón Social Unica  Revisiones Totales\n",
       "17636     Lisa Gutierrez                1107\n",
       "888         Jessica Cruz                1062\n",
       "3279     Edward Stafford                1026\n",
       "17368         Jacob Mann                 984\n",
       "17634      Kimberly Levy                 689\n",
       "53561      Gregory Smith                 664\n",
       "49087    Sheryl Gonzalez                 630\n",
       "17362      Tammie Willis                 464\n",
       "17361        David Terry                 458\n",
       "29045       Amanda Scott                 449"
      ]
     },
     "execution_count": 1008,
     "metadata": {},
     "output_type": "execute_result"
    }
   ],
   "source": [
    "#Creamos una planilla agrupando y contando los dominios por Razon Social Unica.\n",
    "vehiculos_por_cliente=lista_planillas.groupby('Razón Social Unica')[['Dominio']].count()\n",
    "\n",
    "#Cambiamos el nombre de la columna por uno mas adecuado Revisiones Totales\n",
    "vehiculos_por_cliente.rename(columns={'Dominio':'Revisiones Totales'},inplace=True)\n",
    "\n",
    "#Ordenamos los Clientes  por mayor numero de Revisiones totales \n",
    "\n",
    "# Anonimizamos la tabla para mostrar \n",
    "vehiculos_por_cliente.reset_index(inplace=True)\n",
    "\n",
    "anon(vehiculos_por_cliente,'Razón Social Unica')\n",
    "\n",
    "#Ordenamos los Clientes  por mayor numero de Revisiones totales \n",
    "\n",
    "vehiculos_por_cliente.sort_values('Revisiones Totales',ascending=False).head(10)"
   ]
  },
  {
   "cell_type": "markdown",
   "id": "7e8c16ac-998f-4807-94e9-ead6c7dc3a7d",
   "metadata": {
    "tags": []
   },
   "source": [
    "# Mejores clientes por año "
   ]
  },
  {
   "cell_type": "code",
   "execution_count": 1026,
   "id": "8600e68b-ee70-4581-b3c0-e119d5a8b570",
   "metadata": {},
   "outputs": [],
   "source": [
    "vehiculos_por_cliente_anual=pd.pivot_table(lista_planillas,index='Razón Social Unica',values='CUIT',columns='Anio',aggfunc='count')"
   ]
  },
  {
   "cell_type": "code",
   "execution_count": 1027,
   "id": "6e1ebbaa-d961-4a2c-962b-ffddd8279203",
   "metadata": {},
   "outputs": [],
   "source": [
    "#reemplazo na por 0\n",
    "vehiculos_por_cliente_anual.fillna(0,inplace=True)"
   ]
  },
  {
   "cell_type": "code",
   "execution_count": 1028,
   "id": "ab064b7f-e06b-40e3-b776-4e92f45eb905",
   "metadata": {},
   "outputs": [
    {
     "data": {
      "text/html": [
       "<div>\n",
       "<style scoped>\n",
       "    .dataframe tbody tr th:only-of-type {\n",
       "        vertical-align: middle;\n",
       "    }\n",
       "\n",
       "    .dataframe tbody tr th {\n",
       "        vertical-align: top;\n",
       "    }\n",
       "\n",
       "    .dataframe thead th {\n",
       "        text-align: right;\n",
       "    }\n",
       "</style>\n",
       "<table border=\"1\" class=\"dataframe\">\n",
       "  <thead>\n",
       "    <tr style=\"text-align: right;\">\n",
       "      <th>Anio</th>\n",
       "      <th>Razón Social Unica</th>\n",
       "      <th>2014</th>\n",
       "      <th>2015</th>\n",
       "      <th>2016</th>\n",
       "      <th>2017</th>\n",
       "      <th>2018</th>\n",
       "      <th>2019</th>\n",
       "      <th>2020</th>\n",
       "      <th>2021</th>\n",
       "      <th>2022</th>\n",
       "    </tr>\n",
       "  </thead>\n",
       "  <tbody>\n",
       "    <tr>\n",
       "      <th>17636</th>\n",
       "      <td>Lisa Gutierrez</td>\n",
       "      <td>17.0</td>\n",
       "      <td>29.0</td>\n",
       "      <td>44.0</td>\n",
       "      <td>65.0</td>\n",
       "      <td>135.0</td>\n",
       "      <td>239.0</td>\n",
       "      <td>140.0</td>\n",
       "      <td>223.0</td>\n",
       "      <td>215.0</td>\n",
       "    </tr>\n",
       "    <tr>\n",
       "      <th>3279</th>\n",
       "      <td>Edward Stafford</td>\n",
       "      <td>14.0</td>\n",
       "      <td>87.0</td>\n",
       "      <td>92.0</td>\n",
       "      <td>109.0</td>\n",
       "      <td>110.0</td>\n",
       "      <td>122.0</td>\n",
       "      <td>163.0</td>\n",
       "      <td>176.0</td>\n",
       "      <td>153.0</td>\n",
       "    </tr>\n",
       "    <tr>\n",
       "      <th>888</th>\n",
       "      <td>Jessica Cruz</td>\n",
       "      <td>24.0</td>\n",
       "      <td>125.0</td>\n",
       "      <td>125.0</td>\n",
       "      <td>142.0</td>\n",
       "      <td>117.0</td>\n",
       "      <td>134.0</td>\n",
       "      <td>127.0</td>\n",
       "      <td>133.0</td>\n",
       "      <td>135.0</td>\n",
       "    </tr>\n",
       "    <tr>\n",
       "      <th>17368</th>\n",
       "      <td>Jacob Mann</td>\n",
       "      <td>35.0</td>\n",
       "      <td>116.0</td>\n",
       "      <td>131.0</td>\n",
       "      <td>147.0</td>\n",
       "      <td>131.0</td>\n",
       "      <td>126.0</td>\n",
       "      <td>88.0</td>\n",
       "      <td>114.0</td>\n",
       "      <td>96.0</td>\n",
       "    </tr>\n",
       "    <tr>\n",
       "      <th>53561</th>\n",
       "      <td>Gregory Smith</td>\n",
       "      <td>22.0</td>\n",
       "      <td>60.0</td>\n",
       "      <td>92.0</td>\n",
       "      <td>89.0</td>\n",
       "      <td>70.0</td>\n",
       "      <td>76.0</td>\n",
       "      <td>70.0</td>\n",
       "      <td>90.0</td>\n",
       "      <td>95.0</td>\n",
       "    </tr>\n",
       "    <tr>\n",
       "      <th>27700</th>\n",
       "      <td>Jill Bonilla</td>\n",
       "      <td>0.0</td>\n",
       "      <td>0.0</td>\n",
       "      <td>0.0</td>\n",
       "      <td>0.0</td>\n",
       "      <td>0.0</td>\n",
       "      <td>0.0</td>\n",
       "      <td>0.0</td>\n",
       "      <td>23.0</td>\n",
       "      <td>75.0</td>\n",
       "    </tr>\n",
       "    <tr>\n",
       "      <th>49087</th>\n",
       "      <td>Sheryl Gonzalez</td>\n",
       "      <td>18.0</td>\n",
       "      <td>127.0</td>\n",
       "      <td>135.0</td>\n",
       "      <td>81.0</td>\n",
       "      <td>64.0</td>\n",
       "      <td>53.0</td>\n",
       "      <td>43.0</td>\n",
       "      <td>48.0</td>\n",
       "      <td>61.0</td>\n",
       "    </tr>\n",
       "    <tr>\n",
       "      <th>29045</th>\n",
       "      <td>Amanda Scott</td>\n",
       "      <td>6.0</td>\n",
       "      <td>62.0</td>\n",
       "      <td>55.0</td>\n",
       "      <td>50.0</td>\n",
       "      <td>67.0</td>\n",
       "      <td>51.0</td>\n",
       "      <td>52.0</td>\n",
       "      <td>50.0</td>\n",
       "      <td>56.0</td>\n",
       "    </tr>\n",
       "    <tr>\n",
       "      <th>11787</th>\n",
       "      <td>Sara Warren</td>\n",
       "      <td>3.0</td>\n",
       "      <td>34.0</td>\n",
       "      <td>37.0</td>\n",
       "      <td>46.0</td>\n",
       "      <td>26.0</td>\n",
       "      <td>32.0</td>\n",
       "      <td>44.0</td>\n",
       "      <td>35.0</td>\n",
       "      <td>54.0</td>\n",
       "    </tr>\n",
       "    <tr>\n",
       "      <th>17362</th>\n",
       "      <td>Tammie Willis</td>\n",
       "      <td>8.0</td>\n",
       "      <td>36.0</td>\n",
       "      <td>58.0</td>\n",
       "      <td>80.0</td>\n",
       "      <td>77.0</td>\n",
       "      <td>78.0</td>\n",
       "      <td>32.0</td>\n",
       "      <td>43.0</td>\n",
       "      <td>52.0</td>\n",
       "    </tr>\n",
       "  </tbody>\n",
       "</table>\n",
       "</div>"
      ],
      "text/plain": [
       "Anio  Razón Social Unica  2014   2015   2016   2017   2018   2019   2020  \\\n",
       "17636     Lisa Gutierrez  17.0   29.0   44.0   65.0  135.0  239.0  140.0   \n",
       "3279     Edward Stafford  14.0   87.0   92.0  109.0  110.0  122.0  163.0   \n",
       "888         Jessica Cruz  24.0  125.0  125.0  142.0  117.0  134.0  127.0   \n",
       "17368         Jacob Mann  35.0  116.0  131.0  147.0  131.0  126.0   88.0   \n",
       "53561      Gregory Smith  22.0   60.0   92.0   89.0   70.0   76.0   70.0   \n",
       "27700       Jill Bonilla   0.0    0.0    0.0    0.0    0.0    0.0    0.0   \n",
       "49087    Sheryl Gonzalez  18.0  127.0  135.0   81.0   64.0   53.0   43.0   \n",
       "29045       Amanda Scott   6.0   62.0   55.0   50.0   67.0   51.0   52.0   \n",
       "11787        Sara Warren   3.0   34.0   37.0   46.0   26.0   32.0   44.0   \n",
       "17362      Tammie Willis   8.0   36.0   58.0   80.0   77.0   78.0   32.0   \n",
       "\n",
       "Anio    2021   2022  \n",
       "17636  223.0  215.0  \n",
       "3279   176.0  153.0  \n",
       "888    133.0  135.0  \n",
       "17368  114.0   96.0  \n",
       "53561   90.0   95.0  \n",
       "27700   23.0   75.0  \n",
       "49087   48.0   61.0  \n",
       "29045   50.0   56.0  \n",
       "11787   35.0   54.0  \n",
       "17362   43.0   52.0  "
      ]
     },
     "execution_count": 1028,
     "metadata": {},
     "output_type": "execute_result"
    }
   ],
   "source": [
    "# Anonimizamos la tabla para mostrar \n",
    "vehiculos_por_cliente_anual.reset_index(inplace=True)\n",
    "\n",
    "anon(vehiculos_por_cliente_anual,'Razón Social Unica')\n",
    "\n",
    "\n",
    "vehiculos_por_cliente_anual.sort_values(2022,ascending=False).head(10)"
   ]
  },
  {
   "cell_type": "code",
   "execution_count": 1037,
   "id": "ba4eaa86-ab81-4a80-b608-657cd1a04a0d",
   "metadata": {},
   "outputs": [],
   "source": [
    "#Lista de Empresas que fueron top en algun año \n",
    "lt=[]\n",
    "for a in range (2014,2023):\n",
    "    l=vehiculos_por_cliente_anual.nlargest(3,a).index.tolist()\n",
    "    lt=lt+l\n",
    "lt=set(lt)\n",
    "#lt=[elem[:20]for elem  in lt]\n",
    "lt=list(lt)\n"
   ]
  },
  {
   "cell_type": "code",
   "execution_count": 1045,
   "id": "e5cbc834-fd78-4795-aef2-90c93aa59bce",
   "metadata": {},
   "outputs": [
    {
     "data": {
      "text/plain": [
       "<AxesSubplot:title={'center':'Mejores Clientes Por Año'}, xlabel='Anio'>"
      ]
     },
     "execution_count": 1045,
     "metadata": {},
     "output_type": "execute_result"
    },
    {
     "data": {
      "image/png": "[encoded data removed]",
      "text/plain": [
       "<Figure size 1700x500 with 1 Axes>"
      ]
     },
     "metadata": {},
     "output_type": "display_data"
    }
   ],
   "source": [
    "# Transpongo la tabla para tener la fecha de index\n",
    "#Filtro la tabla con la lista de empresas que fueron top 5 en algun año\n",
    "vehiculos_por_cliente_anual_t=vehiculos_por_cliente_anual.loc[lt].set_index('Razón Social Unica').T\n",
    "vehiculos_por_cliente_anual_t.plot(kind='line',figsize=(17,5),title='Mejores Clientes Por Año')"
   ]
  },
  {
   "cell_type": "markdown",
   "id": "4eb7cc57-d334-4e67-b69a-6d4beb84db72",
   "metadata": {
    "tags": []
   },
   "source": [
    "# Perdida de Clientes "
   ]
  },
  {
   "cell_type": "code",
   "execution_count": 1086,
   "id": "88561cfa-2456-4e45-bfcd-7330779537a8",
   "metadata": {},
   "outputs": [],
   "source": [
    "#Lista de Dominios de revisiones dentro del taller :\n",
    "lista_dominios_unicos=lista_planillas['Dominio'].drop_duplicates()\n",
    "\n",
    "# Filtro la planilla historico_revisiones para tener solo los Dominios que alguna vez hayan realizado la revision en el taller\n",
    "filtro_dominio=historico_revisiones['Dominio'].isin(lista_dominios_unicos)\n",
    "\n",
    "historico_revisiones_taller=historico_revisiones[filtro_dominio].copy()\n"
   ]
  },
  {
   "cell_type": "code",
   "execution_count": 1087,
   "id": "9074b180-3de3-4aa9-85a3-a7df28dcca2e",
   "metadata": {},
   "outputs": [],
   "source": [
    "#Calculo fecha min Proxima revision \n",
    "\n",
    "historico_revisiones_taller['Fecha_prox']=historico_revisiones_taller['Fecha']+datetime.timedelta(days=70)\n",
    "\n",
    "#Calculo fecha min revision anterior \n",
    "\n",
    "historico_revisiones_taller['Fecha_ant']=historico_revisiones_taller['Fecha']-datetime.timedelta(days=70)\n",
    "\n",
    "#crear columna Retencion_cliente dentro de la planilla perdida de clientes \n",
    "historico_revisiones_taller['Retencion_cliente']='Nada'\n",
    "\n"
   ]
  },
  {
   "cell_type": "code",
   "execution_count": 1088,
   "id": "707e5577-a840-4f6e-ac8a-baba44b7fd77",
   "metadata": {},
   "outputs": [],
   "source": [
    "\n",
    "# Primero Reinicio index para no perder el index anterior ( Planilla ) \n",
    "historico_revisiones_taller.reset_index(inplace=True) \n",
    "\n",
    "#Uso la columna id como index, ya que este no se repite\n",
    "historico_revisiones_taller.set_index('id',inplace=True)"
   ]
  },
  {
   "cell_type": "markdown",
   "id": "c8dff25c-ad08-4a52-b2b7-7ce59d7e1211",
   "metadata": {},
   "source": [
    "Condiciones para la nueva metrica de Retencion de clientes: \n",
    "\n",
    "Cuando NO es retencion de cliente :\n",
    "    -Numero de taller siguiente es distinto\n",
    "      \n",
    "Cuando SI es retencion de cliente:\n",
    "    -Numero de taller siguiente es el Mismo\n",
    "\n",
    "Cuando Ignorar/no es ninguno:\n",
    "\n",
    "    -La tecninca luego de un Condicional (si esta dentro de los 60 dias )\n",
    "    \n",
    "    -Si no hay tecnica siguiente \n",
    "    \n",
    "    -la Tecnica luego de un Rechazado (dentro de los 60 dias)\n",
    "\n"
   ]
  },
  {
   "cell_type": "markdown",
   "id": "d8af6152-2404-4ca5-9452-4d8307e9ae35",
   "metadata": {},
   "source": [
    "Eliminar Tecnicas que se realizaron sin cargo"
   ]
  },
  {
   "cell_type": "code",
   "execution_count": 1089,
   "id": "16d0b7d7-e759-433f-8a4d-8206c04ba4fa",
   "metadata": {},
   "outputs": [],
   "source": [
    "# Crear tablas de Revisiones Condicionales en Nuestro taller\n",
    "\n",
    "#Filtro revisiones condicionales     \n",
    "filtro_condicional=historico_revisiones_taller['Resultado']=='Condicional'\n",
    "\n",
    "#Filtro revisiones rechazadas \n",
    "filtro_rechazado=historico_revisiones_taller['Resultado']=='Rechazado'\n",
    "\n",
    "#Filtro las revisiones condicionales que se hicieron en nuestro taller : Solo las revisiones en nuestro taller tendran la prox gratis \n",
    "filtro_taller=historico_revisiones_taller['Taller']==4\n",
    "\n",
    "\n",
    "# Creo tabla temporal\n",
    "temp=historico_revisiones_taller.loc[((filtro_condicional|filtro_rechazado)&filtro_taller),['Planilla','Resultado','Dominio','Fecha','Fecha_prox']]\n",
    "\n",
    "\n",
    "# Creo tabla temporal de revisiones en nuestro Taller:Solo seran gratis tecnicas en nuestro taller \n",
    "\n",
    "temp_taller_4=historico_revisiones_taller[historico_revisiones_taller['Taller']==4]\n",
    "\n"
   ]
  },
  {
   "cell_type": "code",
   "execution_count": 1090,
   "id": "bc0e0ddb-04fa-443e-99b8-2b50af940848",
   "metadata": {},
   "outputs": [],
   "source": [
    "# import tqdm to see progress bar \n",
    "from tqdm.notebook import tqdm"
   ]
  },
  {
   "cell_type": "code",
   "execution_count": 1091,
   "id": "c14df6c3-df5e-4b85-8ba1-4c0abd041d3d",
   "metadata": {
    "tags": []
   },
   "outputs": [
    {
     "data": {
      "application/vnd.jupyter.widget-view+json": {
       "model_id": "e513723814f3441b890a60bb327c9805",
       "version_major": 2,
       "version_minor": 0
      },
      "text/plain": [
       "  0%|          | 0/17604 [00:00<?, ?it/s]"
      ]
     },
     "metadata": {},
     "output_type": "display_data"
    }
   ],
   "source": [
    "#Lista de Revisiones que SERIAN gratis en nuestro taller \n",
    "lista_rev_gratis=[]\n",
    "for i in tqdm((temp.index)):\n",
    "    #Planilla\n",
    "    planilla=temp.loc[i,'Planilla']\n",
    "    \n",
    "    #Dominio\n",
    "    dominio=temp.loc[i,'Dominio']\n",
    "    #print(dominio)\n",
    "   \n",
    "    #Fecha \n",
    "    fecha=temp.loc[i,'Fecha']\n",
    "    \n",
    "    #Fecha prox\n",
    "    fecha_prox=temp.loc[i,'Fecha_prox']\n",
    "    \n",
    "    #Filtro Dominio\n",
    "    filtro_dominio=temp_taller_4['Dominio']==dominio\n",
    "   \n",
    "    \n",
    "    #Filtro Fecha\n",
    "    filtro_fecha=temp_taller_4['Fecha'].between(fecha,fecha_prox,inclusive='both')\n",
    "    \n",
    "    #Filtro planilla\n",
    "    filtro_planilla=temp_taller_4['Planilla']!=planilla\n",
    "    \n",
    "    #REVISIONES QUE SERIAN GRATIS EN NUESTRO TALLER \n",
    "    revisiones_gratis=temp_taller_4[filtro_dominio&filtro_fecha&filtro_planilla]\n",
    "    \n",
    "    if not revisiones_gratis.empty:\n",
    "        lista_rev_gratis.append(revisiones_gratis.index.tolist())\n",
    "        \n",
    "#print (lista_rev_gratis)"
   ]
  },
  {
   "cell_type": "code",
   "execution_count": 1092,
   "id": "c9bec8d0-f14e-4462-92aa-c9fd884c64c4",
   "metadata": {},
   "outputs": [],
   "source": [
    "# Convertir una lista de listas , a una lista\n",
    "\n",
    "#con for loop \n",
    "lista_rev_gratis_flat = []\n",
    "for sublist in lista_rev_gratis:\n",
    "    for item in sublist:\n",
    "        lista_rev_gratis_flat.append(item)\n",
    "\n",
    "        # con list comprehension\n",
    "#lista_rev_gratis_flat=[item for sublist in lista_rev_gratis for item in sublist]"
   ]
  },
  {
   "cell_type": "markdown",
   "id": "fe38e72e-1237-483a-8d86-961d2e2803e7",
   "metadata": {},
   "source": [
    "Lista de revisiones que fueron pagadas "
   ]
  },
  {
   "cell_type": "code",
   "execution_count": 1093,
   "id": "acc1d090-e1bf-4c2c-87ce-34d314f46cfb",
   "metadata": {},
   "outputs": [],
   "source": [
    "#Filtro revisiones pagas\n",
    "filtro_revisiones_pagas=~historico_revisiones_taller.index.isin(lista_rev_gratis_flat)\n",
    "\n",
    "\n",
    "retencion_clientes=historico_revisiones_taller.loc[filtro_revisiones_pagas].copy()"
   ]
  },
  {
   "cell_type": "markdown",
   "id": "b8c6c8db-42c2-40ad-aacf-1914fcfa32fc",
   "metadata": {},
   "source": [
    "Cuando NO es retencion de cliente : -Numero de taller siguiente es distinto\n",
    "\n",
    "Cuando SI es retencion de cliente: -Numero de taller siguiente es el Mismo"
   ]
  },
  {
   "cell_type": "code",
   "execution_count": 1094,
   "id": "a9db4152-4099-4d35-97e4-c948a2bea6b2",
   "metadata": {},
   "outputs": [],
   "source": [
    "# series shift : Tengo que hacer para slices de dataframe\n",
    "# Pandas shift within a group \n",
    "\n",
    "#https://stackoverflow.com/questions/53335567/use-pandas-shift-within-a-group\n",
    "\n",
    "retencion_clientes['taller_siguiente']=retencion_clientes.groupby('Dominio')['Taller'].shift(1)\n"
   ]
  },
  {
   "cell_type": "markdown",
   "id": "25eebf13-e799-4ef3-896c-c315c1fef38f",
   "metadata": {},
   "source": [
    "Eliminar revisiones si fue la ultima tecnica "
   ]
  },
  {
   "cell_type": "code",
   "execution_count": 1095,
   "id": "f4739eb9-6ebb-4655-a046-a68f12c22b4d",
   "metadata": {},
   "outputs": [],
   "source": [
    "retencion_clientes.dropna(subset='taller_siguiente',inplace=True)"
   ]
  },
  {
   "cell_type": "markdown",
   "id": "5184caa7-2895-4e9a-8bfb-0999255ebf6b",
   "metadata": {},
   "source": [
    "Retencion:"
   ]
  },
  {
   "cell_type": "code",
   "execution_count": 1096,
   "id": "5592066d-bfac-4f8e-a851-392e9489b7c5",
   "metadata": {},
   "outputs": [
    {
     "data": {
      "application/vnd.jupyter.widget-view+json": {
       "model_id": "96a4ab7f4ffb47088defd4916921ea83",
       "version_major": 2,
       "version_minor": 0
      },
      "text/plain": [
       "  0%|          | 0/170084 [00:00<?, ?it/s]"
      ]
     },
     "metadata": {},
     "output_type": "display_data"
    }
   ],
   "source": [
    "retencion_clientes['Retencion_cliente']='asd'\n",
    "for i in tqdm((retencion_clientes.index)):\n",
    "    # Dar valores a retencion_cliente\n",
    "    taller=retencion_clientes.loc[i,'Taller']\n",
    "    taller_siguiente=retencion_clientes.loc[i,'taller_siguiente']\n",
    "\n",
    "    if taller==4:\n",
    "        if taller_siguiente==4:\n",
    "            retencion_clientes.loc[i,'Retencion_cliente']='retencion'\n",
    "        else:\n",
    "            retencion_clientes.loc[i,'Retencion_cliente']='perdio'\n",
    "\n",
    "\n",
    "    else:\n",
    "        if taller_siguiente==4:\n",
    "            retencion_clientes.loc[i,'Retencion_cliente']='gano'\n",
    "        else:\n",
    "            retencion_clientes.loc[i,'Retencion_cliente']='no gano'\n",
    "\n"
   ]
  },
  {
   "cell_type": "code",
   "execution_count": 1097,
   "id": "2aed9974-0cf1-4e69-8947-e83cdaf39394",
   "metadata": {},
   "outputs": [
    {
     "data": {
      "text/plain": [
       "Retencion_cliente\n",
       "gano         24228\n",
       "no gano      59545\n",
       "perdio       27538\n",
       "retencion    58773\n",
       "Name: Resultado, dtype: int64"
      ]
     },
     "execution_count": 1097,
     "metadata": {},
     "output_type": "execute_result"
    }
   ],
   "source": [
    "retencion_clientes.groupby('Retencion_cliente')['Resultado'].count()"
   ]
  },
  {
   "cell_type": "code",
   "execution_count": 1098,
   "id": "4b218ca7-6965-4991-9dbb-7483cf4711e6",
   "metadata": {},
   "outputs": [
    {
     "data": {
      "text/html": [
       "<div>\n",
       "<style scoped>\n",
       "    .dataframe tbody tr th:only-of-type {\n",
       "        vertical-align: middle;\n",
       "    }\n",
       "\n",
       "    .dataframe tbody tr th {\n",
       "        vertical-align: top;\n",
       "    }\n",
       "\n",
       "    .dataframe thead th {\n",
       "        text-align: right;\n",
       "    }\n",
       "</style>\n",
       "<table border=\"1\" class=\"dataframe\">\n",
       "  <thead>\n",
       "    <tr style=\"text-align: right;\">\n",
       "      <th>Retencion_cliente</th>\n",
       "      <th>gano</th>\n",
       "      <th>no gano</th>\n",
       "      <th>perdio</th>\n",
       "      <th>retencion</th>\n",
       "    </tr>\n",
       "    <tr>\n",
       "      <th>Resultado</th>\n",
       "      <th></th>\n",
       "      <th></th>\n",
       "      <th></th>\n",
       "      <th></th>\n",
       "    </tr>\n",
       "  </thead>\n",
       "  <tbody>\n",
       "    <tr>\n",
       "      <th>Apto</th>\n",
       "      <td>23412</td>\n",
       "      <td>44887</td>\n",
       "      <td>23139</td>\n",
       "      <td>52699</td>\n",
       "    </tr>\n",
       "    <tr>\n",
       "      <th>Condicional</th>\n",
       "      <td>702</td>\n",
       "      <td>12578</td>\n",
       "      <td>4297</td>\n",
       "      <td>5947</td>\n",
       "    </tr>\n",
       "    <tr>\n",
       "      <th>Rechazado</th>\n",
       "      <td>114</td>\n",
       "      <td>2080</td>\n",
       "      <td>102</td>\n",
       "      <td>127</td>\n",
       "    </tr>\n",
       "  </tbody>\n",
       "</table>\n",
       "</div>"
      ],
      "text/plain": [
       "Retencion_cliente   gano  no gano  perdio  retencion\n",
       "Resultado                                           \n",
       "Apto               23412    44887   23139      52699\n",
       "Condicional          702    12578    4297       5947\n",
       "Rechazado            114     2080     102        127"
      ]
     },
     "execution_count": 1098,
     "metadata": {},
     "output_type": "execute_result"
    }
   ],
   "source": [
    "retencion_clientes_pivot=pd.crosstab(index=retencion_clientes['Resultado'],\n",
    "                                     values=retencion_clientes['Dominio'],\n",
    "                                    columns=retencion_clientes['Retencion_cliente'],\n",
    "                                    aggfunc='count')\n",
    "retencion_clientes_pivot"
   ]
  },
  {
   "cell_type": "code",
   "execution_count": 1099,
   "id": "95208c86-8d49-4758-8f55-be05fdb17de2",
   "metadata": {},
   "outputs": [
    {
     "data": {
      "text/html": [
       "<div>\n",
       "<style scoped>\n",
       "    .dataframe tbody tr th:only-of-type {\n",
       "        vertical-align: middle;\n",
       "    }\n",
       "\n",
       "    .dataframe tbody tr th {\n",
       "        vertical-align: top;\n",
       "    }\n",
       "\n",
       "    .dataframe thead th {\n",
       "        text-align: right;\n",
       "    }\n",
       "</style>\n",
       "<table border=\"1\" class=\"dataframe\">\n",
       "  <thead>\n",
       "    <tr style=\"text-align: right;\">\n",
       "      <th>Retencion_cliente</th>\n",
       "      <th>gano</th>\n",
       "      <th>no gano</th>\n",
       "      <th>perdio</th>\n",
       "      <th>retencion</th>\n",
       "    </tr>\n",
       "    <tr>\n",
       "      <th>Resultado</th>\n",
       "      <th></th>\n",
       "      <th></th>\n",
       "      <th></th>\n",
       "      <th></th>\n",
       "    </tr>\n",
       "  </thead>\n",
       "  <tbody>\n",
       "    <tr>\n",
       "      <th>Apto</th>\n",
       "      <td>16.2</td>\n",
       "      <td>31.1</td>\n",
       "      <td>16.1</td>\n",
       "      <td>36.6</td>\n",
       "    </tr>\n",
       "    <tr>\n",
       "      <th>Condicional</th>\n",
       "      <td>3.0</td>\n",
       "      <td>53.5</td>\n",
       "      <td>18.3</td>\n",
       "      <td>25.3</td>\n",
       "    </tr>\n",
       "    <tr>\n",
       "      <th>Rechazado</th>\n",
       "      <td>4.7</td>\n",
       "      <td>85.8</td>\n",
       "      <td>4.2</td>\n",
       "      <td>5.2</td>\n",
       "    </tr>\n",
       "  </tbody>\n",
       "</table>\n",
       "</div>"
      ],
      "text/plain": [
       "Retencion_cliente  gano  no gano  perdio  retencion\n",
       "Resultado                                          \n",
       "Apto               16.2     31.1    16.1       36.6\n",
       "Condicional         3.0     53.5    18.3       25.3\n",
       "Rechazado           4.7     85.8     4.2        5.2"
      ]
     },
     "execution_count": 1099,
     "metadata": {},
     "output_type": "execute_result"
    }
   ],
   "source": [
    "retencion_clientes_pivot_perc=pd.crosstab(index=retencion_clientes['Resultado'],\n",
    "                                     values=retencion_clientes['Dominio'],\n",
    "                                    columns=retencion_clientes['Retencion_cliente'],\n",
    "                                    aggfunc='count',\n",
    "                                    normalize='index')\n",
    "retencion_clientes_pivot_perc.round(3)*100"
   ]
  },
  {
   "cell_type": "code",
   "execution_count": 1100,
   "id": "c1af382b-ea12-4cc3-b20b-523f01eded7c",
   "metadata": {},
   "outputs": [],
   "source": [
    "retencion_clientes_pivot_taller_4=retencion_clientes_pivot.iloc[:,[2,3]].copy()\n"
   ]
  },
  {
   "cell_type": "code",
   "execution_count": 1101,
   "id": "32de382f-607b-4464-b343-81e82f914ff5",
   "metadata": {},
   "outputs": [
    {
     "data": {
      "text/html": [
       "<div>\n",
       "<style scoped>\n",
       "    .dataframe tbody tr th:only-of-type {\n",
       "        vertical-align: middle;\n",
       "    }\n",
       "\n",
       "    .dataframe tbody tr th {\n",
       "        vertical-align: top;\n",
       "    }\n",
       "\n",
       "    .dataframe thead th {\n",
       "        text-align: right;\n",
       "    }\n",
       "</style>\n",
       "<table border=\"1\" class=\"dataframe\">\n",
       "  <thead>\n",
       "    <tr style=\"text-align: right;\">\n",
       "      <th>Retencion_cliente</th>\n",
       "      <th>perdio</th>\n",
       "      <th>retencion</th>\n",
       "    </tr>\n",
       "    <tr>\n",
       "      <th>Resultado</th>\n",
       "      <th></th>\n",
       "      <th></th>\n",
       "    </tr>\n",
       "  </thead>\n",
       "  <tbody>\n",
       "    <tr>\n",
       "      <th>Apto</th>\n",
       "      <td>23139</td>\n",
       "      <td>52699</td>\n",
       "    </tr>\n",
       "    <tr>\n",
       "      <th>Condicional</th>\n",
       "      <td>4297</td>\n",
       "      <td>5947</td>\n",
       "    </tr>\n",
       "    <tr>\n",
       "      <th>Rechazado</th>\n",
       "      <td>102</td>\n",
       "      <td>127</td>\n",
       "    </tr>\n",
       "  </tbody>\n",
       "</table>\n",
       "</div>"
      ],
      "text/plain": [
       "Retencion_cliente  perdio  retencion\n",
       "Resultado                           \n",
       "Apto                23139      52699\n",
       "Condicional          4297       5947\n",
       "Rechazado             102        127"
      ]
     },
     "execution_count": 1101,
     "metadata": {},
     "output_type": "execute_result"
    }
   ],
   "source": [
    "retencion_clientes_pivot_taller_4"
   ]
  },
  {
   "cell_type": "code",
   "execution_count": 1102,
   "id": "62b75148-dcfd-41cd-a2d0-e6d7a6b29415",
   "metadata": {},
   "outputs": [],
   "source": [
    "retencion_clientes_pivot_taller_4_perc=pd.DataFrame()\n",
    "retencion_clientes_pivot_taller_4_perc[['perdio', 'retencion']] = retencion_clientes_pivot_taller_4[['perdio', 'retencion']].apply(lambda x: x/x.sum(), axis=1)"
   ]
  },
  {
   "cell_type": "code",
   "execution_count": 1103,
   "id": "bbd0ba6d-3e73-4a90-b2c2-831e8a1dfa1c",
   "metadata": {},
   "outputs": [
    {
     "data": {
      "text/html": [
       "<div>\n",
       "<style scoped>\n",
       "    .dataframe tbody tr th:only-of-type {\n",
       "        vertical-align: middle;\n",
       "    }\n",
       "\n",
       "    .dataframe tbody tr th {\n",
       "        vertical-align: top;\n",
       "    }\n",
       "\n",
       "    .dataframe thead th {\n",
       "        text-align: right;\n",
       "    }\n",
       "</style>\n",
       "<table border=\"1\" class=\"dataframe\">\n",
       "  <thead>\n",
       "    <tr style=\"text-align: right;\">\n",
       "      <th></th>\n",
       "      <th>perdio</th>\n",
       "      <th>retencion</th>\n",
       "    </tr>\n",
       "    <tr>\n",
       "      <th>Resultado</th>\n",
       "      <th></th>\n",
       "      <th></th>\n",
       "    </tr>\n",
       "  </thead>\n",
       "  <tbody>\n",
       "    <tr>\n",
       "      <th>Apto</th>\n",
       "      <td>30.5</td>\n",
       "      <td>69.5</td>\n",
       "    </tr>\n",
       "    <tr>\n",
       "      <th>Condicional</th>\n",
       "      <td>41.9</td>\n",
       "      <td>58.1</td>\n",
       "    </tr>\n",
       "    <tr>\n",
       "      <th>Rechazado</th>\n",
       "      <td>44.5</td>\n",
       "      <td>55.5</td>\n",
       "    </tr>\n",
       "  </tbody>\n",
       "</table>\n",
       "</div>"
      ],
      "text/plain": [
       "             perdio  retencion\n",
       "Resultado                     \n",
       "Apto           30.5       69.5\n",
       "Condicional    41.9       58.1\n",
       "Rechazado      44.5       55.5"
      ]
     },
     "execution_count": 1103,
     "metadata": {},
     "output_type": "execute_result"
    }
   ],
   "source": [
    "retencion_clientes_pivot_taller_4_perc.round(3)*100"
   ]
  },
  {
   "cell_type": "code",
   "execution_count": 1104,
   "id": "25b2ceb8-de29-4874-8bcd-a4e495672202",
   "metadata": {},
   "outputs": [
    {
     "data": {
      "text/plain": [
       "68.1"
      ]
     },
     "execution_count": 1104,
     "metadata": {},
     "output_type": "execute_result"
    }
   ],
   "source": [
    "retencion_tot=retencion_clientes_pivot_taller_4.sum()\n",
    "retencion=((retencion_tot['retencion']/retencion_tot.sum())*100).round(1)\n",
    "retencion"
   ]
  },
  {
   "cell_type": "code",
   "execution_count": 1105,
   "id": "9293f257-28d0-43b2-a2f5-319ee0e645bb",
   "metadata": {},
   "outputs": [
    {
     "data": {
      "image/png": "[encoded data removed]",
      "text/plain": [
       "<Figure size 640x480 with 1 Axes>"
      ]
     },
     "metadata": {},
     "output_type": "display_data"
    }
   ],
   "source": [
    "\n",
    "\n",
    "(retencion_clientes_pivot_taller_4_perc['retencion']*100).plot.bar( title='Porcentaje de Retencion de clientes',rot=0,color=(['g','y','r']))\n",
    "\n",
    "plt.xticks(rotation=0)\n",
    "\n",
    "plt.axhline(y=retencion, color='k', linestyle='--')\n",
    "\n",
    "\n",
    "labels = [\"retencion clientes total\"]\n",
    "plt.legend(labels=labels)\n",
    "\n",
    "plt.show()"
   ]
  },
  {
   "cell_type": "markdown",
   "id": "bb16c15d-aaa6-4009-a5a0-4a37b3ffde0b",
   "metadata": {},
   "source": [
    "El resultado de la revision tiene un impacto en la retencion de clientes.\n",
    "\n",
    "Sin embargo la diferencia no es tan grande como ubiesemos estimados a priori "
   ]
  },
  {
   "cell_type": "markdown",
   "id": "c0c8f9dc-6ee4-4c10-be5f-98d9ac54c810",
   "metadata": {},
   "source": [
    "Si solo evaluamos el efecto de las revisiones en LOS DEMAS talleres:"
   ]
  },
  {
   "cell_type": "code",
   "execution_count": 1106,
   "id": "e02e8808-fccc-43db-96a3-4f818c623c7d",
   "metadata": {},
   "outputs": [],
   "source": [
    "retencion_clientes_pivot_taller_not_4=retencion_clientes_pivot.iloc[:,[0,1]].copy()\n"
   ]
  },
  {
   "cell_type": "code",
   "execution_count": 1107,
   "id": "cfd57c85-bc6f-4275-b57d-b0b451195870",
   "metadata": {},
   "outputs": [
    {
     "data": {
      "text/html": [
       "<div>\n",
       "<style scoped>\n",
       "    .dataframe tbody tr th:only-of-type {\n",
       "        vertical-align: middle;\n",
       "    }\n",
       "\n",
       "    .dataframe tbody tr th {\n",
       "        vertical-align: top;\n",
       "    }\n",
       "\n",
       "    .dataframe thead th {\n",
       "        text-align: right;\n",
       "    }\n",
       "</style>\n",
       "<table border=\"1\" class=\"dataframe\">\n",
       "  <thead>\n",
       "    <tr style=\"text-align: right;\">\n",
       "      <th>Retencion_cliente</th>\n",
       "      <th>gano</th>\n",
       "      <th>no gano</th>\n",
       "    </tr>\n",
       "    <tr>\n",
       "      <th>Resultado</th>\n",
       "      <th></th>\n",
       "      <th></th>\n",
       "    </tr>\n",
       "  </thead>\n",
       "  <tbody>\n",
       "    <tr>\n",
       "      <th>Apto</th>\n",
       "      <td>23412</td>\n",
       "      <td>44887</td>\n",
       "    </tr>\n",
       "    <tr>\n",
       "      <th>Condicional</th>\n",
       "      <td>702</td>\n",
       "      <td>12578</td>\n",
       "    </tr>\n",
       "    <tr>\n",
       "      <th>Rechazado</th>\n",
       "      <td>114</td>\n",
       "      <td>2080</td>\n",
       "    </tr>\n",
       "  </tbody>\n",
       "</table>\n",
       "</div>"
      ],
      "text/plain": [
       "Retencion_cliente   gano  no gano\n",
       "Resultado                        \n",
       "Apto               23412    44887\n",
       "Condicional          702    12578\n",
       "Rechazado            114     2080"
      ]
     },
     "execution_count": 1107,
     "metadata": {},
     "output_type": "execute_result"
    }
   ],
   "source": [
    "retencion_clientes_pivot_taller_not_4"
   ]
  },
  {
   "cell_type": "code",
   "execution_count": 1108,
   "id": "917e3184-2ce5-4eb6-b27d-87fa58a6fccc",
   "metadata": {},
   "outputs": [],
   "source": [
    "retencion_clientes_pivot_taller_not_4_perc=pd.DataFrame()\n",
    "retencion_clientes_pivot_taller_not_4_perc[['gano', 'no gano']] = retencion_clientes_pivot_taller_not_4[['gano', 'no gano']].apply(lambda x: x/x.sum(), axis=1)"
   ]
  },
  {
   "cell_type": "code",
   "execution_count": 1109,
   "id": "1a005009-d10c-4ceb-bc69-cc5ccc563f13",
   "metadata": {},
   "outputs": [
    {
     "data": {
      "text/html": [
       "<div>\n",
       "<style scoped>\n",
       "    .dataframe tbody tr th:only-of-type {\n",
       "        vertical-align: middle;\n",
       "    }\n",
       "\n",
       "    .dataframe tbody tr th {\n",
       "        vertical-align: top;\n",
       "    }\n",
       "\n",
       "    .dataframe thead th {\n",
       "        text-align: right;\n",
       "    }\n",
       "</style>\n",
       "<table border=\"1\" class=\"dataframe\">\n",
       "  <thead>\n",
       "    <tr style=\"text-align: right;\">\n",
       "      <th></th>\n",
       "      <th>gano</th>\n",
       "      <th>no gano</th>\n",
       "    </tr>\n",
       "    <tr>\n",
       "      <th>Resultado</th>\n",
       "      <th></th>\n",
       "      <th></th>\n",
       "    </tr>\n",
       "  </thead>\n",
       "  <tbody>\n",
       "    <tr>\n",
       "      <th>Apto</th>\n",
       "      <td>34.3</td>\n",
       "      <td>65.7</td>\n",
       "    </tr>\n",
       "    <tr>\n",
       "      <th>Condicional</th>\n",
       "      <td>5.3</td>\n",
       "      <td>94.7</td>\n",
       "    </tr>\n",
       "    <tr>\n",
       "      <th>Rechazado</th>\n",
       "      <td>5.2</td>\n",
       "      <td>94.8</td>\n",
       "    </tr>\n",
       "  </tbody>\n",
       "</table>\n",
       "</div>"
      ],
      "text/plain": [
       "             gano  no gano\n",
       "Resultado                 \n",
       "Apto         34.3     65.7\n",
       "Condicional   5.3     94.7\n",
       "Rechazado     5.2     94.8"
      ]
     },
     "execution_count": 1109,
     "metadata": {},
     "output_type": "execute_result"
    }
   ],
   "source": [
    "retencion_clientes_pivot_taller_not_4_perc.round(3)*100"
   ]
  },
  {
   "cell_type": "code",
   "execution_count": 1110,
   "id": "b3309ba3-797f-4f33-ba9d-1deafd8a79be",
   "metadata": {},
   "outputs": [
    {
     "data": {
      "text/plain": [
       "28.9"
      ]
     },
     "execution_count": 1110,
     "metadata": {},
     "output_type": "execute_result"
    }
   ],
   "source": [
    "retencion_tot=retencion_clientes_pivot_taller_not_4.sum()\n",
    "retencion=((retencion_tot['gano']/retencion_tot.sum())*100).round(1)\n",
    "retencion"
   ]
  },
  {
   "cell_type": "code",
   "execution_count": 1111,
   "id": "956bb20b-7222-48e8-8672-42db6212b591",
   "metadata": {},
   "outputs": [
    {
     "data": {
      "image/png": "[encoded data removed]",
      "text/plain": [
       "<Figure size 640x480 with 1 Axes>"
      ]
     },
     "metadata": {},
     "output_type": "display_data"
    }
   ],
   "source": [
    "\n",
    "\n",
    "(retencion_clientes_pivot_taller_not_4_perc['gano']*100).plot.bar( title='Porcentaje de ganancia de clientes',rot=0,color=(['g','y','r']))\n",
    "\n",
    "plt.xticks(rotation=0)\n",
    "\n",
    "plt.axhline(y=retencion, color='k', linestyle='--')\n",
    "\n",
    "\n",
    "labels = [\"gananacia clientes total\"]\n",
    "plt.legend(labels=labels)\n",
    "\n",
    "plt.show()"
   ]
  },
  {
   "cell_type": "markdown",
   "id": "ecd3409d-6c65-435f-9e6a-107c4b64a05b",
   "metadata": {},
   "source": [
    "EL dataset solo incluye vehiculos que hayan realizado la tecnica en nuestro taller en algun momento\n",
    "\n",
    "\n",
    "Para evaluar la gananacia de clientes deberiamos contar con la base de datos de los vehiculos de los demas talleres.\n",
    " "
   ]
  },
  {
   "cell_type": "code",
   "execution_count": null,
   "id": "0759229d-4d56-4505-9b05-c6b59d8f3a33",
   "metadata": {},
   "outputs": [],
   "source": []
  },
  {
   "cell_type": "markdown",
   "id": "c0d191f1-8a82-43d3-87d0-a4d1c79db392",
   "metadata": {
    "tags": []
   },
   "source": [
    "# Dia con mas revisiones"
   ]
  },
  {
   "cell_type": "code",
   "execution_count": 1112,
   "id": "958a6a11-27f0-40d8-928a-85d409f574ce",
   "metadata": {},
   "outputs": [],
   "source": [
    "lista_planillas['day_of_week']=lista_planillas['Fecha'].dt.dayofweek+1\n",
    "\n",
    "lista_planillas['day_name']=lista_planillas['Fecha'].dt.day_name(locale='es_ES')\n",
    "\n"
   ]
  },
  {
   "cell_type": "code",
   "execution_count": 1113,
   "id": "2addc204-b29e-4544-97b5-c60d1d6f2484",
   "metadata": {},
   "outputs": [],
   "source": [
    "revisiones_por_dia=lista_planillas.groupby('day_of_week')[['Dominio']].count()\n"
   ]
  },
  {
   "cell_type": "code",
   "execution_count": 1114,
   "id": "03a38003-bdbf-4770-a7ad-ba4adc6a7c29",
   "metadata": {},
   "outputs": [],
   "source": [
    "horas_dia={1:9.5,2:9.5,3:9.5,4:9.5,5:9.5,6:4}\n",
    "\n",
    "revisiones_por_dia['horas_por_dia']=revisiones_por_dia.index.map(horas_dia)\n",
    "\n",
    "revisiones_por_dia['revisiones_por_hora']=(revisiones_por_dia['Dominio']/revisiones_por_dia['horas_por_dia']).round(0)\n"
   ]
  },
  {
   "cell_type": "code",
   "execution_count": 1115,
   "id": "0e97f3d8-f9b3-4e25-adb8-374bc884f0c6",
   "metadata": {},
   "outputs": [
    {
     "data": {
      "text/html": [
       "<div>\n",
       "<style scoped>\n",
       "    .dataframe tbody tr th:only-of-type {\n",
       "        vertical-align: middle;\n",
       "    }\n",
       "\n",
       "    .dataframe tbody tr th {\n",
       "        vertical-align: top;\n",
       "    }\n",
       "\n",
       "    .dataframe thead th {\n",
       "        text-align: right;\n",
       "    }\n",
       "</style>\n",
       "<table border=\"1\" class=\"dataframe\">\n",
       "  <thead>\n",
       "    <tr style=\"text-align: right;\">\n",
       "      <th></th>\n",
       "      <th>Dominio</th>\n",
       "      <th>horas_por_dia</th>\n",
       "      <th>revisiones_por_hora</th>\n",
       "    </tr>\n",
       "    <tr>\n",
       "      <th>day_of_week</th>\n",
       "      <th></th>\n",
       "      <th></th>\n",
       "      <th></th>\n",
       "    </tr>\n",
       "  </thead>\n",
       "  <tbody>\n",
       "    <tr>\n",
       "      <th>1</th>\n",
       "      <td>30374</td>\n",
       "      <td>9.5</td>\n",
       "      <td>3197.0</td>\n",
       "    </tr>\n",
       "    <tr>\n",
       "      <th>2</th>\n",
       "      <td>31480</td>\n",
       "      <td>9.5</td>\n",
       "      <td>3314.0</td>\n",
       "    </tr>\n",
       "    <tr>\n",
       "      <th>3</th>\n",
       "      <td>32957</td>\n",
       "      <td>9.5</td>\n",
       "      <td>3469.0</td>\n",
       "    </tr>\n",
       "    <tr>\n",
       "      <th>4</th>\n",
       "      <td>33138</td>\n",
       "      <td>9.5</td>\n",
       "      <td>3488.0</td>\n",
       "    </tr>\n",
       "    <tr>\n",
       "      <th>5</th>\n",
       "      <td>33366</td>\n",
       "      <td>9.5</td>\n",
       "      <td>3512.0</td>\n",
       "    </tr>\n",
       "    <tr>\n",
       "      <th>6</th>\n",
       "      <td>15542</td>\n",
       "      <td>4.0</td>\n",
       "      <td>3886.0</td>\n",
       "    </tr>\n",
       "  </tbody>\n",
       "</table>\n",
       "</div>"
      ],
      "text/plain": [
       "             Dominio  horas_por_dia  revisiones_por_hora\n",
       "day_of_week                                             \n",
       "1              30374            9.5               3197.0\n",
       "2              31480            9.5               3314.0\n",
       "3              32957            9.5               3469.0\n",
       "4              33138            9.5               3488.0\n",
       "5              33366            9.5               3512.0\n",
       "6              15542            4.0               3886.0"
      ]
     },
     "execution_count": 1115,
     "metadata": {},
     "output_type": "execute_result"
    }
   ],
   "source": [
    "revisiones_por_dia"
   ]
  },
  {
   "cell_type": "code",
   "execution_count": null,
   "id": "c61a55fc-5bbd-4184-8bdf-f451b5de7633",
   "metadata": {},
   "outputs": [],
   "source": []
  },
  {
   "cell_type": "markdown",
   "id": "be8a372d-7418-4dde-8ac5-22fb13e634ae",
   "metadata": {},
   "source": [
    "# Revisiones por dia agrupado por MES "
   ]
  },
  {
   "cell_type": "code",
   "execution_count": 1116,
   "id": "1b36e71c-642a-4654-b0fd-8a9d22608b93",
   "metadata": {},
   "outputs": [
    {
     "data": {
      "text/html": [
       "<div>\n",
       "<style scoped>\n",
       "    .dataframe tbody tr th:only-of-type {\n",
       "        vertical-align: middle;\n",
       "    }\n",
       "\n",
       "    .dataframe tbody tr th {\n",
       "        vertical-align: top;\n",
       "    }\n",
       "\n",
       "    .dataframe thead th {\n",
       "        text-align: right;\n",
       "    }\n",
       "</style>\n",
       "<table border=\"1\" class=\"dataframe\">\n",
       "  <thead>\n",
       "    <tr style=\"text-align: right;\">\n",
       "      <th></th>\n",
       "      <th>Dominio</th>\n",
       "    </tr>\n",
       "    <tr>\n",
       "      <th>Mes</th>\n",
       "      <th></th>\n",
       "    </tr>\n",
       "  </thead>\n",
       "  <tbody>\n",
       "    <tr>\n",
       "      <th>1</th>\n",
       "      <td>17654</td>\n",
       "    </tr>\n",
       "    <tr>\n",
       "      <th>2</th>\n",
       "      <td>14736</td>\n",
       "    </tr>\n",
       "    <tr>\n",
       "      <th>3</th>\n",
       "      <td>13865</td>\n",
       "    </tr>\n",
       "    <tr>\n",
       "      <th>4</th>\n",
       "      <td>11456</td>\n",
       "    </tr>\n",
       "    <tr>\n",
       "      <th>5</th>\n",
       "      <td>11503</td>\n",
       "    </tr>\n",
       "    <tr>\n",
       "      <th>6</th>\n",
       "      <td>12546</td>\n",
       "    </tr>\n",
       "    <tr>\n",
       "      <th>7</th>\n",
       "      <td>14836</td>\n",
       "    </tr>\n",
       "    <tr>\n",
       "      <th>8</th>\n",
       "      <td>14706</td>\n",
       "    </tr>\n",
       "    <tr>\n",
       "      <th>9</th>\n",
       "      <td>15182</td>\n",
       "    </tr>\n",
       "    <tr>\n",
       "      <th>10</th>\n",
       "      <td>15460</td>\n",
       "    </tr>\n",
       "    <tr>\n",
       "      <th>11</th>\n",
       "      <td>16307</td>\n",
       "    </tr>\n",
       "    <tr>\n",
       "      <th>12</th>\n",
       "      <td>18606</td>\n",
       "    </tr>\n",
       "  </tbody>\n",
       "</table>\n",
       "</div>"
      ],
      "text/plain": [
       "     Dominio\n",
       "Mes         \n",
       "1      17654\n",
       "2      14736\n",
       "3      13865\n",
       "4      11456\n",
       "5      11503\n",
       "6      12546\n",
       "7      14836\n",
       "8      14706\n",
       "9      15182\n",
       "10     15460\n",
       "11     16307\n",
       "12     18606"
      ]
     },
     "execution_count": 1116,
     "metadata": {},
     "output_type": "execute_result"
    }
   ],
   "source": [
    "lista_planillas.groupby('Mes')[['Dominio']].count()\n"
   ]
  },
  {
   "cell_type": "markdown",
   "id": "417fd0ef-b3ed-4c88-82f5-9582e46d7223",
   "metadata": {},
   "source": [
    "# Hora de mas Revisiones "
   ]
  },
  {
   "cell_type": "code",
   "execution_count": 1135,
   "id": "417e4cc9-b35e-4655-ae26-b17f0bad70d1",
   "metadata": {},
   "outputs": [],
   "source": [
    "test=lista_planillas[['Inicio','Fin','Dominio','Fecha']].copy()\n",
    "#Cambiar hora_resultado a formato datetime\n",
    "test['Fin1']=pd.to_datetime(test['Fin'],format=\"%H:%M\")\n",
    "test['hora']=test['Fin1']\n",
    "test.set_index('hora',inplace=True)\n",
    "group=test.resample('15Min').count()[['Dominio']]\n"
   ]
  },
  {
   "cell_type": "markdown",
   "id": "e0f7aedf-d219-43ac-947f-152e704b29ec",
   "metadata": {},
   "source": [
    "PLOT HISTOGRAM"
   ]
  },
  {
   "cell_type": "code",
   "execution_count": 1136,
   "id": "349c7d0f-16e1-4cf7-a139-7c8b61e8cddf",
   "metadata": {},
   "outputs": [],
   "source": [
    "group_plot=group.query('hora>=\"1900-01-01 07:10:00\"')"
   ]
  },
  {
   "cell_type": "code",
   "execution_count": 1137,
   "id": "1de35fc8-e1da-4698-b1d2-a1d37fcb15db",
   "metadata": {},
   "outputs": [],
   "source": [
    "group_plot.index=group_plot.index.time"
   ]
  },
  {
   "cell_type": "code",
   "execution_count": 1138,
   "id": "1758e33e-e9ac-4a4a-9193-ee58696fcd5a",
   "metadata": {},
   "outputs": [
    {
     "data": {
      "text/plain": [
       "Text(0, 0.5, 'Total de revisiones ')"
      ]
     },
     "execution_count": 1138,
     "metadata": {},
     "output_type": "execute_result"
    },
    {
     "data": {
      "image/png": "[encoded data removed]",
      "text/plain": [
       "<Figure size 2000x700 with 1 Axes>"
      ]
     },
     "metadata": {},
     "output_type": "display_data"
    }
   ],
   "source": [
    "group_plot.plot(kind='bar',figsize=(20,7),title='Distribucion de Revisiones',legend=False)\n",
    "\n",
    "plt.ylabel('Total de revisiones ')"
   ]
  },
  {
   "cell_type": "markdown",
   "id": "2717d8c2-6186-417d-92db-e4d2493b6b93",
   "metadata": {},
   "source": [
    "# Revision mas tarde y mas temprana "
   ]
  },
  {
   "cell_type": "code",
   "execution_count": 1139,
   "id": "1a978a71-5144-4c55-a484-8b21a848964a",
   "metadata": {},
   "outputs": [
    {
     "data": {
      "text/html": [
       "<div>\n",
       "<style scoped>\n",
       "    .dataframe tbody tr th:only-of-type {\n",
       "        vertical-align: middle;\n",
       "    }\n",
       "\n",
       "    .dataframe tbody tr th {\n",
       "        vertical-align: top;\n",
       "    }\n",
       "\n",
       "    .dataframe thead th {\n",
       "        text-align: right;\n",
       "    }\n",
       "</style>\n",
       "<table border=\"1\" class=\"dataframe\">\n",
       "  <thead>\n",
       "    <tr style=\"text-align: right;\">\n",
       "      <th></th>\n",
       "      <th>Inicio</th>\n",
       "      <th>Fecha</th>\n",
       "    </tr>\n",
       "  </thead>\n",
       "  <tbody>\n",
       "    <tr>\n",
       "      <th>0</th>\n",
       "      <td>07:23</td>\n",
       "      <td>2017-03-16</td>\n",
       "    </tr>\n",
       "    <tr>\n",
       "      <th>1</th>\n",
       "      <td>07:23</td>\n",
       "      <td>2017-03-22</td>\n",
       "    </tr>\n",
       "    <tr>\n",
       "      <th>2</th>\n",
       "      <td>07:23</td>\n",
       "      <td>2017-03-28</td>\n",
       "    </tr>\n",
       "    <tr>\n",
       "      <th>3</th>\n",
       "      <td>07:24</td>\n",
       "      <td>2017-01-20</td>\n",
       "    </tr>\n",
       "    <tr>\n",
       "      <th>4</th>\n",
       "      <td>07:24</td>\n",
       "      <td>2019-01-24</td>\n",
       "    </tr>\n",
       "  </tbody>\n",
       "</table>\n",
       "</div>"
      ],
      "text/plain": [
       "  Inicio      Fecha\n",
       "0  07:23 2017-03-16\n",
       "1  07:23 2017-03-22\n",
       "2  07:23 2017-03-28\n",
       "3  07:24 2017-01-20\n",
       "4  07:24 2019-01-24"
      ]
     },
     "execution_count": 1139,
     "metadata": {},
     "output_type": "execute_result"
    }
   ],
   "source": [
    "test.sort_values('Inicio',ascending=True).head(5).reset_index()[['Inicio','Fecha']]"
   ]
  },
  {
   "cell_type": "code",
   "execution_count": 1140,
   "id": "415a326c-3063-4505-82ce-9b71fc162a93",
   "metadata": {},
   "outputs": [
    {
     "data": {
      "text/html": [
       "<div>\n",
       "<style scoped>\n",
       "    .dataframe tbody tr th:only-of-type {\n",
       "        vertical-align: middle;\n",
       "    }\n",
       "\n",
       "    .dataframe tbody tr th {\n",
       "        vertical-align: top;\n",
       "    }\n",
       "\n",
       "    .dataframe thead th {\n",
       "        text-align: right;\n",
       "    }\n",
       "</style>\n",
       "<table border=\"1\" class=\"dataframe\">\n",
       "  <thead>\n",
       "    <tr style=\"text-align: right;\">\n",
       "      <th></th>\n",
       "      <th>Inicio</th>\n",
       "      <th>Fecha</th>\n",
       "    </tr>\n",
       "  </thead>\n",
       "  <tbody>\n",
       "    <tr>\n",
       "      <th>0</th>\n",
       "      <td>20:29</td>\n",
       "      <td>2015-01-13</td>\n",
       "    </tr>\n",
       "    <tr>\n",
       "      <th>1</th>\n",
       "      <td>20:29</td>\n",
       "      <td>2015-01-13</td>\n",
       "    </tr>\n",
       "    <tr>\n",
       "      <th>2</th>\n",
       "      <td>20:24</td>\n",
       "      <td>2015-01-13</td>\n",
       "    </tr>\n",
       "    <tr>\n",
       "      <th>3</th>\n",
       "      <td>20:21</td>\n",
       "      <td>2015-01-13</td>\n",
       "    </tr>\n",
       "    <tr>\n",
       "      <th>4</th>\n",
       "      <td>20:18</td>\n",
       "      <td>2019-01-07</td>\n",
       "    </tr>\n",
       "  </tbody>\n",
       "</table>\n",
       "</div>"
      ],
      "text/plain": [
       "  Inicio      Fecha\n",
       "0  20:29 2015-01-13\n",
       "1  20:29 2015-01-13\n",
       "2  20:24 2015-01-13\n",
       "3  20:21 2015-01-13\n",
       "4  20:18 2019-01-07"
      ]
     },
     "execution_count": 1140,
     "metadata": {},
     "output_type": "execute_result"
    }
   ],
   "source": [
    "test.sort_values('Inicio',ascending=False).head(5).reset_index()[['Inicio','Fecha']]"
   ]
  },
  {
   "cell_type": "markdown",
   "id": "3ae67ce5-1696-48c9-9b12-2575dea7cd08",
   "metadata": {
    "tags": []
   },
   "source": [
    "# Anomalias mas comunes"
   ]
  },
  {
   "cell_type": "code",
   "execution_count": 1141,
   "id": "e96fc74a-8b9e-4206-afce-61f64b43bd79",
   "metadata": {},
   "outputs": [],
   "source": [
    "# Importar planillas de detalles\n",
    "planilla_anomalias=pd.read_csv('DATASET/0.0.Anomalias.COMPLETE.csv',\n",
    "                              index_col='Planilla')#,\n",
    "                              #dtype={'Código':'str'})\n",
    "                              \n"
   ]
  },
  {
   "cell_type": "code",
   "execution_count": 1142,
   "id": "fd27383a-fc1c-4a8e-ba15-15ee63695343",
   "metadata": {},
   "outputs": [],
   "source": [
    "\n",
    "#Eliminar columna innecesaria\n",
    "planilla_anomalias.drop(columns='Unnamed: 0',inplace=True)"
   ]
  },
  {
   "cell_type": "code",
   "execution_count": 1143,
   "id": "ebee5d53-42fd-46d0-9047-d9f7a20b7828",
   "metadata": {},
   "outputs": [
    {
     "data": {
      "text/html": [
       "<div>\n",
       "<style scoped>\n",
       "    .dataframe tbody tr th:only-of-type {\n",
       "        vertical-align: middle;\n",
       "    }\n",
       "\n",
       "    .dataframe tbody tr th {\n",
       "        vertical-align: top;\n",
       "    }\n",
       "\n",
       "    .dataframe thead th {\n",
       "        text-align: right;\n",
       "    }\n",
       "</style>\n",
       "<table border=\"1\" class=\"dataframe\">\n",
       "  <thead>\n",
       "    <tr style=\"text-align: right;\">\n",
       "      <th></th>\n",
       "      <th>Código</th>\n",
       "      <th>Gravedad</th>\n",
       "      <th>Descripción</th>\n",
       "      <th>Observaciones</th>\n",
       "    </tr>\n",
       "    <tr>\n",
       "      <th>Planilla</th>\n",
       "      <th></th>\n",
       "      <th></th>\n",
       "      <th></th>\n",
       "      <th></th>\n",
       "    </tr>\n",
       "  </thead>\n",
       "  <tbody>\n",
       "    <tr>\n",
       "      <th>1173505</th>\n",
       "      <td>20502</td>\n",
       "      <td>L</td>\n",
       "      <td>Tren Delantero, Tren Trasero, Suspensión &gt; Amortiguadores y Soportes &gt; Fugas de líquido hidráulico</td>\n",
       "      <td>AMORTIGUADORES TRASEROS</td>\n",
       "    </tr>\n",
       "    <tr>\n",
       "      <th>1173505</th>\n",
       "      <td>20506</td>\n",
       "      <td>L</td>\n",
       "      <td>Tren Delantero, Tren Trasero, Suspensión &gt; Amortiguadores y Soportes &gt; Desequilibrio mayor de 21%</td>\n",
       "      <td>AMORTIGUADORES TRASEROS</td>\n",
       "    </tr>\n",
       "    <tr>\n",
       "      <th>1173505</th>\n",
       "      <td>9010302</td>\n",
       "      <td>L</td>\n",
       "      <td>Carrocería &gt; Exterior &gt; Chapa Patente &gt; Patente en mal estado y/o con fijación inadecuada</td>\n",
       "      <td>Patente en mal estado TRASERA</td>\n",
       "    </tr>\n",
       "    <tr>\n",
       "      <th>1124182</th>\n",
       "      <td>9010302</td>\n",
       "      <td>L</td>\n",
       "      <td>Carrocería &gt; Exterior &gt; Chapa Patente &gt; Patente en mal estado y/o con fijación inadecuada</td>\n",
       "      <td>TRASERA</td>\n",
       "    </tr>\n",
       "    <tr>\n",
       "      <th>1053004</th>\n",
       "      <td>9010302</td>\n",
       "      <td>L</td>\n",
       "      <td>Carrocería &gt; Exterior &gt; Chapa Patente &gt; Faltante, Mal Estado, Fijación Inadecuada</td>\n",
       "      <td>ESTADO</td>\n",
       "    </tr>\n",
       "  </tbody>\n",
       "</table>\n",
       "</div>"
      ],
      "text/plain": [
       "           Código Gravedad  \\\n",
       "Planilla                     \n",
       "1173505     20502        L   \n",
       "1173505     20506        L   \n",
       "1173505   9010302        L   \n",
       "1124182   9010302        L   \n",
       "1053004   9010302        L   \n",
       "\n",
       "                                                                                                 Descripción  \\\n",
       "Planilla                                                                                                       \n",
       "1173505   Tren Delantero, Tren Trasero, Suspensión > Amortiguadores y Soportes > Fugas de líquido hidráulico   \n",
       "1173505    Tren Delantero, Tren Trasero, Suspensión > Amortiguadores y Soportes > Desequilibrio mayor de 21%   \n",
       "1173505            Carrocería > Exterior > Chapa Patente > Patente en mal estado y/o con fijación inadecuada   \n",
       "1124182            Carrocería > Exterior > Chapa Patente > Patente en mal estado y/o con fijación inadecuada   \n",
       "1053004                    Carrocería > Exterior > Chapa Patente > Faltante, Mal Estado, Fijación Inadecuada   \n",
       "\n",
       "                          Observaciones  \n",
       "Planilla                                 \n",
       "1173505         AMORTIGUADORES TRASEROS  \n",
       "1173505         AMORTIGUADORES TRASEROS  \n",
       "1173505   Patente en mal estado TRASERA  \n",
       "1124182                         TRASERA  \n",
       "1053004                          ESTADO  "
      ]
     },
     "execution_count": 1143,
     "metadata": {},
     "output_type": "execute_result"
    }
   ],
   "source": [
    "planilla_anomalias.head()"
   ]
  },
  {
   "cell_type": "code",
   "execution_count": 1144,
   "id": "015ae917-271e-44cd-96c1-87f1f84bf864",
   "metadata": {},
   "outputs": [],
   "source": [
    "\n",
    "\n",
    "#cambiar nombre columna\n",
    "\n",
    "planilla_anomalias.rename(columns={'Código':'Codigo','Descripción':'Descripcion'},inplace=True)\n",
    "\n",
    "#Hacer NAN a los  codigos que no son numeros:\n",
    "planilla_anomalias['Codigo']=pd.to_numeric(planilla_anomalias['Codigo'],errors='coerce')\n",
    "\n",
    "\n",
    "#Eliminar NAN : \n",
    "planilla_anomalias.dropna(subset='Codigo',inplace=True)\n",
    "\n",
    "#Hacer la columna codigo int\n",
    "planilla_anomalias['Codigo']=planilla_anomalias['Codigo'].astype('Int64')\n",
    "\n"
   ]
  },
  {
   "cell_type": "code",
   "execution_count": 1145,
   "id": "4459f4ce-873c-4509-9862-a3426cdc109b",
   "metadata": {},
   "outputs": [],
   "source": [
    "#utilizo planilla temporal para utilizar la columna Descripcion y extraer la columna  Descripcion y categoria \n",
    "temp=planilla_anomalias.copy()\n",
    "\n",
    "# Descripcion son las ultimas dos elementos \n",
    "planilla_anomalias['Descripcion']=temp['Descripcion'].str.split('>').str[-2:]\n",
    "\n",
    "\n"
   ]
  },
  {
   "cell_type": "code",
   "execution_count": 1146,
   "id": "15f74fa6-ba71-4656-8093-9f3b8b930f60",
   "metadata": {},
   "outputs": [],
   "source": [
    "#Uno los dos elementos en una sola linea, y en minusculas\n",
    "planilla_anomalias['Descripcion'] = (planilla_anomalias['Descripcion'].apply(', '.join)).str.lower()"
   ]
  },
  {
   "cell_type": "code",
   "execution_count": 1147,
   "id": "1a39add8-b675-47ab-b5db-f5d0ee426a1a",
   "metadata": {},
   "outputs": [],
   "source": [
    "#Categoria es el primer elemento \n",
    "planilla_anomalias['Categoria']=temp['Descripcion'].str.split('>').str[0]\n",
    "\n",
    "#En minusculas\n",
    "planilla_anomalias['Categoria'] =planilla_anomalias['Categoria'].str.lower()\n",
    "\n",
    "\n"
   ]
  },
  {
   "cell_type": "code",
   "execution_count": 1158,
   "id": "d3a5c400-e00f-45b2-acee-80e1a7763e03",
   "metadata": {},
   "outputs": [
    {
     "data": {
      "text/html": [
       "<div>\n",
       "<style scoped>\n",
       "    .dataframe tbody tr th:only-of-type {\n",
       "        vertical-align: middle;\n",
       "    }\n",
       "\n",
       "    .dataframe tbody tr th {\n",
       "        vertical-align: top;\n",
       "    }\n",
       "\n",
       "    .dataframe thead th {\n",
       "        text-align: right;\n",
       "    }\n",
       "</style>\n",
       "<table border=\"1\" class=\"dataframe\">\n",
       "  <thead>\n",
       "    <tr style=\"text-align: right;\">\n",
       "      <th></th>\n",
       "      <th></th>\n",
       "      <th>Gravedad</th>\n",
       "    </tr>\n",
       "    <tr>\n",
       "      <th>Codigo</th>\n",
       "      <th>Descripcion</th>\n",
       "      <th></th>\n",
       "    </tr>\n",
       "  </thead>\n",
       "  <tbody>\n",
       "    <tr>\n",
       "      <th>60101</th>\n",
       "      <th>neumáticos ,  estado general, cortes, erosiones, recapados, abombamientos, envejecimiento</th>\n",
       "      <td>24231</td>\n",
       "    </tr>\n",
       "    <tr>\n",
       "      <th>50103</th>\n",
       "      <th>sistema de escape ,  fugas</th>\n",
       "      <td>8398</td>\n",
       "    </tr>\n",
       "    <tr>\n",
       "      <th>30409</th>\n",
       "      <th>flexibles, pulmones, levas, campanas y cintas ,  campana, disco, mordazas, guarniciones, cintas, pastillas - desgaste visible o roturas</th>\n",
       "      <td>8011</td>\n",
       "    </tr>\n",
       "    <tr>\n",
       "      <th>30404</th>\n",
       "      <th>prueba del sistema de freno ,  eficacia de frenado total menor al 45%</th>\n",
       "      <td>7176</td>\n",
       "    </tr>\n",
       "    <tr>\n",
       "      <th>3030302</th>\n",
       "      <th>prestación del freno de servicio ,  eficiencia total menor al 45%</th>\n",
       "      <td>5849</td>\n",
       "    </tr>\n",
       "  </tbody>\n",
       "</table>\n",
       "</div>"
      ],
      "text/plain": [
       "                                                                                                                                                  Gravedad\n",
       "Codigo  Descripcion                                                                                                                                       \n",
       "60101    neumáticos ,  estado general, cortes, erosiones, recapados, abombamientos, envejecimiento                                                   24231\n",
       "50103    sistema de escape ,  fugas                                                                                                                   8398\n",
       "30409    flexibles, pulmones, levas, campanas y cintas ,  campana, disco, mordazas, guarniciones, cintas, pastillas - desgaste visible o roturas      8011\n",
       "30404    prueba del sistema de freno ,  eficacia de frenado total menor al 45%                                                                        7176\n",
       "3030302  prestación del freno de servicio ,  eficiencia total menor al 45%                                                                            5849"
      ]
     },
     "execution_count": 1158,
     "metadata": {},
     "output_type": "execute_result"
    }
   ],
   "source": [
    "planilla_anomalias.groupby(['Codigo','Descripcion']).count().sort_values('Gravedad',ascending=False)[['Gravedad']].head()"
   ]
  },
  {
   "cell_type": "markdown",
   "id": "48ac48eb-3924-43a6-b0e6-c369876342e1",
   "metadata": {
    "tags": []
   },
   "source": [
    "## Anomalias Moderadas"
   ]
  },
  {
   "cell_type": "code",
   "execution_count": 1159,
   "id": "6207aa33-e5ee-4272-aeb6-b658d59f963d",
   "metadata": {},
   "outputs": [],
   "source": [
    "anomalias_pivot=planilla_anomalias.pivot_table(index=('Codigo','Descripcion'),\n",
    "                                               columns='Gravedad',\n",
    "                                               values='Categoria',\n",
    "                                               aggfunc='count')"
   ]
  },
  {
   "cell_type": "code",
   "execution_count": 1160,
   "id": "94a03e6d-193e-4648-85cf-eb4ffb6f88cc",
   "metadata": {},
   "outputs": [
    {
     "data": {
      "text/html": [
       "<div>\n",
       "<style scoped>\n",
       "    .dataframe tbody tr th:only-of-type {\n",
       "        vertical-align: middle;\n",
       "    }\n",
       "\n",
       "    .dataframe tbody tr th {\n",
       "        vertical-align: top;\n",
       "    }\n",
       "\n",
       "    .dataframe thead th {\n",
       "        text-align: right;\n",
       "    }\n",
       "</style>\n",
       "<table border=\"1\" class=\"dataframe\">\n",
       "  <thead>\n",
       "    <tr style=\"text-align: right;\">\n",
       "      <th></th>\n",
       "      <th>Gravedad</th>\n",
       "      <th>M</th>\n",
       "    </tr>\n",
       "    <tr>\n",
       "      <th>Codigo</th>\n",
       "      <th>Descripcion</th>\n",
       "      <th></th>\n",
       "    </tr>\n",
       "  </thead>\n",
       "  <tbody>\n",
       "    <tr>\n",
       "      <th>30404</th>\n",
       "      <th>prueba del sistema de freno ,  eficacia de frenado total menor al 45%</th>\n",
       "      <td>6270.0</td>\n",
       "    </tr>\n",
       "    <tr>\n",
       "      <th>30403</th>\n",
       "      <th>prueba del sistema de freno ,  asimetría de frenado en cada eje superior al 25%</th>\n",
       "      <td>5432.0</td>\n",
       "    </tr>\n",
       "    <tr>\n",
       "      <th>3030302</th>\n",
       "      <th>prestación del freno de servicio ,  eficiencia total menor al 45%</th>\n",
       "      <td>5113.0</td>\n",
       "    </tr>\n",
       "    <tr>\n",
       "      <th>60101</th>\n",
       "      <th>neumáticos ,  estado general, cortes, erosiones, recapados, abombamientos, envejecimiento</th>\n",
       "      <td>4464.0</td>\n",
       "    </tr>\n",
       "    <tr>\n",
       "      <th>30406</th>\n",
       "      <th>prueba del sistema de freno ,  eficacia de freno de mano menor al 15%</th>\n",
       "      <td>4195.0</td>\n",
       "    </tr>\n",
       "  </tbody>\n",
       "</table>\n",
       "</div>"
      ],
      "text/plain": [
       "Gravedad                                                                                                 M\n",
       "Codigo  Descripcion                                                                                       \n",
       "30404    prueba del sistema de freno ,  eficacia de frenado total menor al 45%                      6270.0\n",
       "30403    prueba del sistema de freno ,  asimetría de frenado en cada eje superior al 25%            5432.0\n",
       "3030302  prestación del freno de servicio ,  eficiencia total menor al 45%                          5113.0\n",
       "60101    neumáticos ,  estado general, cortes, erosiones, recapados, abombamientos, envejecimiento  4464.0\n",
       "30406    prueba del sistema de freno ,  eficacia de freno de mano menor al 15%                      4195.0"
      ]
     },
     "execution_count": 1160,
     "metadata": {},
     "output_type": "execute_result"
    }
   ],
   "source": [
    "anomalias_pivot.sort_values('M',ascending=False).head()[['M']]"
   ]
  },
  {
   "cell_type": "code",
   "execution_count": 1152,
   "id": "39c6df9f-7a5f-40d4-8591-dd6c2589b5ea",
   "metadata": {},
   "outputs": [],
   "source": [
    "anomalias_categoria_pivot=planilla_anomalias.pivot_table(index=('Categoria'),\n",
    "                                               columns='Gravedad',\n",
    "                                               values='Descripcion',\n",
    "                                               aggfunc='count')"
   ]
  },
  {
   "cell_type": "code",
   "execution_count": 1161,
   "id": "d598f98c-7d90-4de3-894b-35a45082c265",
   "metadata": {},
   "outputs": [
    {
     "data": {
      "text/html": [
       "<div>\n",
       "<style scoped>\n",
       "    .dataframe tbody tr th:only-of-type {\n",
       "        vertical-align: middle;\n",
       "    }\n",
       "\n",
       "    .dataframe tbody tr th {\n",
       "        vertical-align: top;\n",
       "    }\n",
       "\n",
       "    .dataframe thead th {\n",
       "        text-align: right;\n",
       "    }\n",
       "</style>\n",
       "<table border=\"1\" class=\"dataframe\">\n",
       "  <thead>\n",
       "    <tr style=\"text-align: right;\">\n",
       "      <th>Gravedad</th>\n",
       "      <th>M</th>\n",
       "    </tr>\n",
       "    <tr>\n",
       "      <th>Categoria</th>\n",
       "      <th></th>\n",
       "    </tr>\n",
       "  </thead>\n",
       "  <tbody>\n",
       "    <tr>\n",
       "      <th>sistema de frenos</th>\n",
       "      <td>18840.0</td>\n",
       "    </tr>\n",
       "    <tr>\n",
       "      <th>sistema eléctrico</th>\n",
       "      <td>17512.0</td>\n",
       "    </tr>\n",
       "    <tr>\n",
       "      <th>frenos</th>\n",
       "      <td>12287.0</td>\n",
       "    </tr>\n",
       "    <tr>\n",
       "      <th>carrocería</th>\n",
       "      <td>11180.0</td>\n",
       "    </tr>\n",
       "    <tr>\n",
       "      <th>sistema de dirección</th>\n",
       "      <td>10185.0</td>\n",
       "    </tr>\n",
       "  </tbody>\n",
       "</table>\n",
       "</div>"
      ],
      "text/plain": [
       "Gravedad                     M\n",
       "Categoria                     \n",
       "sistema de frenos      18840.0\n",
       "sistema eléctrico      17512.0\n",
       "frenos                 12287.0\n",
       "carrocería             11180.0\n",
       "sistema de dirección   10185.0"
      ]
     },
     "execution_count": 1161,
     "metadata": {},
     "output_type": "execute_result"
    }
   ],
   "source": [
    "anomalias_categoria_pivot.sort_values('M',ascending=False).head()[['M']]"
   ]
  },
  {
   "cell_type": "markdown",
   "id": "e689d0c3-3541-4046-9167-4930e03ffdc0",
   "metadata": {
    "tags": []
   },
   "source": [
    "## Anomalias Graves"
   ]
  },
  {
   "cell_type": "code",
   "execution_count": 1162,
   "id": "f7285a08-cb6e-4fc7-bfd3-485fc9b2886f",
   "metadata": {},
   "outputs": [
    {
     "data": {
      "text/html": [
       "<div>\n",
       "<style scoped>\n",
       "    .dataframe tbody tr th:only-of-type {\n",
       "        vertical-align: middle;\n",
       "    }\n",
       "\n",
       "    .dataframe tbody tr th {\n",
       "        vertical-align: top;\n",
       "    }\n",
       "\n",
       "    .dataframe thead th {\n",
       "        text-align: right;\n",
       "    }\n",
       "</style>\n",
       "<table border=\"1\" class=\"dataframe\">\n",
       "  <thead>\n",
       "    <tr style=\"text-align: right;\">\n",
       "      <th></th>\n",
       "      <th>Gravedad</th>\n",
       "      <th>G</th>\n",
       "    </tr>\n",
       "    <tr>\n",
       "      <th>Codigo</th>\n",
       "      <th>Descripcion</th>\n",
       "      <th></th>\n",
       "    </tr>\n",
       "  </thead>\n",
       "  <tbody>\n",
       "    <tr>\n",
       "      <th>30404</th>\n",
       "      <th>prueba del sistema de freno ,  eficacia de frenado total menor al 45%</th>\n",
       "      <td>906.0</td>\n",
       "    </tr>\n",
       "    <tr>\n",
       "      <th>3030302</th>\n",
       "      <th>prestación del freno de servicio ,  eficiencia total menor al 45%</th>\n",
       "      <td>736.0</td>\n",
       "    </tr>\n",
       "    <tr>\n",
       "      <th>3030401</th>\n",
       "      <th>prestación del freno de estacionamiento ,  eficiencia menor al 15%</th>\n",
       "      <td>431.0</td>\n",
       "    </tr>\n",
       "    <tr>\n",
       "      <th>30406</th>\n",
       "      <th>prueba del sistema de freno ,  eficacia de freno de mano menor al 15%</th>\n",
       "      <td>380.0</td>\n",
       "    </tr>\n",
       "    <tr>\n",
       "      <th>10503</th>\n",
       "      <th>alineación y dirección ,  desalineación en las ruedas directrices superior a 10 m/km (vehículos n1, m1)</th>\n",
       "      <td>300.0</td>\n",
       "    </tr>\n",
       "  </tbody>\n",
       "</table>\n",
       "</div>"
      ],
      "text/plain": [
       "Gravedad                                                                                                              G\n",
       "Codigo  Descripcion                                                                                                    \n",
       "30404    prueba del sistema de freno ,  eficacia de frenado total menor al 45%                                    906.0\n",
       "3030302  prestación del freno de servicio ,  eficiencia total menor al 45%                                        736.0\n",
       "3030401  prestación del freno de estacionamiento ,  eficiencia menor al 15%                                       431.0\n",
       "30406    prueba del sistema de freno ,  eficacia de freno de mano menor al 15%                                    380.0\n",
       "10503    alineación y dirección ,  desalineación en las ruedas directrices superior a 10 m/km (vehículos n1, m1)  300.0"
      ]
     },
     "execution_count": 1162,
     "metadata": {},
     "output_type": "execute_result"
    }
   ],
   "source": [
    "anomalias_pivot.sort_values('G',ascending=False).head()[['G']]"
   ]
  },
  {
   "cell_type": "code",
   "execution_count": 1164,
   "id": "4a6484d1-5242-46a2-b2f6-109a0cb85fb4",
   "metadata": {},
   "outputs": [
    {
     "data": {
      "text/html": [
       "<div>\n",
       "<style scoped>\n",
       "    .dataframe tbody tr th:only-of-type {\n",
       "        vertical-align: middle;\n",
       "    }\n",
       "\n",
       "    .dataframe tbody tr th {\n",
       "        vertical-align: top;\n",
       "    }\n",
       "\n",
       "    .dataframe thead th {\n",
       "        text-align: right;\n",
       "    }\n",
       "</style>\n",
       "<table border=\"1\" class=\"dataframe\">\n",
       "  <thead>\n",
       "    <tr style=\"text-align: right;\">\n",
       "      <th>Gravedad</th>\n",
       "      <th>G</th>\n",
       "    </tr>\n",
       "    <tr>\n",
       "      <th>Categoria</th>\n",
       "      <th></th>\n",
       "    </tr>\n",
       "  </thead>\n",
       "  <tbody>\n",
       "    <tr>\n",
       "      <th>sistema de frenos</th>\n",
       "      <td>1405.0</td>\n",
       "    </tr>\n",
       "    <tr>\n",
       "      <th>frenos</th>\n",
       "      <td>1252.0</td>\n",
       "    </tr>\n",
       "    <tr>\n",
       "      <th>sistema de dirección</th>\n",
       "      <td>630.0</td>\n",
       "    </tr>\n",
       "    <tr>\n",
       "      <th>emisión de contaminantes</th>\n",
       "      <td>163.0</td>\n",
       "    </tr>\n",
       "    <tr>\n",
       "      <th>sistema eléctrico</th>\n",
       "      <td>161.0</td>\n",
       "    </tr>\n",
       "  </tbody>\n",
       "</table>\n",
       "</div>"
      ],
      "text/plain": [
       "Gravedad                        G\n",
       "Categoria                        \n",
       "sistema de frenos          1405.0\n",
       "frenos                     1252.0\n",
       "sistema de dirección        630.0\n",
       "emisión de contaminantes    163.0\n",
       "sistema eléctrico           161.0"
      ]
     },
     "execution_count": 1164,
     "metadata": {},
     "output_type": "execute_result"
    }
   ],
   "source": [
    "anomalias_categoria_pivot.sort_values('G',ascending=False).head()[['G']]"
   ]
  },
  {
   "cell_type": "markdown",
   "id": "2cb64278-fa11-4dad-9f35-4fe10f7e9138",
   "metadata": {
    "tags": []
   },
   "source": [
    "## Anomalias Leves"
   ]
  },
  {
   "cell_type": "code",
   "execution_count": 1165,
   "id": "48a98dd8-9df0-4664-b93e-8c4dce9b5fbe",
   "metadata": {},
   "outputs": [
    {
     "data": {
      "text/html": [
       "<div>\n",
       "<style scoped>\n",
       "    .dataframe tbody tr th:only-of-type {\n",
       "        vertical-align: middle;\n",
       "    }\n",
       "\n",
       "    .dataframe tbody tr th {\n",
       "        vertical-align: top;\n",
       "    }\n",
       "\n",
       "    .dataframe thead th {\n",
       "        text-align: right;\n",
       "    }\n",
       "</style>\n",
       "<table border=\"1\" class=\"dataframe\">\n",
       "  <thead>\n",
       "    <tr style=\"text-align: right;\">\n",
       "      <th></th>\n",
       "      <th>Gravedad</th>\n",
       "      <th>L</th>\n",
       "    </tr>\n",
       "    <tr>\n",
       "      <th>Codigo</th>\n",
       "      <th>Descripcion</th>\n",
       "      <th></th>\n",
       "    </tr>\n",
       "  </thead>\n",
       "  <tbody>\n",
       "    <tr>\n",
       "      <th>60101</th>\n",
       "      <th>neumáticos ,  estado general, cortes, erosiones, recapados, abombamientos, envejecimiento</th>\n",
       "      <td>19767.0</td>\n",
       "    </tr>\n",
       "    <tr>\n",
       "      <th>30409</th>\n",
       "      <th>flexibles, pulmones, levas, campanas y cintas ,  campana, disco, mordazas, guarniciones, cintas, pastillas - desgaste visible o roturas</th>\n",
       "      <td>7605.0</td>\n",
       "    </tr>\n",
       "    <tr>\n",
       "      <th>50103</th>\n",
       "      <th>sistema de escape ,  fugas</th>\n",
       "      <td>6948.0</td>\n",
       "    </tr>\n",
       "    <tr>\n",
       "      <th>90401</th>\n",
       "      <th>parabrisas. inexistente, visibilidad defectuosa, roto ,  con defectos ó fisuras que no afecten a la seguridad</th>\n",
       "      <td>5200.0</td>\n",
       "    </tr>\n",
       "    <tr>\n",
       "      <th>70903</th>\n",
       "      <th>sistema de iluminación y señalización exterior - luces de freno(stop) ,  intensidad luminosa menor o igual que luces de posición</th>\n",
       "      <td>4582.0</td>\n",
       "    </tr>\n",
       "  </tbody>\n",
       "</table>\n",
       "</div>"
      ],
      "text/plain": [
       "Gravedad                                                                                                                                               L\n",
       "Codigo Descripcion                                                                                                                                      \n",
       "60101   neumáticos ,  estado general, cortes, erosiones, recapados, abombamientos, envejecimiento                                                19767.0\n",
       "30409   flexibles, pulmones, levas, campanas y cintas ,  campana, disco, mordazas, guarniciones, cintas, pastillas - desgaste visible o roturas   7605.0\n",
       "50103   sistema de escape ,  fugas                                                                                                                6948.0\n",
       "90401   parabrisas. inexistente, visibilidad defectuosa, roto ,  con defectos ó fisuras que no afecten a la seguridad                             5200.0\n",
       "70903   sistema de iluminación y señalización exterior - luces de freno(stop) ,  intensidad luminosa menor o igual que luces de posición          4582.0"
      ]
     },
     "execution_count": 1165,
     "metadata": {},
     "output_type": "execute_result"
    }
   ],
   "source": [
    "anomalias_pivot.sort_values('L',ascending=False).head()[['L']]"
   ]
  },
  {
   "cell_type": "code",
   "execution_count": 1166,
   "id": "36dcdacc-0276-4159-8db4-71ae431a4523",
   "metadata": {},
   "outputs": [
    {
     "data": {
      "text/html": [
       "<div>\n",
       "<style scoped>\n",
       "    .dataframe tbody tr th:only-of-type {\n",
       "        vertical-align: middle;\n",
       "    }\n",
       "\n",
       "    .dataframe tbody tr th {\n",
       "        vertical-align: top;\n",
       "    }\n",
       "\n",
       "    .dataframe thead th {\n",
       "        text-align: right;\n",
       "    }\n",
       "</style>\n",
       "<table border=\"1\" class=\"dataframe\">\n",
       "  <thead>\n",
       "    <tr style=\"text-align: right;\">\n",
       "      <th>Gravedad</th>\n",
       "      <th>L</th>\n",
       "    </tr>\n",
       "    <tr>\n",
       "      <th>Categoria</th>\n",
       "      <th></th>\n",
       "    </tr>\n",
       "  </thead>\n",
       "  <tbody>\n",
       "    <tr>\n",
       "      <th>sistema eléctrico</th>\n",
       "      <td>31421.0</td>\n",
       "    </tr>\n",
       "    <tr>\n",
       "      <th>carrocería</th>\n",
       "      <td>26873.0</td>\n",
       "    </tr>\n",
       "    <tr>\n",
       "      <th>neumáticos y llantas</th>\n",
       "      <td>20437.0</td>\n",
       "    </tr>\n",
       "    <tr>\n",
       "      <th>sistema de dirección</th>\n",
       "      <td>14855.0</td>\n",
       "    </tr>\n",
       "    <tr>\n",
       "      <th>emisión de contaminantes</th>\n",
       "      <td>14399.0</td>\n",
       "    </tr>\n",
       "  </tbody>\n",
       "</table>\n",
       "</div>"
      ],
      "text/plain": [
       "Gravedad                         L\n",
       "Categoria                         \n",
       "sistema eléctrico          31421.0\n",
       "carrocería                 26873.0\n",
       "neumáticos y llantas       20437.0\n",
       "sistema de dirección       14855.0\n",
       "emisión de contaminantes   14399.0"
      ]
     },
     "execution_count": 1166,
     "metadata": {},
     "output_type": "execute_result"
    }
   ],
   "source": [
    "anomalias_categoria_pivot.sort_values('L',ascending=False).head()[['L']]"
   ]
  },
  {
   "cell_type": "markdown",
   "id": "e3aa4ec0-eb2d-4a4d-96b3-427d78d8c238",
   "metadata": {
    "tags": []
   },
   "source": [
    "# Resultados segun antiguedad del vehiculo"
   ]
  },
  {
   "cell_type": "code",
   "execution_count": 1167,
   "id": "e9ac41d6-a58c-489d-81b7-abf780b7856c",
   "metadata": {},
   "outputs": [],
   "source": [
    "#eliminar anulados\n",
    "test=lista_planillas[lista_planillas['Resultado']!='Anulado'].copy()\n",
    "\n",
    "resultados_por_antiguedad=pd.crosstab(test['antiguedad_revision'],\n",
    "                                      test['Resultado'],\n",
    "                                      test['Dominio'],\n",
    "                                      aggfunc='count',\n",
    "                                     normalize='index')\n",
    "porc_aptos=resultados_por_antiguedad.loc[:,['Apto']].round(3)*100"
   ]
  },
  {
   "cell_type": "code",
   "execution_count": 1168,
   "id": "94cfe9f5-7e16-4487-b719-06cbcef344ea",
   "metadata": {},
   "outputs": [
    {
     "data": {
      "text/plain": [
       "87.4"
      ]
     },
     "execution_count": 1168,
     "metadata": {},
     "output_type": "execute_result"
    }
   ],
   "source": [
    "porc_aptos_tot=test.groupby('Resultado').count()\n",
    "\n",
    "tot_rev=porc_aptos_tot['Dominio'].sum()\n",
    "\n",
    "aptos_tot=porc_aptos_tot.loc['Apto','Dominio']\n",
    "\n",
    "aptos_p=(aptos_tot/tot_rev).round(3)*100\n",
    "\n",
    "aptos_p"
   ]
  },
  {
   "cell_type": "code",
   "execution_count": 1169,
   "id": "789cdb67-32c7-4a1d-be5a-546795f3cec2",
   "metadata": {},
   "outputs": [
    {
     "data": {
      "image/png": "[encoded data removed]",
      "text/plain": [
       "<Figure size 1000x500 with 1 Axes>"
      ]
     },
     "metadata": {},
     "output_type": "display_data"
    }
   ],
   "source": [
    "porc_aptos.plot.line(title='Resultado vs Antiguedad',legend=False,figsize=(10,5))\n",
    "\n",
    "plt.ylabel('% Apto')\n",
    "plt.xlabel('Antiguedad del Vehiculo')\n",
    "\n",
    "plt.axhline(y=aptos_p, color='k', linestyle='--')\n",
    "\n",
    "plt.legend(labels=['Revisiones','Porcentaje Aptos Total: 87,4%'])\n",
    "\n",
    "\n",
    "plt.show()"
   ]
  },
  {
   "cell_type": "markdown",
   "id": "1e095114-cd4f-4c68-be2f-b180c1adfc83",
   "metadata": {},
   "source": [
    "# Revisiones vs patentamientos"
   ]
  },
  {
   "cell_type": "code",
   "execution_count": 1174,
   "id": "05496ff7-0205-4e6d-a991-84bfdafc583b",
   "metadata": {},
   "outputs": [],
   "source": [
    "parque_automotor=pd.read_csv('DATASET/Parque_automotor.csv',index_col=0)"
   ]
  },
  {
   "cell_type": "code",
   "execution_count": 1175,
   "id": "050780d2-c6ad-4325-812d-f8f9a924ae05",
   "metadata": {},
   "outputs": [],
   "source": [
    "parque_automotor_chaco=parque_automotor[['Anio', 'Mes','CHACO']].copy()"
   ]
  },
  {
   "cell_type": "code",
   "execution_count": 1177,
   "id": "ee55b112-efc2-46e8-8f38-7a65508d97bf",
   "metadata": {},
   "outputs": [
    {
     "data": {
      "text/html": [
       "<div>\n",
       "<style scoped>\n",
       "    .dataframe tbody tr th:only-of-type {\n",
       "        vertical-align: middle;\n",
       "    }\n",
       "\n",
       "    .dataframe tbody tr th {\n",
       "        vertical-align: top;\n",
       "    }\n",
       "\n",
       "    .dataframe thead th {\n",
       "        text-align: right;\n",
       "    }\n",
       "</style>\n",
       "<table border=\"1\" class=\"dataframe\">\n",
       "  <thead>\n",
       "    <tr style=\"text-align: right;\">\n",
       "      <th></th>\n",
       "      <th>Anio</th>\n",
       "      <th>Mes</th>\n",
       "      <th>CHACO</th>\n",
       "    </tr>\n",
       "  </thead>\n",
       "  <tbody>\n",
       "    <tr>\n",
       "      <th>0</th>\n",
       "      <td>2010</td>\n",
       "      <td>1</td>\n",
       "      <td>127352</td>\n",
       "    </tr>\n",
       "    <tr>\n",
       "      <th>1</th>\n",
       "      <td>2010</td>\n",
       "      <td>2</td>\n",
       "      <td>128980</td>\n",
       "    </tr>\n",
       "    <tr>\n",
       "      <th>2</th>\n",
       "      <td>2010</td>\n",
       "      <td>3</td>\n",
       "      <td>129745</td>\n",
       "    </tr>\n",
       "    <tr>\n",
       "      <th>3</th>\n",
       "      <td>2010</td>\n",
       "      <td>4</td>\n",
       "      <td>130620</td>\n",
       "    </tr>\n",
       "    <tr>\n",
       "      <th>4</th>\n",
       "      <td>2010</td>\n",
       "      <td>5</td>\n",
       "      <td>131267</td>\n",
       "    </tr>\n",
       "  </tbody>\n",
       "</table>\n",
       "</div>"
      ],
      "text/plain": [
       "   Anio  Mes   CHACO\n",
       "0  2010    1  127352\n",
       "1  2010    2  128980\n",
       "2  2010    3  129745\n",
       "3  2010    4  130620\n",
       "4  2010    5  131267"
      ]
     },
     "execution_count": 1177,
     "metadata": {},
     "output_type": "execute_result"
    }
   ],
   "source": [
    "#parque_autmotor_chaco=pd.DataFrame()\n",
    "parque_automotor_chaco.head()"
   ]
  },
  {
   "cell_type": "code",
   "execution_count": 1178,
   "id": "b24c5ae3-d9cb-45cf-8c38-dcab711e0b4d",
   "metadata": {},
   "outputs": [],
   "source": [
    "parque_automotor_chaco.set_index(['Anio', 'Mes'],inplace=True)"
   ]
  },
  {
   "cell_type": "code",
   "execution_count": 1179,
   "id": "01a2fcef-b2e1-4966-833a-bd8b5b79b01b",
   "metadata": {},
   "outputs": [
    {
     "data": {
      "text/html": [
       "<div>\n",
       "<style scoped>\n",
       "    .dataframe tbody tr th:only-of-type {\n",
       "        vertical-align: middle;\n",
       "    }\n",
       "\n",
       "    .dataframe tbody tr th {\n",
       "        vertical-align: top;\n",
       "    }\n",
       "\n",
       "    .dataframe thead th {\n",
       "        text-align: right;\n",
       "    }\n",
       "</style>\n",
       "<table border=\"1\" class=\"dataframe\">\n",
       "  <thead>\n",
       "    <tr style=\"text-align: right;\">\n",
       "      <th></th>\n",
       "      <th></th>\n",
       "      <th>Dominio</th>\n",
       "    </tr>\n",
       "    <tr>\n",
       "      <th>Anio</th>\n",
       "      <th>Mes</th>\n",
       "      <th></th>\n",
       "    </tr>\n",
       "  </thead>\n",
       "  <tbody>\n",
       "    <tr>\n",
       "      <th rowspan=\"3\" valign=\"top\">2014</th>\n",
       "      <th>10</th>\n",
       "      <td>865</td>\n",
       "    </tr>\n",
       "    <tr>\n",
       "      <th>11</th>\n",
       "      <td>1571</td>\n",
       "    </tr>\n",
       "    <tr>\n",
       "      <th>12</th>\n",
       "      <td>1757</td>\n",
       "    </tr>\n",
       "    <tr>\n",
       "      <th rowspan=\"2\" valign=\"top\">2015</th>\n",
       "      <th>1</th>\n",
       "      <td>2111</td>\n",
       "    </tr>\n",
       "    <tr>\n",
       "      <th>2</th>\n",
       "      <td>1565</td>\n",
       "    </tr>\n",
       "    <tr>\n",
       "      <th>...</th>\n",
       "      <th>...</th>\n",
       "      <td>...</td>\n",
       "    </tr>\n",
       "    <tr>\n",
       "      <th rowspan=\"5\" valign=\"top\">2022</th>\n",
       "      <th>8</th>\n",
       "      <td>1948</td>\n",
       "    </tr>\n",
       "    <tr>\n",
       "      <th>9</th>\n",
       "      <td>2030</td>\n",
       "    </tr>\n",
       "    <tr>\n",
       "      <th>10</th>\n",
       "      <td>1866</td>\n",
       "    </tr>\n",
       "    <tr>\n",
       "      <th>11</th>\n",
       "      <td>1957</td>\n",
       "    </tr>\n",
       "    <tr>\n",
       "      <th>12</th>\n",
       "      <td>2269</td>\n",
       "    </tr>\n",
       "  </tbody>\n",
       "</table>\n",
       "<p>99 rows × 1 columns</p>\n",
       "</div>"
      ],
      "text/plain": [
       "          Dominio\n",
       "Anio Mes         \n",
       "2014 10       865\n",
       "     11      1571\n",
       "     12      1757\n",
       "2015 1       2111\n",
       "     2       1565\n",
       "...           ...\n",
       "2022 8       1948\n",
       "     9       2030\n",
       "     10      1866\n",
       "     11      1957\n",
       "     12      2269\n",
       "\n",
       "[99 rows x 1 columns]"
      ]
     },
     "execution_count": 1179,
     "metadata": {},
     "output_type": "execute_result"
    }
   ],
   "source": [
    "#Revisiones mes a mes \n",
    "lista_planillas['Anio y Mes']=lista_planillas['Anio y Mes'].astype('Int64')\n",
    "\n",
    "revisiones_mes_a_mes=lista_planillas.groupby(['Anio','Mes'])[['Dominio']].count()\n",
    "\n",
    "revisiones_mes_a_mes.sort_values(['Anio','Mes'],ascending=[True,True])"
   ]
  },
  {
   "cell_type": "code",
   "execution_count": 1180,
   "id": "db8268e1-b7a4-4d3d-b72d-4e27296393eb",
   "metadata": {},
   "outputs": [],
   "source": [
    "test=parque_automotor_chaco.join(revisiones_mes_a_mes,how='left')\n",
    "test.dropna(subset='Dominio',inplace=True)\n",
    "test['Porcentaje_vehiculos_revisados']=((test['Dominio']/test['CHACO'])*100).round(2)"
   ]
  },
  {
   "cell_type": "code",
   "execution_count": 1181,
   "id": "c0ffe33b-a628-4c7b-b376-0fd271897d26",
   "metadata": {},
   "outputs": [
    {
     "data": {
      "text/html": [
       "<div>\n",
       "<style scoped>\n",
       "    .dataframe tbody tr th:only-of-type {\n",
       "        vertical-align: middle;\n",
       "    }\n",
       "\n",
       "    .dataframe tbody tr th {\n",
       "        vertical-align: top;\n",
       "    }\n",
       "\n",
       "    .dataframe thead th {\n",
       "        text-align: right;\n",
       "    }\n",
       "</style>\n",
       "<table border=\"1\" class=\"dataframe\">\n",
       "  <thead>\n",
       "    <tr style=\"text-align: right;\">\n",
       "      <th></th>\n",
       "      <th></th>\n",
       "      <th>CHACO</th>\n",
       "      <th>Dominio</th>\n",
       "      <th>Porcentaje_vehiculos_revisados</th>\n",
       "    </tr>\n",
       "    <tr>\n",
       "      <th>Anio</th>\n",
       "      <th>Mes</th>\n",
       "      <th></th>\n",
       "      <th></th>\n",
       "      <th></th>\n",
       "    </tr>\n",
       "  </thead>\n",
       "  <tbody>\n",
       "    <tr>\n",
       "      <th rowspan=\"3\" valign=\"top\">2014</th>\n",
       "      <th>10</th>\n",
       "      <td>191135</td>\n",
       "      <td>865.0</td>\n",
       "      <td>0.45</td>\n",
       "    </tr>\n",
       "    <tr>\n",
       "      <th>11</th>\n",
       "      <td>191888</td>\n",
       "      <td>1571.0</td>\n",
       "      <td>0.82</td>\n",
       "    </tr>\n",
       "    <tr>\n",
       "      <th>12</th>\n",
       "      <td>192373</td>\n",
       "      <td>1757.0</td>\n",
       "      <td>0.91</td>\n",
       "    </tr>\n",
       "    <tr>\n",
       "      <th rowspan=\"2\" valign=\"top\">2015</th>\n",
       "      <th>1</th>\n",
       "      <td>193789</td>\n",
       "      <td>2111.0</td>\n",
       "      <td>1.09</td>\n",
       "    </tr>\n",
       "    <tr>\n",
       "      <th>2</th>\n",
       "      <td>194733</td>\n",
       "      <td>1565.0</td>\n",
       "      <td>0.80</td>\n",
       "    </tr>\n",
       "    <tr>\n",
       "      <th>...</th>\n",
       "      <th>...</th>\n",
       "      <td>...</td>\n",
       "      <td>...</td>\n",
       "      <td>...</td>\n",
       "    </tr>\n",
       "    <tr>\n",
       "      <th rowspan=\"5\" valign=\"top\">2022</th>\n",
       "      <th>8</th>\n",
       "      <td>283480</td>\n",
       "      <td>1948.0</td>\n",
       "      <td>0.69</td>\n",
       "    </tr>\n",
       "    <tr>\n",
       "      <th>9</th>\n",
       "      <td>284121</td>\n",
       "      <td>2030.0</td>\n",
       "      <td>0.71</td>\n",
       "    </tr>\n",
       "    <tr>\n",
       "      <th>10</th>\n",
       "      <td>284712</td>\n",
       "      <td>1866.0</td>\n",
       "      <td>0.66</td>\n",
       "    </tr>\n",
       "    <tr>\n",
       "      <th>11</th>\n",
       "      <td>285333</td>\n",
       "      <td>1957.0</td>\n",
       "      <td>0.69</td>\n",
       "    </tr>\n",
       "    <tr>\n",
       "      <th>12</th>\n",
       "      <td>285527</td>\n",
       "      <td>2269.0</td>\n",
       "      <td>0.79</td>\n",
       "    </tr>\n",
       "  </tbody>\n",
       "</table>\n",
       "<p>99 rows × 3 columns</p>\n",
       "</div>"
      ],
      "text/plain": [
       "           CHACO  Dominio  Porcentaje_vehiculos_revisados\n",
       "Anio Mes                                                 \n",
       "2014 10   191135    865.0                            0.45\n",
       "     11   191888   1571.0                            0.82\n",
       "     12   192373   1757.0                            0.91\n",
       "2015 1    193789   2111.0                            1.09\n",
       "     2    194733   1565.0                            0.80\n",
       "...          ...      ...                             ...\n",
       "2022 8    283480   1948.0                            0.69\n",
       "     9    284121   2030.0                            0.71\n",
       "     10   284712   1866.0                            0.66\n",
       "     11   285333   1957.0                            0.69\n",
       "     12   285527   2269.0                            0.79\n",
       "\n",
       "[99 rows x 3 columns]"
      ]
     },
     "execution_count": 1181,
     "metadata": {},
     "output_type": "execute_result"
    }
   ],
   "source": [
    "test"
   ]
  },
  {
   "cell_type": "code",
   "execution_count": 1182,
   "id": "53db4621-5563-471b-af8d-68fd2737e013",
   "metadata": {},
   "outputs": [
    {
     "data": {
      "image/png": "[encoded data removed]",
      "text/plain": [
       "<Figure size 2000x500 with 1 Axes>"
      ]
     },
     "metadata": {},
     "output_type": "display_data"
    }
   ],
   "source": [
    "\n",
    "test['Porcentaje_vehiculos_revisados'].plot(kind='line',\n",
    "                                            title='Porcentaje del parque automotor Revisado',\n",
    "                                           figsize=(20,5))\n",
    "\n",
    "plt.ylabel('%')\n",
    "plt.xticks(range(len(test.index)), test.index,)\n",
    "plt.xticks(rotation=90)\n",
    "plt.show()"
   ]
  },
  {
   "cell_type": "code",
   "execution_count": 1183,
   "id": "bd6e31a0-9c77-44c5-b86e-c4df82222a53",
   "metadata": {},
   "outputs": [],
   "source": [
    "test_año=test.reset_index()"
   ]
  },
  {
   "cell_type": "code",
   "execution_count": 1184,
   "id": "63efbc18-102f-459f-9aaf-6b2112addc53",
   "metadata": {},
   "outputs": [],
   "source": [
    "test_año_graph=test_año.groupby('Anio').sum()[['CHACO','Dominio','Porcentaje_vehiculos_revisados']]"
   ]
  },
  {
   "cell_type": "code",
   "execution_count": 1186,
   "id": "319cf82b-4294-47cf-ac71-f8c1086d8a7a",
   "metadata": {},
   "outputs": [
    {
     "data": {
      "image/png": "[encoded data removed]",
      "text/plain": [
       "<Figure size 2000x500 with 1 Axes>"
      ]
     },
     "metadata": {},
     "output_type": "display_data"
    }
   ],
   "source": [
    "\n",
    "test_año_graph['Porcentaje_vehiculos_revisados'].plot(kind='bar',\n",
    "                                            title='Porcentaje del parque automotor Revisado',\n",
    "                                           figsize=(20,5))\n",
    "\n",
    "plt.ylabel('%')\n",
    "#plt.xticks(range(len(test_año_graph.index)), test_año_graph.index,)\n",
    "plt.xticks(rotation=90)\n",
    "plt.show()"
   ]
  },
  {
   "cell_type": "markdown",
   "id": "736634fe-9b19-401f-8062-7045328db6e6",
   "metadata": {},
   "source": [
    "## Tablas para  Exportar y Visualizar en power  BI "
   ]
  },
  {
   "cell_type": "code",
   "execution_count": null,
   "id": "8ecc635d-6bee-499e-b681-fd3780e396a5",
   "metadata": {},
   "outputs": [],
   "source": [
    "path=r'E:\\Ordenado\\DATA ANALISYS\\RTO tablas resultados'"
   ]
  },
  {
   "cell_type": "markdown",
   "id": "22fa6d4a-76d2-4f01-a3c7-f4b9830364c6",
   "metadata": {},
   "source": [
    "KPI : Revisiones por dia-mes"
   ]
  },
  {
   "cell_type": "code",
   "execution_count": null,
   "id": "15d06a41-bfd8-4eda-bc3d-25bb0495e869",
   "metadata": {},
   "outputs": [],
   "source": [
    "# Agregar columna tipo de revision (  Carga - Pasajeros- Particular )\n",
    "tipo_revision_dic={'M1':'Pasajeros',\n",
    "                   'M2':'Pasajeros',\n",
    "                   'M3':'Pasajeros',\n",
    "                   'N1':'Carga',\n",
    "                   'N2':'Carga',\n",
    "                   'N3':'Carga',\n",
    "                   'O2':'Carga',\n",
    "                   'O3':'Carga',\n",
    "                   'O4':'Carga' ,\n",
    "                   'UP':'Particular'}\n",
    "\n",
    "lista_planillas['Tipo_Revision']=lista_planillas['Categoría'].map(tipo_revision_dic)"
   ]
  },
  {
   "cell_type": "code",
   "execution_count": null,
   "id": "4a57f388-779d-4c00-af2e-2b8e86d27b06",
   "metadata": {},
   "outputs": [],
   "source": [
    "revisiones_por_dia=lista_planillas.pivot_table(index=('Fecha','Línea'),\n",
    "                                               columns='Tipo_Revision',\n",
    "                                               values='Dominio',\n",
    "                                               aggfunc='count')"
   ]
  },
  {
   "cell_type": "code",
   "execution_count": 601,
   "id": "4f176b0f-a1b0-4d9b-a2f5-baaa22ce51ab",
   "metadata": {},
   "outputs": [],
   "source": [
    "# To csv \n",
    "revisiones_por_dia.to_csv(path+'/revisiones_por_dia.csv',encoding='latin1')"
   ]
  },
  {
   "cell_type": "markdown",
   "id": "18e068f1-d357-4d37-9bd0-af84a85f7e36",
   "metadata": {},
   "source": [
    "Revisiones por mes (Objetivo)"
   ]
  },
  {
   "cell_type": "code",
   "execution_count": 460,
   "id": "8428ba80-fdf8-4963-a2ca-b1545e839494",
   "metadata": {},
   "outputs": [],
   "source": [
    "revisiones_por_mes=lista_planillas.pivot_table(index=('Mes'),\n",
    "                                               columns='Anio',\n",
    "                                               values='Dominio',\n",
    "                                               aggfunc='count')"
   ]
  },
  {
   "cell_type": "code",
   "execution_count": 461,
   "id": "810d14d1-48cb-4621-b28e-1e390e3662ec",
   "metadata": {},
   "outputs": [],
   "source": [
    "revisiones_por_mes['Objetivo']=revisiones_por_mes.max(axis=1)"
   ]
  },
  {
   "cell_type": "code",
   "execution_count": 541,
   "id": "8bf20873-5165-4934-85f6-0599c016f457",
   "metadata": {},
   "outputs": [],
   "source": [
    "# Write obj in every year\n",
    "monthly_obj=revisiones_por_mes.copy()\n",
    "for i in (range(0,12)):\n",
    "    \n",
    "    monthly_obj.iloc[i]=monthly_obj.iloc[[i],[-1]]"
   ]
  },
  {
   "cell_type": "code",
   "execution_count": 542,
   "id": "047be9ad-0bdf-4e12-b156-051775d9aa86",
   "metadata": {},
   "outputs": [],
   "source": [
    "monthly_obj.drop('Objetivo',axis=1,inplace=True)\n"
   ]
  },
  {
   "cell_type": "code",
   "execution_count": 543,
   "id": "6f34d0fe-7fc1-4d96-88aa-930c37401a8e",
   "metadata": {},
   "outputs": [],
   "source": [
    "monthly_obj_temp=monthly_obj.unstack()"
   ]
  },
  {
   "cell_type": "code",
   "execution_count": 544,
   "id": "c2e94bbc-3a97-42f8-bcdb-6778841f712d",
   "metadata": {},
   "outputs": [],
   "source": [
    "monthly_obj=monthly_obj_temp.to_frame(name='monthly_obj')"
   ]
  },
  {
   "cell_type": "code",
   "execution_count": 545,
   "id": "b477bada-8350-4a3b-80ed-cf59e40ca338",
   "metadata": {},
   "outputs": [],
   "source": [
    "monthly_obj.reset_index(inplace=True)"
   ]
  },
  {
   "cell_type": "code",
   "execution_count": 546,
   "id": "777ca32a-0a42-462f-a4d3-3c6854972925",
   "metadata": {},
   "outputs": [],
   "source": [
    "monthly_obj['Fecha']=monthly_obj['Mes' ].astype('str')+'-1-'+monthly_obj['Anio'].astype('str')"
   ]
  },
  {
   "cell_type": "code",
   "execution_count": 547,
   "id": "866d44be-7ef8-4e1b-89a1-b825f86a0c50",
   "metadata": {},
   "outputs": [],
   "source": [
    "monthly_obj=monthly_obj[['Fecha','monthly_obj']]"
   ]
  },
  {
   "cell_type": "code",
   "execution_count": 599,
   "id": "84c55b91-59f0-42be-8d8c-940803f8eedd",
   "metadata": {},
   "outputs": [],
   "source": [
    "# To csv \n",
    "monthly_obj.to_csv(path+'/monthly_obj.csv',encoding='latin1')"
   ]
  },
  {
   "cell_type": "markdown",
   "id": "5fc8d152-cde2-4afa-b6cb-7b410439ee91",
   "metadata": {},
   "source": [
    "Revisiones por hora "
   ]
  },
  {
   "cell_type": "code",
   "execution_count": 567,
   "id": "7c7246cd-6c1e-4037-9908-d0649df6a81d",
   "metadata": {},
   "outputs": [],
   "source": [
    "test=lista_planillas[['Inicio','Fin','Dominio','Fecha']].copy()\n",
    "#Cambiar hora_resultado a formato datetime\n",
    "test['Fin1']=pd.to_datetime(test['Fin'],format=\"%H:%M\")\n",
    "test['hora']=test['Fin1']\n",
    "test.set_index('hora',inplace=True)\n",
    "group=test.resample('1h').count()[['Dominio']]\n"
   ]
  },
  {
   "cell_type": "code",
   "execution_count": 588,
   "id": "64390112-abd0-42f2-844a-a7c206dd0689",
   "metadata": {},
   "outputs": [],
   "source": [
    "rev_por_hora=lista_planillas[['Fecha','Fin','Dominio',]].copy()"
   ]
  },
  {
   "cell_type": "code",
   "execution_count": 589,
   "id": "4d330bd8-f0a2-494b-ae68-aec42fd24dea",
   "metadata": {},
   "outputs": [],
   "source": [
    "rev_por_hora['Fin']=pd.to_datetime(rev_por_hora['Fin'],format=\"%H:%M\").dt.hour\n"
   ]
  },
  {
   "cell_type": "code",
   "execution_count": 594,
   "id": "caba5c27-4344-4b45-8e4f-17de48e76381",
   "metadata": {},
   "outputs": [],
   "source": [
    "rev_por_hora=rev_por_hora.groupby(['Fecha','Fin']).count()"
   ]
  },
  {
   "cell_type": "code",
   "execution_count": 598,
   "id": "e124ef95-d707-4ff6-bb8b-9a44d3dd4614",
   "metadata": {},
   "outputs": [],
   "source": [
    "# To csv \n",
    "rev_por_hora.to_csv(path+'/rev_por_hora.csv',encoding='latin1')"
   ]
  },
  {
   "cell_type": "markdown",
   "id": "5be2beed-fa2f-48ee-bea2-e613885cefe2",
   "metadata": {},
   "source": [
    "Resultados de las revisiones"
   ]
  },
  {
   "cell_type": "code",
   "execution_count": 612,
   "id": "def81161-b45f-4fc1-b824-588753c89884",
   "metadata": {},
   "outputs": [],
   "source": [
    "resultados=lista_planillas.pivot_table(index='Fecha',\n",
    "                                        columns='Resultado',\n",
    "                                        values='Dominio',\n",
    "                                        aggfunc='count')"
   ]
  },
  {
   "cell_type": "code",
   "execution_count": 614,
   "id": "76b57793-9087-4455-9d24-1ef2665f93a2",
   "metadata": {},
   "outputs": [],
   "source": [
    "# To csv \n",
    "resultados.to_csv(path+'/resultados_revisiones.csv',encoding='latin1')"
   ]
  },
  {
   "cell_type": "markdown",
   "id": "b3513a8e-c921-4150-a862-c3978cf0a0e7",
   "metadata": {},
   "source": [
    "Retencion Clientes"
   ]
  },
  {
   "cell_type": "code",
   "execution_count": 677,
   "id": "2039dfa4-8688-4f13-b44f-8fc04bd9fe2e",
   "metadata": {},
   "outputs": [],
   "source": [
    "filtro_taller=retencion_clientes['Taller']==4\n",
    "filtro_fecha=retencion_clientes['Fecha']>'2014-1-1'\n",
    "\n",
    "retencion_clientes_4=retencion_clientes[filtro_taller&filtro_fecha]\n",
    "\n",
    "retencion_clientes_pivot=retencion_clientes_4.pivot_table(index='Fecha',\n",
    "                                columns='Retencion_cliente',\n",
    "                                values='Dominio',\n",
    "                                aggfunc='count')\n",
    "retencion_clientes_mes=retencion_clientes_pivot.resample(\"M\") .sum() \n"
   ]
  },
  {
   "cell_type": "code",
   "execution_count": 678,
   "id": "e95e4ea1-b90f-4605-9dd2-4ba033251b13",
   "metadata": {},
   "outputs": [],
   "source": [
    "retencion_clientes_last_month=retencion_clientes_mes.shift(periods=1)\n"
   ]
  },
  {
   "cell_type": "code",
   "execution_count": 679,
   "id": "5e80d011-716b-4f93-bad8-eb02b494f381",
   "metadata": {},
   "outputs": [],
   "source": [
    "retencion_clientes_merged=retencion_clientes_mes.join(retencion_clientes_last_month,how='left',rsuffix='_last_month')"
   ]
  },
  {
   "cell_type": "code",
   "execution_count": 680,
   "id": "3141ffea-2aaf-427c-b900-75cc764ffcf0",
   "metadata": {},
   "outputs": [],
   "source": [
    "# To csv \n",
    "retencion_clientes_merged.to_csv(path+'/retencion_clientes.csv',encoding='latin1')"
   ]
  },
  {
   "cell_type": "markdown",
   "id": "5bbd7cea-57d1-4d7f-bb19-a145ea591052",
   "metadata": {},
   "source": [
    "Mejores Clientes Mes"
   ]
  },
  {
   "cell_type": "code",
   "execution_count": 1120,
   "id": "4cab1c5d-e468-4c56-9636-5a57abad90f8",
   "metadata": {
    "tags": []
   },
   "outputs": [],
   "source": [
    "#Tabla pivot usando pd.grouper para agrupar mensualmente en la columna FECHA\n",
    "vehiculos_por_cliente_mensual=pd.pivot_table(lista_planillas,\n",
    "                                             index=(pd.Grouper(key='Fecha',freq='M'),'Razón Social Unica'),\n",
    "                                             values='Dominio',\n",
    "                                             aggfunc='count')\n"
   ]
  },
  {
   "cell_type": "code",
   "execution_count": 1128,
   "id": "3c4a0151-79a5-421f-b521-fcb6d5098a9a",
   "metadata": {},
   "outputs": [],
   "source": [
    "#Anonimizar la tabla:\n",
    "vehiculos_por_cliente_mensual.reset_index(inplace=True)\n",
    "anon(vehiculos_por_cliente_mensual,'Razón Social Unica')\n",
    "vehiculos_por_cliente_mensual.set_index(['Fecha','Razón Social Unica' ],inplace=True)\n",
    "\n",
    "vehiculos_por_cliente_mensual.drop(columns='index',inplace=True)"
   ]
  },
  {
   "cell_type": "code",
   "execution_count": 1129,
   "id": "fa96a859-2b8e-474b-8eaa-5582a074d9dd",
   "metadata": {},
   "outputs": [],
   "source": [
    "# To csv \n",
    "vehiculos_por_cliente_mensual.to_csv(path+'/vehiculos_por_cliente_mensual.csv',encoding='latin1')"
   ]
  },
  {
   "cell_type": "markdown",
   "id": "c22ad5e0-5881-4a98-89bb-547bf85e893e",
   "metadata": {},
   "source": [
    "Anomalias mas comunes"
   ]
  },
  {
   "cell_type": "code",
   "execution_count": 805,
   "id": "d682d432-5ea8-42d3-9fba-7ca131dbd7f5",
   "metadata": {},
   "outputs": [],
   "source": [
    "#Agregar fechas a la tabla de anomalias\n",
    "planilla_anomalias_fecha=planilla_anomalias.merge(lista_planillas[['Planilla','Fecha']],\n",
    "                                                  how='left',\n",
    "                                                  left_on='Planilla',\n",
    "                                                  right_on='Planilla')"
   ]
  },
  {
   "cell_type": "code",
   "execution_count": 813,
   "id": "32e6b1d1-ebf1-47c8-b292-b32d12dc643b",
   "metadata": {},
   "outputs": [],
   "source": [
    "# Remove white Spaces\n",
    "planilla_anomalias_fecha['Categoria']=planilla_anomalias_fecha['Categoria'].str.strip()\n",
    "\n",
    "# Remove periods\n",
    "\n",
    "planilla_anomalias_fecha['Categoria']=planilla_anomalias_fecha['Categoria'].str.replace(\".\",\"\",regex=False)\n",
    "\n",
    "# Remove dashes\n",
    "\n",
    "planilla_anomalias_fecha['Categoria']=planilla_anomalias_fecha['Categoria'].str.replace(\"-\",\" \",regex=False)\n",
    "planilla_anomalias_fecha['Categoria']=planilla_anomalias_fecha['Categoria'].str.replace(\"–\",\" \",regex=False)\n",
    "\n"
   ]
  },
  {
   "cell_type": "code",
   "execution_count": 814,
   "id": "4c0d7b1f-3901-4dd6-b978-155ac37a70be",
   "metadata": {},
   "outputs": [],
   "source": [
    "# Dict of replacements for categories that are the same but written differently \n",
    "cat_replacemet={\"letreros e indicaciones\":\"letreros e indicadores\",\n",
    "               \"otras anomalias (ingrese descripción en la columna observación del sistema rtocent)\":\"otras anomalias\",\n",
    "               \"sistema de arrastre de acoplados y dolly\":\"sistema de arrastre para acoplados\",\n",
    "                \"tren delantero, trasero, suspensión\" :\t\"tren delantero, tren trasero, suspensión\"\n",
    "                }"
   ]
  },
  {
   "cell_type": "code",
   "execution_count": 815,
   "id": "a0b94139-7958-4c14-9969-caf819986209",
   "metadata": {},
   "outputs": [],
   "source": [
    "planilla_anomalias_fecha['Categoria']=planilla_anomalias_fecha['Categoria'].replace(cat_replacemet)"
   ]
  },
  {
   "cell_type": "code",
   "execution_count": 821,
   "id": "8369e66c-5735-4419-a5e7-01059d3d9d79",
   "metadata": {},
   "outputs": [],
   "source": [
    "#Tabla pivot usando pd.grouper para agrupar mensualmente en la columna FECHA\n",
    "planilla_anomalias_mes=pd.pivot_table(planilla_anomalias_fecha,\n",
    "                                      index=(pd.Grouper(key='Fecha',freq='M'),'Categoria','Gravedad'),\n",
    "                                      values='Planilla',\n",
    "                                      aggfunc='count')"
   ]
  },
  {
   "cell_type": "code",
   "execution_count": 822,
   "id": "1de730a0-a95c-4c49-b460-f810a8f292ff",
   "metadata": {},
   "outputs": [],
   "source": [
    "# To csv \n",
    "planilla_anomalias_mes.to_csv(path+'/planilla_anomalias_mes.csv')"
   ]
  },
  {
   "cell_type": "markdown",
   "id": "f45472b0-af7b-4f7d-bb48-328b90df3829",
   "metadata": {},
   "source": [
    "Antiguedad y % aprobado"
   ]
  },
  {
   "cell_type": "code",
   "execution_count": 853,
   "id": "831af26a-3b6f-4af6-8844-4f65f2fb02e5",
   "metadata": {},
   "outputs": [],
   "source": [
    "#eliminar anulados\n",
    "test=lista_planillas[lista_planillas['Resultado']!='Anulado'].copy()\n",
    "\n",
    "resultados_por_antiguedad=pd.crosstab(test['antiguedad_revision'],\n",
    "                                      test['Resultado'],\n",
    "                                      test['Dominio'],\n",
    "                                      aggfunc='count',\n",
    "                                     normalize='index')"
   ]
  },
  {
   "cell_type": "code",
   "execution_count": 854,
   "id": "16a53f89-237c-4a0c-832b-cba94b3884ad",
   "metadata": {},
   "outputs": [],
   "source": [
    "resultados_por_antiguedad=(resultados_por_antiguedad*100).round(2)"
   ]
  },
  {
   "cell_type": "code",
   "execution_count": 855,
   "id": "22c032f9-4526-4f64-9853-c488e74a9240",
   "metadata": {},
   "outputs": [],
   "source": [
    "# To csv \n",
    "resultados_por_antiguedad.to_csv(path+'/resultados_por_antiguedad.csv')"
   ]
  },
  {
   "cell_type": "markdown",
   "id": "4a5a2910-86c8-4b6c-8819-b6b8dc959f80",
   "metadata": {},
   "source": [
    "Revisiones Provincia"
   ]
  },
  {
   "cell_type": "code",
   "execution_count": 874,
   "id": "a8ef3db9-3950-4d3b-9488-db03993f8a98",
   "metadata": {},
   "outputs": [],
   "source": [
    "parque_automotor_chaco=parque_automotor[['Anio', 'Mes','CHACO']].copy()"
   ]
  },
  {
   "cell_type": "code",
   "execution_count": 875,
   "id": "a2750efe-6899-4de9-b3d2-6bfd08deac6e",
   "metadata": {},
   "outputs": [],
   "source": [
    "parque_automotor_chaco['Fecha']=parque_automotor_chaco['Anio'].astype('str')+'-'+parque_automotor_chaco['Mes'].astype('str')+'-1'\n",
    "\n",
    "parque_automotor_chaco['Fecha'] = pd.to_datetime(parque_automotor_chaco['Fecha'], format=\"%Y/%m/%d\")"
   ]
  },
  {
   "cell_type": "code",
   "execution_count": 876,
   "id": "b8cfc3fb-3f29-43fa-810b-f5c2b4f0b7c0",
   "metadata": {},
   "outputs": [],
   "source": [
    "revisiones_prov=parque_automotor_chaco[['Fecha','CHACO']].copy()"
   ]
  },
  {
   "cell_type": "code",
   "execution_count": 877,
   "id": "bdc474c1-89f8-4805-bc28-c5a6538b37c2",
   "metadata": {},
   "outputs": [],
   "source": [
    "# To csv \n",
    "revisiones_prov.to_csv(path+'/revisiones_prov.csv')"
   ]
  },
  {
   "cell_type": "code",
   "execution_count": null,
   "id": "a4dffe93-b37b-4035-94a0-e6977c0ae4bc",
   "metadata": {},
   "outputs": [],
   "source": []
  },
  {
   "cell_type": "markdown",
   "id": "a7cd335c-c46f-4c61-98ce-e325d3647c22",
   "metadata": {},
   "source": [
    "test faker "
   ]
  },
  {
   "cell_type": "code",
   "execution_count": 878,
   "id": "62dcd51b-c069-4fc1-be8b-6431106c0500",
   "metadata": {
    "tags": []
   },
   "outputs": [],
   "source": [
    "#Tabla pivot usando pd.grouper para agrupar mensualmente en la columna FECHA\n",
    "vehiculos_por_cliente_mensual=pd.pivot_table(lista_planillas,\n",
    "                                             index=(pd.Grouper(key='Fecha',freq='M'),'Razón Social Unica'),\n",
    "                                             values='Dominio',\n",
    "                                             aggfunc='count')"
   ]
  },
  {
   "cell_type": "code",
   "execution_count": 889,
   "id": "60e4e9d9-b2af-421c-be41-7457d2906333",
   "metadata": {
    "tags": []
   },
   "outputs": [],
   "source": [
    "#Tabla pivot usando pd.grouper para agrupar mensualmente en la columna FECHA\n",
    "vehiculos_por_cliente_mensual=pd.pivot_table(lista_planillas,\n",
    "                                             index=(pd.Grouper(key='Fecha',freq='M'),'nickname'),\n",
    "                                             values='Dominio',\n",
    "                                             aggfunc='count')"
   ]
  },
  {
   "cell_type": "code",
   "execution_count": null,
   "id": "f00758ac-2bd5-403d-8fb4-aad522c8ec68",
   "metadata": {},
   "outputs": [],
   "source": []
  }
 ],
 "metadata": {
  "kernelspec": {
   "display_name": "Python 3 (ipykernel)",
   "language": "python",
   "name": "python3"
  },
  "language_info": {
   "codemirror_mode": {
    "name": "ipython",
    "version": 3
   },
   "file_extension": ".py",
   "mimetype": "text/x-python",
   "name": "python",
   "nbconvert_exporter": "python",
   "pygments_lexer": "ipython3",
   "version": "3.9.13"
  }
 },
 "nbformat": 4,
 "nbformat_minor": 5
}
