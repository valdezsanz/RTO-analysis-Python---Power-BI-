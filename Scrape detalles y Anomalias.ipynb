{
 "cells": [
  {
   "cell_type": "code",
   "execution_count": 1,
   "id": "026e4f8d",
   "metadata": {},
   "outputs": [],
   "source": [
    "import pandas as pd "
   ]
  },
  {
   "cell_type": "code",
   "execution_count": 2,
   "id": "47c07a68",
   "metadata": {},
   "outputs": [],
   "source": [
    "planillas_hist=pd.read_csv('0.0.planillas.hist.COMPLETE',index_col=0)"
   ]
  },
  {
   "cell_type": "code",
   "execution_count": 3,
   "id": "396e9fa2",
   "metadata": {},
   "outputs": [
    {
     "name": "stdout",
     "output_type": "stream",
     "text": [
      "<class 'pandas.core.frame.DataFrame'>\n",
      "Int64Index: 265738 entries, 0 to 11694\n",
      "Data columns (total 7 columns):\n",
      " #   Column       Non-Null Count   Dtype \n",
      "---  ------       --------------   ----- \n",
      " 0   Dominio      265738 non-null  object\n",
      " 1   Planilla     265738 non-null  int64 \n",
      " 2   Taller       265738 non-null  int64 \n",
      " 3   Tipo Uso     265738 non-null  object\n",
      " 4   Fecha        265738 non-null  object\n",
      " 5   Resultado    265738 non-null  object\n",
      " 6   Versión RTO  265738 non-null  int64 \n",
      "dtypes: int64(3), object(4)\n",
      "memory usage: 16.2+ MB\n"
     ]
    }
   ],
   "source": [
    "planillas_hist.info()"
   ]
  },
  {
   "cell_type": "markdown",
   "id": "86d5a998",
   "metadata": {},
   "source": [
    "# Importar librerias"
   ]
  },
  {
   "cell_type": "code",
   "execution_count": 4,
   "id": "1b76b535",
   "metadata": {},
   "outputs": [],
   "source": [
    "import time "
   ]
  },
  {
   "cell_type": "code",
   "execution_count": 5,
   "id": "d90056db",
   "metadata": {},
   "outputs": [],
   "source": [
    "import requests"
   ]
  },
  {
   "cell_type": "code",
   "execution_count": 6,
   "id": "a2879774",
   "metadata": {},
   "outputs": [],
   "source": [
    "from tqdm.notebook import tqdm"
   ]
  },
  {
   "cell_type": "code",
   "execution_count": 7,
   "id": "c2fdd83a",
   "metadata": {},
   "outputs": [],
   "source": [
    "from bs4 import BeautifulSoup"
   ]
  },
  {
   "cell_type": "markdown",
   "id": "e117a1e7",
   "metadata": {},
   "source": [
    "# Definir funciones"
   ]
  },
  {
   "cell_type": "markdown",
   "id": "dd83ef09",
   "metadata": {},
   "source": [
    "Request detalles de revision"
   ]
  },
  {
   "cell_type": "code",
   "execution_count": 8,
   "id": "2457fb76",
   "metadata": {},
   "outputs": [],
   "source": [
    "def get_detalles(nro,codTaller,versionRTO):#input is in string format \n",
    "    global soup\n",
    "    url = \"https://rto.cent.gov.ar/rto/RTO/verDetallePlanillaRevision\"\n",
    "\n",
    "    payload = \"nroPlanilla=\"+nro+\"&codTaller=\"+codTaller+\"&versionRTO=\"+versionRTO\n",
    "    headers = {\n",
    "        \"User-Agent\": \"Mozilla/5.0 (Windows NT 10.0; Win64; x64; rv:108.0) Gecko/20100101 Firefox/108.0\",\n",
    "        \"Accept\": \"text/javascript, text/html, application/xml, text/xml, */*\",\n",
    "        \"Accept-Language\": \"es-AR,es;q=0.8,en-US;q=0.5,en;q=0.3\",\n",
    "        \"Accept-Encoding\": \"gzip, deflate, br\",\n",
    "        \"X-Requested-With\": \"XMLHttpRequest\",\n",
    "        \"X-Prototype-Version\": \"1.6.1\",\n",
    "        \"Content-type\": \"application/x-www-form-urlencoded; charset=UTF-8\",\n",
    "        \"Origin\": \"https://rto.cent.gov.ar\",\n",
    "        \"Connection\": \"keep-alive\",\n",
    "        \"Referer\": \"https://rto.cent.gov.ar/rto/RTO/planillaDiaria\",\n",
    "        \"Cookie\": cookie,\n",
    "        \"Sec-Fetch-Dest\": \"empty\",\n",
    "        \"Sec-Fetch-Mode\": \"cors\",\n",
    "        \"Sec-Fetch-Site\": \"same-origin\"\n",
    "    }\n",
    "\n",
    "    response = requests.request(\"POST\", url, data=payload, headers=headers)\n",
    "    #print response text (test)\n",
    "    #print(response.text)\n",
    "    soup=BeautifulSoup(response.text,'lxml')"
   ]
  },
  {
   "cell_type": "markdown",
   "id": "ee22e29d",
   "metadata": {},
   "source": [
    "Limpiar soup para detalles "
   ]
  },
  {
   "cell_type": "code",
   "execution_count": 9,
   "id": "832daac1",
   "metadata": {},
   "outputs": [],
   "source": [
    "def clean_data(tag):# returns a list of values: tags\n",
    "        tags_datos=soup.select(tag) #data is inside the tag td\n",
    "        global datos\n",
    "        datos=[] \n",
    "        for data in tags_datos:\n",
    "            datos.append(data.get_text(strip=True)) #make a list with the values \n",
    "        return(datos)"
   ]
  },
  {
   "cell_type": "markdown",
   "id": "8ce43d3f",
   "metadata": {},
   "source": [
    "Limpiar soup para anomalias "
   ]
  },
  {
   "cell_type": "code",
   "execution_count": 10,
   "id": "0f7a3a99",
   "metadata": {},
   "outputs": [],
   "source": [
    "def clean_data_anomalias(tag_anomalias):# returns a list of values: tags\n",
    "        tags_datos_anomalias=soup.select(tag_anomalias) #data is inside the tag td\n",
    "        global datos_anomalias\n",
    "        datos_anomalias=[] \n",
    "        for data in tags_datos_anomalias:\n",
    "            datos_anomalias.append(data.get_text(strip=True)) #make a list with the values \n",
    "        return(datos_anomalias)"
   ]
  },
  {
   "cell_type": "markdown",
   "id": "3354c5d4",
   "metadata": {},
   "source": [
    "Crear lista de diccionarios con los detalles: cada diccionario es una fila "
   ]
  },
  {
   "cell_type": "code",
   "execution_count": 11,
   "id": "0603589e",
   "metadata": {},
   "outputs": [],
   "source": [
    "def create_rows_detalles():\n",
    "    global df\n",
    "    global rows\n",
    "    #make dictionary with only the relevant elements \n",
    "    #Search Label in the list,if it doesnt exist, returns empty string \n",
    "    if 'Número:'in datos:\n",
    "        Planilla=datos[datos.index('Número:')+1]\n",
    "    else:\n",
    "        Planilla=''\n",
    "    if 'Dominio:'in datos:\n",
    "        Dominio=datos[datos.index('Dominio:')+1]\n",
    "    else:\n",
    "        Dominio=''\n",
    "    if 'Año Modelo:'in datos:\n",
    "        Modelo=datos[datos.index('Año Modelo:')+1]\n",
    "    else:\n",
    "        Modelo=''\n",
    "    if 'Convenio:'in datos:\n",
    "        Convenio=datos[datos.index('Convenio:')+1]\n",
    "    else:\n",
    "        Convenio=''\n",
    "    if 'Resultado:'in datos:\n",
    "        Resultado=datos[datos.index('Resultado:')+1]\n",
    "    else:\n",
    "        Resultado=''\n",
    "\n",
    "\n",
    "    rows.append({'Planilla':Planilla,\n",
    "     'Dominio:':Dominio,\n",
    "     'Modelo':Modelo,\n",
    "     'Convenio:':Convenio,\n",
    "     'Resultado':Resultado\n",
    "    })#make dict "
   ]
  },
  {
   "cell_type": "markdown",
   "id": "0d72d73e",
   "metadata": {},
   "source": [
    "Crear lista de anomalias:Para cada anomalia es una fila"
   ]
  },
  {
   "cell_type": "code",
   "execution_count": 12,
   "id": "690c566b",
   "metadata": {},
   "outputs": [],
   "source": [
    "def create_rows_anomalias(nro_planilla):\n",
    "    global df_anomalias\n",
    "    global rows_anomalias\n",
    "    if len(datos_anomalias)>0:\n",
    "        a=int(0)\n",
    "        for i in range (0,int((len(datos_anomalias))/4)):\n",
    "            rows_anomalias.append([nro_planilla,datos_anomalias[a],datos_anomalias[a+1],datos_anomalias[a+2],datos_anomalias[a+3]])\n",
    "            a+=int(4)\n",
    "    else:\n",
    "        rows_anomalias.append([nro_planilla,None,None,None,None])"
   ]
  },
  {
   "cell_type": "markdown",
   "id": "90bd7cc2",
   "metadata": {},
   "source": [
    "Crear dataframe (df) de detalles "
   ]
  },
  {
   "cell_type": "code",
   "execution_count": 13,
   "id": "6d70be33",
   "metadata": {},
   "outputs": [],
   "source": [
    "def create_df_detalles():# returns a dataframe df \n",
    "    global df \n",
    "    df=pd.DataFrame(rows)\n",
    "    return(df)"
   ]
  },
  {
   "cell_type": "markdown",
   "id": "26fdd3b9",
   "metadata": {},
   "source": [
    "Crear dataframe (df_anomalias) de anomalias"
   ]
  },
  {
   "cell_type": "code",
   "execution_count": 14,
   "id": "fe80fdbf",
   "metadata": {},
   "outputs": [],
   "source": [
    "def create_df_anomalias():# returns a dataframe df \n",
    "    global columns_anomalias\n",
    "    global df_anomalias \n",
    "    columns_anomalias=['Planilla','Código','Gravedad','Descripción','Observaciones']\n",
    "    df_anomalias=pd.DataFrame()\n",
    "    df_anomalias=pd.DataFrame(rows_anomalias,columns=columns_anomalias)\n",
    "    return(df_anomalias)"
   ]
  },
  {
   "cell_type": "markdown",
   "id": "e440578a",
   "metadata": {},
   "source": [
    "Utilizando las funciones anteriores. las unimos en una unica funcion. Iteramos en la lista de Nroplanillas y nroTaller"
   ]
  },
  {
   "cell_type": "markdown",
   "id": "ef7d9774",
   "metadata": {},
   "source": [
    "#  FUNCION SCRAPE"
   ]
  },
  {
   "cell_type": "code",
   "execution_count": 15,
   "id": "fd76b143",
   "metadata": {},
   "outputs": [],
   "source": [
    "def scrape(lista_planillas):\n",
    "    global rows\n",
    "    global rows_anomalias\n",
    "    rows=[]\n",
    "    rows_anomalias=[] \n",
    "    tag='label'#tag detalles planilla  \n",
    "    tag_anomalias='td'#tag anomalias\n",
    "    for i in tqdm(lista_planillas):\n",
    "        get_detalles(str(i[0]),str(i[1]),str(i[2]))\n",
    "        clean_data(tag)\n",
    "        create_rows_detalles()\n",
    "        clean_data_anomalias(tag_anomalias)\n",
    "        create_rows_anomalias(i[0])\n",
    "    create_df_detalles()# returns dataframe df\n",
    "    create_df_anomalias()#returns dataframe df_anomalias de anomalias \n",
    "    return([df['Planilla'].nunique(),df_anomalias['Planilla'].nunique()])"
   ]
  },
  {
   "cell_type": "code",
   "execution_count": 16,
   "id": "1d0086a7",
   "metadata": {},
   "outputs": [],
   "source": [
    "def scrape_test(lista_planillas):\n",
    "    global rows\n",
    "    global rows_anomalias\n",
    "    rows=[]\n",
    "    rows_anomalias=[] \n",
    "    tag='label'#tag detalles planilla  \n",
    "    tag_anomalias='td'#tag anomalias\n",
    "    for nro_planilla in tqdm(lista_planillas):\n",
    "        get_detalles(nro_planilla[0],str(nro_planilla[1]))\n",
    "        clean_data(tag)\n",
    "        create_rows_detalles()\n",
    "        clean_data_anomalias(tag_anomalias)\n",
    "        create_rows_anomalias(nro_planilla[0])\n",
    "    create_df_detalles()# returns dataframe df\n",
    "    create_df_anomalias()#returns dataframe df_anomalias de anomalias \n",
    "    return([df['Planilla'].nunique(),df_anomalias['Planilla'].nunique()])"
   ]
  },
  {
   "cell_type": "markdown",
   "id": "93dddea3",
   "metadata": {},
   "source": [
    "Guardar los dataframes en archivos .csv"
   ]
  },
  {
   "cell_type": "code",
   "execution_count": 17,
   "id": "a87bfae5",
   "metadata": {},
   "outputs": [],
   "source": [
    "def to_csv(num):\n",
    "    filename=str(num)+'planillas.detalle'\n",
    "    df.to_csv(filename)\n",
    "    filename2=str(num)+'Anomalias'\n",
    "    df_anomalias.to_csv(filename2)"
   ]
  },
  {
   "cell_type": "markdown",
   "id": "c0027cdb",
   "metadata": {},
   "source": [
    "Dividimos la lista de planillas en N listas. En caso de error no perdemos todo "
   ]
  },
  {
   "cell_type": "code",
   "execution_count": 18,
   "id": "4cb6b2e7",
   "metadata": {},
   "outputs": [],
   "source": [
    "def div_lista(lista,part):\n",
    "    global lista_part\n",
    "    n=int(len(lista)/part)\n",
    "    lista_part=[lista[i:i+n]for i in range(0,len(lista),n)]\n",
    "    return(lista_part)\n",
    "    \n",
    "    "
   ]
  },
  {
   "cell_type": "markdown",
   "id": "c1a33856",
   "metadata": {},
   "source": [
    "Definimos una nueva funcion Scrape que crea un csv por cada particion de la lista de planillas. Esto nos ayuda a no tener que comenzar de 0 si el server se cae o se corta internet "
   ]
  },
  {
   "cell_type": "code",
   "execution_count": 19,
   "id": "fe9d4abd",
   "metadata": {},
   "outputs": [],
   "source": [
    "def scrape_part(lista,part,start):\n",
    "    div_lista(lista,part)\n",
    "    for i in tqdm(range(0+start,part)):\n",
    "        scrape(lista_part[i])\n",
    "        to_csv(i)\n"
   ]
  },
  {
   "cell_type": "markdown",
   "id": "52bdd9fc",
   "metadata": {},
   "source": [
    "Definimos una funcion para unir los archivos csv en un unico Dataframe y guardar como csv"
   ]
  },
  {
   "cell_type": "code",
   "execution_count": 20,
   "id": "7c100078",
   "metadata": {},
   "outputs": [],
   "source": [
    "def join_csv(part):\n",
    "    global df_det\n",
    "    global detalles\n",
    "    global df_anom\n",
    "    global anomalias\n",
    "    detalles=pd.DataFrame()\n",
    "    anomalias=pd.DataFrame()\n",
    "    for i in range(0,part):\n",
    "        df_det=pd.read_csv(str(i)+'planillas.detalle',index_col=0)\n",
    "        detalles=pd.concat([detalles,df_det])\n",
    "        df_anom=pd.read_csv(str(i)+'Anomalias',index_col=0)\n",
    "        anomalias=pd.concat([anomalias,df_anom])        \n",
    "    detalles.to_csv('0.0.planillas.detalle.COMPLETE')\n",
    "    anomalias.to_csv('0.0.Anomalias.COMPLETE')\n",
    "    \n"
   ]
  },
  {
   "cell_type": "markdown",
   "id": "0b078414",
   "metadata": {},
   "source": [
    "# Actualizar cookie"
   ]
  },
  {
   "cell_type": "code",
   "execution_count": 21,
   "id": "24d92904",
   "metadata": {},
   "outputs": [],
   "source": [
    "cookie=\"JSESSIONID=6B255F63B411B029C38BC4B028E1ECC4\""
   ]
  },
  {
   "cell_type": "markdown",
   "id": "f5925b68",
   "metadata": {},
   "source": [
    "# Lista de planillas para test"
   ]
  },
  {
   "cell_type": "code",
   "execution_count": 22,
   "id": "34616ff8",
   "metadata": {},
   "outputs": [],
   "source": [
    "planillas_lista=planillas_hist.loc[:,['Planilla','Taller','Versión RTO']]"
   ]
  },
  {
   "cell_type": "code",
   "execution_count": 23,
   "id": "c8c04cc1",
   "metadata": {
    "scrolled": true
   },
   "outputs": [],
   "source": [
    "planillas_lista=planillas_lista.values.tolist()"
   ]
  },
  {
   "cell_type": "code",
   "execution_count": 24,
   "id": "42a4f83b",
   "metadata": {
    "scrolled": true
   },
   "outputs": [
    {
     "data": {
      "text/plain": [
       "[[1173505, 4, 2014],\n",
       " [1124182, 4, 2014],\n",
       " [1053004, 65, 2014],\n",
       " [1154432, 4, 2014],\n",
       " [1066213, 65, 2014]]"
      ]
     },
     "execution_count": 24,
     "metadata": {},
     "output_type": "execute_result"
    }
   ],
   "source": [
    "planillas_lista=planillas_lista[:5]\n",
    "planillas_lista"
   ]
  },
  {
   "cell_type": "code",
   "execution_count": 25,
   "id": "6b91d2de",
   "metadata": {},
   "outputs": [
    {
     "data": {
      "text/plain": [
       "[[[1173505, 4, 2014], [1124182, 4, 2014]],\n",
       " [[1053004, 65, 2014], [1154432, 4, 2014]],\n",
       " [[1066213, 65, 2014]]]"
      ]
     },
     "execution_count": 25,
     "metadata": {},
     "output_type": "execute_result"
    }
   ],
   "source": [
    "div_lista(planillas_lista,2)"
   ]
  },
  {
   "cell_type": "code",
   "execution_count": 26,
   "id": "67f5e03d",
   "metadata": {
    "scrolled": true
   },
   "outputs": [
    {
     "data": {
      "application/vnd.jupyter.widget-view+json": {
       "model_id": "9ace850427f94bcf8450e039edd74803",
       "version_major": 2,
       "version_minor": 0
      },
      "text/plain": [
       "  0%|          | 0/2 [00:00<?, ?it/s]"
      ]
     },
     "metadata": {},
     "output_type": "display_data"
    },
    {
     "data": {
      "application/vnd.jupyter.widget-view+json": {
       "model_id": "80c61190bfd44846824fa20119352cea",
       "version_major": 2,
       "version_minor": 0
      },
      "text/plain": [
       "  0%|          | 0/2 [00:00<?, ?it/s]"
      ]
     },
     "metadata": {},
     "output_type": "display_data"
    },
    {
     "data": {
      "application/vnd.jupyter.widget-view+json": {
       "model_id": "d1487761ea6248e8b7546f13778895cf",
       "version_major": 2,
       "version_minor": 0
      },
      "text/plain": [
       "  0%|          | 0/2 [00:00<?, ?it/s]"
      ]
     },
     "metadata": {},
     "output_type": "display_data"
    }
   ],
   "source": [
    "scrape_part(planillas_lista,2,0)"
   ]
  },
  {
   "cell_type": "code",
   "execution_count": 27,
   "id": "167cee93",
   "metadata": {},
   "outputs": [
    {
     "data": {
      "text/html": [
       "<div>\n",
       "<style scoped>\n",
       "    .dataframe tbody tr th:only-of-type {\n",
       "        vertical-align: middle;\n",
       "    }\n",
       "\n",
       "    .dataframe tbody tr th {\n",
       "        vertical-align: top;\n",
       "    }\n",
       "\n",
       "    .dataframe thead th {\n",
       "        text-align: right;\n",
       "    }\n",
       "</style>\n",
       "<table border=\"1\" class=\"dataframe\">\n",
       "  <thead>\n",
       "    <tr style=\"text-align: right;\">\n",
       "      <th></th>\n",
       "      <th>Planilla</th>\n",
       "      <th>Dominio:</th>\n",
       "      <th>Modelo</th>\n",
       "      <th>Convenio:</th>\n",
       "      <th>Resultado</th>\n",
       "    </tr>\n",
       "  </thead>\n",
       "  <tbody>\n",
       "    <tr>\n",
       "      <th>0</th>\n",
       "      <td>1053004</td>\n",
       "      <td>AA000HG</td>\n",
       "      <td>2016</td>\n",
       "      <td>UP Nacional(Nacional-Argentina)</td>\n",
       "      <td>Apto</td>\n",
       "    </tr>\n",
       "    <tr>\n",
       "      <th>1</th>\n",
       "      <td>1154432</td>\n",
       "      <td>AA001GK</td>\n",
       "      <td>2016</td>\n",
       "      <td>UP Chaco(Provincial-Chaco)</td>\n",
       "      <td>Apto</td>\n",
       "    </tr>\n",
       "  </tbody>\n",
       "</table>\n",
       "</div>"
      ],
      "text/plain": [
       "  Planilla Dominio: Modelo                        Convenio: Resultado\n",
       "0  1053004  AA000HG   2016  UP Nacional(Nacional-Argentina)      Apto\n",
       "1  1154432  AA001GK   2016       UP Chaco(Provincial-Chaco)      Apto"
      ]
     },
     "execution_count": 27,
     "metadata": {},
     "output_type": "execute_result"
    }
   ],
   "source": [
    "df"
   ]
  },
  {
   "cell_type": "code",
   "execution_count": 28,
   "id": "f665104e",
   "metadata": {},
   "outputs": [
    {
     "data": {
      "text/html": [
       "<div>\n",
       "<style scoped>\n",
       "    .dataframe tbody tr th:only-of-type {\n",
       "        vertical-align: middle;\n",
       "    }\n",
       "\n",
       "    .dataframe tbody tr th {\n",
       "        vertical-align: top;\n",
       "    }\n",
       "\n",
       "    .dataframe thead th {\n",
       "        text-align: right;\n",
       "    }\n",
       "</style>\n",
       "<table border=\"1\" class=\"dataframe\">\n",
       "  <thead>\n",
       "    <tr style=\"text-align: right;\">\n",
       "      <th></th>\n",
       "      <th>Planilla</th>\n",
       "      <th>Código</th>\n",
       "      <th>Gravedad</th>\n",
       "      <th>Descripción</th>\n",
       "      <th>Observaciones</th>\n",
       "    </tr>\n",
       "  </thead>\n",
       "  <tbody>\n",
       "    <tr>\n",
       "      <th>0</th>\n",
       "      <td>1053004</td>\n",
       "      <td>09010302</td>\n",
       "      <td>L</td>\n",
       "      <td>Carrocería &gt; Exterior &gt; Chapa Patente &gt; Faltan...</td>\n",
       "      <td>ESTADO</td>\n",
       "    </tr>\n",
       "    <tr>\n",
       "      <th>1</th>\n",
       "      <td>1154432</td>\n",
       "      <td>09010302</td>\n",
       "      <td>L</td>\n",
       "      <td>Carrocería &gt; Exterior &gt; Chapa Patente &gt; Patent...</td>\n",
       "      <td>CHAPA DELANTERA</td>\n",
       "    </tr>\n",
       "  </tbody>\n",
       "</table>\n",
       "</div>"
      ],
      "text/plain": [
       "   Planilla    Código Gravedad  \\\n",
       "0   1053004  09010302        L   \n",
       "1   1154432  09010302        L   \n",
       "\n",
       "                                         Descripción    Observaciones  \n",
       "0  Carrocería > Exterior > Chapa Patente > Faltan...           ESTADO  \n",
       "1  Carrocería > Exterior > Chapa Patente > Patent...  CHAPA DELANTERA  "
      ]
     },
     "execution_count": 28,
     "metadata": {},
     "output_type": "execute_result"
    }
   ],
   "source": [
    "df_anomalias"
   ]
  },
  {
   "cell_type": "code",
   "execution_count": 29,
   "id": "5ce3d444",
   "metadata": {},
   "outputs": [],
   "source": [
    "join_csv(2)"
   ]
  },
  {
   "cell_type": "code",
   "execution_count": 30,
   "id": "d2495e73",
   "metadata": {},
   "outputs": [
    {
     "data": {
      "text/html": [
       "<div>\n",
       "<style scoped>\n",
       "    .dataframe tbody tr th:only-of-type {\n",
       "        vertical-align: middle;\n",
       "    }\n",
       "\n",
       "    .dataframe tbody tr th {\n",
       "        vertical-align: top;\n",
       "    }\n",
       "\n",
       "    .dataframe thead th {\n",
       "        text-align: right;\n",
       "    }\n",
       "</style>\n",
       "<table border=\"1\" class=\"dataframe\">\n",
       "  <thead>\n",
       "    <tr style=\"text-align: right;\">\n",
       "      <th></th>\n",
       "      <th>Planilla</th>\n",
       "      <th>Dominio:</th>\n",
       "      <th>Modelo</th>\n",
       "      <th>Convenio:</th>\n",
       "      <th>Resultado</th>\n",
       "    </tr>\n",
       "  </thead>\n",
       "  <tbody>\n",
       "    <tr>\n",
       "      <th>0</th>\n",
       "      <td>1173505</td>\n",
       "      <td>AA000HG</td>\n",
       "      <td>2016</td>\n",
       "      <td>UP Chaco(Provincial-Chaco)</td>\n",
       "      <td>Apto</td>\n",
       "    </tr>\n",
       "    <tr>\n",
       "      <th>1</th>\n",
       "      <td>1124182</td>\n",
       "      <td>AA000HG</td>\n",
       "      <td>2016</td>\n",
       "      <td>UP Chaco(Provincial-Chaco)</td>\n",
       "      <td>Apto</td>\n",
       "    </tr>\n",
       "    <tr>\n",
       "      <th>0</th>\n",
       "      <td>1053004</td>\n",
       "      <td>AA000HG</td>\n",
       "      <td>2016</td>\n",
       "      <td>UP Nacional(Nacional-Argentina)</td>\n",
       "      <td>Apto</td>\n",
       "    </tr>\n",
       "    <tr>\n",
       "      <th>1</th>\n",
       "      <td>1154432</td>\n",
       "      <td>AA001GK</td>\n",
       "      <td>2016</td>\n",
       "      <td>UP Chaco(Provincial-Chaco)</td>\n",
       "      <td>Apto</td>\n",
       "    </tr>\n",
       "  </tbody>\n",
       "</table>\n",
       "</div>"
      ],
      "text/plain": [
       "   Planilla Dominio:  Modelo                        Convenio: Resultado\n",
       "0   1173505  AA000HG    2016       UP Chaco(Provincial-Chaco)      Apto\n",
       "1   1124182  AA000HG    2016       UP Chaco(Provincial-Chaco)      Apto\n",
       "0   1053004  AA000HG    2016  UP Nacional(Nacional-Argentina)      Apto\n",
       "1   1154432  AA001GK    2016       UP Chaco(Provincial-Chaco)      Apto"
      ]
     },
     "execution_count": 30,
     "metadata": {},
     "output_type": "execute_result"
    }
   ],
   "source": [
    "detalles"
   ]
  },
  {
   "cell_type": "code",
   "execution_count": 31,
   "id": "218065c4",
   "metadata": {},
   "outputs": [
    {
     "data": {
      "text/html": [
       "<div>\n",
       "<style scoped>\n",
       "    .dataframe tbody tr th:only-of-type {\n",
       "        vertical-align: middle;\n",
       "    }\n",
       "\n",
       "    .dataframe tbody tr th {\n",
       "        vertical-align: top;\n",
       "    }\n",
       "\n",
       "    .dataframe thead th {\n",
       "        text-align: right;\n",
       "    }\n",
       "</style>\n",
       "<table border=\"1\" class=\"dataframe\">\n",
       "  <thead>\n",
       "    <tr style=\"text-align: right;\">\n",
       "      <th></th>\n",
       "      <th>Planilla</th>\n",
       "      <th>Código</th>\n",
       "      <th>Gravedad</th>\n",
       "      <th>Descripción</th>\n",
       "      <th>Observaciones</th>\n",
       "    </tr>\n",
       "  </thead>\n",
       "  <tbody>\n",
       "    <tr>\n",
       "      <th>0</th>\n",
       "      <td>1173505</td>\n",
       "      <td>20502</td>\n",
       "      <td>L</td>\n",
       "      <td>Tren Delantero, Tren Trasero, Suspensión &gt; Amo...</td>\n",
       "      <td>AMORTIGUADORES TRASEROS</td>\n",
       "    </tr>\n",
       "    <tr>\n",
       "      <th>1</th>\n",
       "      <td>1173505</td>\n",
       "      <td>20506</td>\n",
       "      <td>L</td>\n",
       "      <td>Tren Delantero, Tren Trasero, Suspensión &gt; Amo...</td>\n",
       "      <td>AMORTIGUADORES TRASEROS</td>\n",
       "    </tr>\n",
       "    <tr>\n",
       "      <th>2</th>\n",
       "      <td>1173505</td>\n",
       "      <td>9010302</td>\n",
       "      <td>L</td>\n",
       "      <td>Carrocería &gt; Exterior &gt; Chapa Patente &gt; Patent...</td>\n",
       "      <td>Patente en mal estado TRASERA</td>\n",
       "    </tr>\n",
       "    <tr>\n",
       "      <th>3</th>\n",
       "      <td>1124182</td>\n",
       "      <td>9010302</td>\n",
       "      <td>L</td>\n",
       "      <td>Carrocería &gt; Exterior &gt; Chapa Patente &gt; Patent...</td>\n",
       "      <td>TRASERA</td>\n",
       "    </tr>\n",
       "    <tr>\n",
       "      <th>0</th>\n",
       "      <td>1053004</td>\n",
       "      <td>9010302</td>\n",
       "      <td>L</td>\n",
       "      <td>Carrocería &gt; Exterior &gt; Chapa Patente &gt; Faltan...</td>\n",
       "      <td>ESTADO</td>\n",
       "    </tr>\n",
       "    <tr>\n",
       "      <th>1</th>\n",
       "      <td>1154432</td>\n",
       "      <td>9010302</td>\n",
       "      <td>L</td>\n",
       "      <td>Carrocería &gt; Exterior &gt; Chapa Patente &gt; Patent...</td>\n",
       "      <td>CHAPA DELANTERA</td>\n",
       "    </tr>\n",
       "  </tbody>\n",
       "</table>\n",
       "</div>"
      ],
      "text/plain": [
       "   Planilla   Código Gravedad  \\\n",
       "0   1173505    20502        L   \n",
       "1   1173505    20506        L   \n",
       "2   1173505  9010302        L   \n",
       "3   1124182  9010302        L   \n",
       "0   1053004  9010302        L   \n",
       "1   1154432  9010302        L   \n",
       "\n",
       "                                         Descripción  \\\n",
       "0  Tren Delantero, Tren Trasero, Suspensión > Amo...   \n",
       "1  Tren Delantero, Tren Trasero, Suspensión > Amo...   \n",
       "2  Carrocería > Exterior > Chapa Patente > Patent...   \n",
       "3  Carrocería > Exterior > Chapa Patente > Patent...   \n",
       "0  Carrocería > Exterior > Chapa Patente > Faltan...   \n",
       "1  Carrocería > Exterior > Chapa Patente > Patent...   \n",
       "\n",
       "                   Observaciones  \n",
       "0        AMORTIGUADORES TRASEROS  \n",
       "1        AMORTIGUADORES TRASEROS  \n",
       "2  Patente en mal estado TRASERA  \n",
       "3                        TRASERA  \n",
       "0                         ESTADO  \n",
       "1                CHAPA DELANTERA  "
      ]
     },
     "execution_count": 31,
     "metadata": {},
     "output_type": "execute_result"
    }
   ],
   "source": [
    "anomalias"
   ]
  },
  {
   "cell_type": "markdown",
   "id": "a069ecac",
   "metadata": {},
   "source": [
    "# Scrape completo"
   ]
  },
  {
   "cell_type": "code",
   "execution_count": 32,
   "id": "fac6006c",
   "metadata": {},
   "outputs": [
    {
     "data": {
      "text/plain": [
       "Planilla  Taller  Versión RTO\n",
       "14        249     2003           1\n",
       "1137639   123     2014           1\n",
       "1137618   124     2014           1\n",
       "1137619   4       2014           1\n",
       "1137620   4       2014           1\n",
       "                                ..\n",
       "1065672   50      2014           1\n",
       "1065673   4       2014           1\n",
       "1065674   4       2014           1\n",
       "1065675   4       2014           1\n",
       "1322406   129     2014           1\n",
       "Length: 265724, dtype: int64"
      ]
     },
     "execution_count": 32,
     "metadata": {},
     "output_type": "execute_result"
    }
   ],
   "source": [
    "planillas_lista=planillas_hist.loc[:,['Planilla','Taller','Versión RTO']] #numero de planillas: 265738\n",
    "planillas_lista.drop_duplicates(inplace=True)#numero de planillas 265724\n",
    "planillas_lista.value_counts()"
   ]
  },
  {
   "cell_type": "code",
   "execution_count": 33,
   "id": "39f41326",
   "metadata": {
    "scrolled": true
   },
   "outputs": [],
   "source": [
    "planillas_lista=planillas_lista.values.tolist()"
   ]
  },
  {
   "cell_type": "code",
   "execution_count": 35,
   "id": "8f361a6c",
   "metadata": {
    "scrolled": true
   },
   "outputs": [
    {
     "data": {
      "text/plain": [
       "265724"
      ]
     },
     "execution_count": 35,
     "metadata": {},
     "output_type": "execute_result"
    }
   ],
   "source": [
    "len(planillas_lista)"
   ]
  },
  {
   "cell_type": "code",
   "execution_count": 36,
   "id": "005a077a",
   "metadata": {
    "scrolled": true
   },
   "outputs": [
    {
     "data": {
      "application/vnd.jupyter.widget-view+json": {
       "model_id": "a15eceac05ee4306b27e869c9daa740e",
       "version_major": 2,
       "version_minor": 0
      },
      "text/plain": [
       "  0%|          | 0/4 [00:00<?, ?it/s]"
      ]
     },
     "metadata": {},
     "output_type": "display_data"
    },
    {
     "data": {
      "application/vnd.jupyter.widget-view+json": {
       "model_id": "63c2e8ab9dba4d0e8dd868fdc443da2c",
       "version_major": 2,
       "version_minor": 0
      },
      "text/plain": [
       "  0%|          | 0/2657 [00:00<?, ?it/s]"
      ]
     },
     "metadata": {},
     "output_type": "display_data"
    },
    {
     "data": {
      "application/vnd.jupyter.widget-view+json": {
       "model_id": "4527e8b0d8fe4712a2e7c42777cebcd1",
       "version_major": 2,
       "version_minor": 0
      },
      "text/plain": [
       "  0%|          | 0/2657 [00:00<?, ?it/s]"
      ]
     },
     "metadata": {},
     "output_type": "display_data"
    },
    {
     "data": {
      "application/vnd.jupyter.widget-view+json": {
       "model_id": "22d59477c060443aa7d5b44eb1e3c6fe",
       "version_major": 2,
       "version_minor": 0
      },
      "text/plain": [
       "  0%|          | 0/2657 [00:00<?, ?it/s]"
      ]
     },
     "metadata": {},
     "output_type": "display_data"
    },
    {
     "data": {
      "application/vnd.jupyter.widget-view+json": {
       "model_id": "70b4c0ee68a4464ab4f260010e13d0aa",
       "version_major": 2,
       "version_minor": 0
      },
      "text/plain": [
       "  0%|          | 0/2657 [00:00<?, ?it/s]"
      ]
     },
     "metadata": {},
     "output_type": "display_data"
    }
   ],
   "source": [
    "scrape_part(planillas_lista,100,96)"
   ]
  },
  {
   "cell_type": "code",
   "execution_count": 41,
   "id": "9fd2e6bc",
   "metadata": {},
   "outputs": [],
   "source": [
    "join_csv(99)"
   ]
  },
  {
   "cell_type": "markdown",
   "id": "5934866a",
   "metadata": {},
   "source": [
    "# Leer csv completo y analizar"
   ]
  },
  {
   "cell_type": "markdown",
   "id": "b4db3bed",
   "metadata": {},
   "source": [
    "detalles"
   ]
  },
  {
   "cell_type": "code",
   "execution_count": 21,
   "id": "1728dcea",
   "metadata": {
    "scrolled": true
   },
   "outputs": [
    {
     "name": "stdout",
     "output_type": "stream",
     "text": [
      "<class 'pandas.core.frame.DataFrame'>\n",
      "Int64Index: 257733 entries, 0 to 2656\n",
      "Data columns (total 5 columns):\n",
      " #   Column     Non-Null Count   Dtype  \n",
      "---  ------     --------------   -----  \n",
      " 0   Planilla   236324 non-null  float64\n",
      " 1   Dominio:   236324 non-null  object \n",
      " 2   Modelo     236324 non-null  float64\n",
      " 3   Convenio:  236324 non-null  object \n",
      " 4   Resultado  236324 non-null  object \n",
      "dtypes: float64(2), object(3)\n",
      "memory usage: 11.8+ MB\n"
     ]
    }
   ],
   "source": [
    "detalles=pd.read_csv('0.0.planillas.detalle.COMPLETE',index_col=0)\n",
    "detalles.info()"
   ]
  },
  {
   "cell_type": "code",
   "execution_count": 24,
   "id": "f8a930d1-faff-48d3-ada5-3d1fe6fb50f4",
   "metadata": {},
   "outputs": [
    {
     "data": {
      "text/plain": [
       "Planilla     181075\n",
       "Dominio:      73263\n",
       "Modelo           66\n",
       "Convenio:        31\n",
       "Resultado         3\n",
       "dtype: int64"
      ]
     },
     "execution_count": 24,
     "metadata": {},
     "output_type": "execute_result"
    }
   ],
   "source": [
    "detalles.nunique()"
   ]
  },
  {
   "cell_type": "markdown",
   "id": "bacf9634",
   "metadata": {},
   "source": [
    "anomalias"
   ]
  },
  {
   "cell_type": "code",
   "execution_count": 23,
   "id": "00557180",
   "metadata": {},
   "outputs": [
    {
     "name": "stdout",
     "output_type": "stream",
     "text": [
      "<class 'pandas.core.frame.DataFrame'>\n",
      "Int64Index: 6 entries, 0 to 2\n",
      "Data columns (total 5 columns):\n",
      " #   Column         Non-Null Count  Dtype  \n",
      "---  ------         --------------  -----  \n",
      " 0   Planilla       6 non-null      int64  \n",
      " 1   Código         6 non-null      int64  \n",
      " 2   Gravedad       6 non-null      object \n",
      " 3   Descripción    6 non-null      object \n",
      " 4   Observaciones  0 non-null      float64\n",
      "dtypes: float64(1), int64(2), object(2)\n",
      "memory usage: 288.0+ bytes\n"
     ]
    }
   ],
   "source": [
    "anomalias=pd.read_csv('0.0.Anomalias.COMPLETE',index_col=0)\n",
    "anomalias.info()"
   ]
  },
  {
   "cell_type": "code",
   "execution_count": 45,
   "id": "d8a6790f",
   "metadata": {},
   "outputs": [
    {
     "data": {
      "text/plain": [
       "Planilla         199808\n",
       "Código              769\n",
       "Gravedad            151\n",
       "Descripción         737\n",
       "Observaciones     46455\n",
       "dtype: int64"
      ]
     },
     "execution_count": 45,
     "metadata": {},
     "output_type": "execute_result"
    }
   ],
   "source": [
    "anomalias.nunique()"
   ]
  },
  {
   "cell_type": "code",
   "execution_count": null,
   "id": "05235593",
   "metadata": {},
   "outputs": [],
   "source": []
  }
 ],
 "metadata": {
  "kernelspec": {
   "display_name": "Python 3 (ipykernel)",
   "language": "python",
   "name": "python3"
  },
  "language_info": {
   "codemirror_mode": {
    "name": "ipython",
    "version": 3
   },
   "file_extension": ".py",
   "mimetype": "text/x-python",
   "name": "python",
   "nbconvert_exporter": "python",
   "pygments_lexer": "ipython3",
   "version": "3.9.13"
  }
 },
 "nbformat": 4,
 "nbformat_minor": 5
}
